{
 "cells": [
  {
   "cell_type": "markdown",
   "metadata": {},
   "source": [
    "# Recurrent Neural Networks"
   ]
  },
  {
   "cell_type": "markdown",
   "metadata": {},
   "source": [
    "| Date | User | Change Type | Remarks |  \n",
    "| ---- | ---- | ----------- | ------- |\n",
    "| 03/03/25  | Martin | Created   | Skipped Sentiment Classification section, completed Stock price prediction section. Stopped working on this because the dataset is too large | "
   ]
  },
  {
   "cell_type": "markdown",
   "metadata": {
    "vscode": {
     "languageId": "plaintext"
    }
   },
   "source": [
    "# Content\n",
    "\n",
    "* [Open-domain Question Answering](#open-domain-question-answering)"
   ]
  },
  {
   "cell_type": "markdown",
   "metadata": {},
   "source": [
    "# Open-domain Question Answering"
   ]
  },
  {
   "cell_type": "markdown",
   "metadata": {},
   "source": [
    "_Question-answering (QA):_ Emulate the human process of searching for information online, with machine learning methods employed to improve accuracy of the provided answers\n",
    "\n",
    "🎯 Predict long and short responses to questions about Wikipedia articles\n",
    "\n",
    "For each article-question pair -> predict long- and short-form answers to the question drawn directly from the article:\n",
    "\n",
    "* A __long answer__ would be a longer section of text that answers the question - several sentences or a paragraph\n",
    "* A __short answer__ might be a sentence or phrase. Always contained within, or a subset of, one of the plausible long answers\n",
    "* Mostly articles can have both long and short answers"
   ]
  },
  {
   "cell_type": "code",
   "execution_count": null,
   "metadata": {},
   "outputs": [
    {
     "name": "stderr",
     "output_type": "stream",
     "text": [
      "2025-03-03 17:27:04.447785: I tensorflow/core/util/port.cc:153] oneDNN custom operations are on. You may see slightly different numerical results due to floating-point round-off errors from different computation orders. To turn them off, set the environment variable `TF_ENABLE_ONEDNN_OPTS=0`.\n",
      "2025-03-03 17:27:06.376809: E external/local_xla/xla/stream_executor/cuda/cuda_fft.cc:477] Unable to register cuFFT factory: Attempting to register factory for plugin cuFFT when one has already been registered\n",
      "WARNING: All log messages before absl::InitializeLog() is called are written to STDERR\n",
      "E0000 00:00:1740994027.170684    3549 cuda_dnn.cc:8310] Unable to register cuDNN factory: Attempting to register factory for plugin cuDNN when one has already been registered\n",
      "E0000 00:00:1740994027.377090    3549 cuda_blas.cc:1418] Unable to register cuBLAS factory: Attempting to register factory for plugin cuBLAS when one has already been registered\n",
      "2025-03-03 17:27:08.880953: I tensorflow/core/platform/cpu_feature_guard.cc:210] This TensorFlow binary is optimized to use available CPU instructions in performance-critical operations.\n",
      "To enable the following instructions: AVX2 AVX_VNNI FMA, in other operations, rebuild TensorFlow with the appropriate compiler flags.\n"
     ]
    }
   ],
   "source": [
    "import os\n",
    "import json\n",
    "import gc\n",
    "import pickle\n",
    "\n",
    "import numpy as np\n",
    "import pandas as pd\n",
    "import fasttext\n",
    "\n",
    "from tqdm import tqdm_notebook as tqdm\n",
    "\n",
    "from tensorflow.keras.models import Model\n",
    "from tensorflow.keras.layers import Input, Dense, Embedding, SpatialDropout1D, concatenate, Masking\n",
    "from tensorflow.keras.layers import  LSTM, Bidirectional, GlobalMaxPooling1D, Dropout\n",
    "from tensorflow.keras.preprocessing import text, sequence\n",
    "from tensorflow.keras.models import load_model"
   ]
  },
  {
   "cell_type": "code",
   "execution_count": 9,
   "metadata": {},
   "outputs": [],
   "source": [
    "def build_train(\n",
    "  train_path: str, \n",
    "  n_rows: int=200000,\n",
    "  sampling_rate: int=15\n",
    "):\n",
    "  \"\"\"\n",
    "  Creates the training data by performing data preprocessing to separate the long answers,\n",
    "  short answers and annotations.\n",
    "\n",
    "  Args:\n",
    "      train_path (str): path to raw data text\n",
    "      n_rows (int, optional): Number of training samples to create. Defaults to 200000.\n",
    "      sampling_rate (int, optional): _description_. Defaults to 15.\n",
    "  \n",
    "  Returns:\n",
    "      pd.DataFrame: training dataframe\n",
    "  \"\"\"\n",
    "  with open(train_path) as f:\n",
    "    processed_rows = []\n",
    "\n",
    "    for i in tqdm(range(n_rows)):\n",
    "      line = f.readline()\n",
    "      if not line:\n",
    "        break\n",
    "\n",
    "      # Each line is a json object, so we load it as is\n",
    "      line = json.loads(line)\n",
    "\n",
    "      text = line['document_text'].split(' ') # separate into words\n",
    "      question = line['question_text']\n",
    "      annotations = line['annotations'][0]\n",
    "\n",
    "      for i, candidate in enumerate(line['long_answer_candidate']):\n",
    "        label = i == annotations['long_answer']['candidate_index']\n",
    "\n",
    "        start = candidate['start_token']\n",
    "        end = candidate['end_token']\n",
    "\n",
    "        if label or (i % sampling_rate == 0):\n",
    "          processed_rows.append({\n",
    "            'text': \" \".join(text[start:end]),\n",
    "            'is_long_answer': label,\n",
    "            'question': question,\n",
    "            'annotation_id': annotations['annotation_id']\n",
    "          })\n",
    "    \n",
    "    train = pd.DataFrame(processed_rows)\n",
    "\n",
    "    return train"
   ]
  },
  {
   "cell_type": "markdown",
   "metadata": {},
   "source": [
    "Due to size of dataframe, stopped working on this recipe"
   ]
  },
  {
   "cell_type": "code",
   "execution_count": null,
   "metadata": {},
   "outputs": [],
   "source": []
  },
  {
   "cell_type": "code",
   "execution_count": null,
   "metadata": {},
   "outputs": [],
   "source": []
  },
  {
   "cell_type": "code",
   "execution_count": null,
   "metadata": {},
   "outputs": [],
   "source": []
  },
  {
   "cell_type": "code",
   "execution_count": null,
   "metadata": {},
   "outputs": [],
   "source": []
  },
  {
   "cell_type": "code",
   "execution_count": null,
   "metadata": {},
   "outputs": [],
   "source": []
  },
  {
   "cell_type": "code",
   "execution_count": null,
   "metadata": {},
   "outputs": [],
   "source": []
  },
  {
   "cell_type": "code",
   "execution_count": null,
   "metadata": {},
   "outputs": [],
   "source": []
  }
 ],
 "metadata": {
  "kernelspec": {
   "display_name": "py310_env",
   "language": "python",
   "name": "python3"
  },
  "language_info": {
   "codemirror_mode": {
    "name": "ipython",
    "version": 3
   },
   "file_extension": ".py",
   "mimetype": "text/x-python",
   "name": "python",
   "nbconvert_exporter": "python",
   "pygments_lexer": "ipython3",
   "version": "3.10.12"
  }
 },
 "nbformat": 4,
 "nbformat_minor": 2
}
