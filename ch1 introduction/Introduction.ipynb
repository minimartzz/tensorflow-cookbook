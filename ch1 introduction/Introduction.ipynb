{
 "cells": [
  {
   "cell_type": "markdown",
   "metadata": {},
   "source": [
    "# 1. Getting Started with Tensorflow"
   ]
  },
  {
   "cell_type": "markdown",
   "metadata": {},
   "source": [
    "| Date | User | Change Type | Remarks |  \n",
    "| ---- | ---- | ----------- | ------- |\n",
    "| 03/09/2024   | Martin | Created   | Started chapter 1 | "
   ]
  },
  {
   "cell_type": "markdown",
   "metadata": {
    "vscode": {
     "languageId": "plaintext"
    }
   },
   "source": [
    "# Content\n",
    "\n",
    "* [Introduction](#introduction)"
   ]
  },
  {
   "cell_type": "markdown",
   "metadata": {},
   "source": [
    "# Introduction"
   ]
  },
  {
   "cell_type": "markdown",
   "metadata": {},
   "source": [
    "General workflow of Tensorflow:\n",
    "\n",
    "1. Import or generate datasets\n",
    "2. Transform and normalize data\n",
    "3. Partition datasets into training, test and validation sets\n",
    "4. Set algorithm parameters (hyperparameters)\n",
    "5. Initialize variables\n",
    "6. Define the model structure\n",
    "7. Declare loss function\n",
    "8. Initialise and train the model\n",
    "9. Evaluate the model\n",
    "10. Tune hyper parameters\n",
    "11. Deploy/ predict new outcomes"
   ]
  },
  {
   "cell_type": "code",
   "execution_count": 13,
   "metadata": {},
   "outputs": [
    {
     "name": "stdout",
     "output_type": "stream",
     "text": [
      "final loss is: 0.313\n",
      "real label: 0 | fitted: 0\n",
      "real label: 1 | fitted: 1\n",
      "real label: 1 | fitted: 2\n",
      "real label: 2 | fitted: 1\n",
      "real label: 2 | fitted: 2\n",
      "real label: 2 | fitted: 2\n",
      "real label: 0 | fitted: 0\n",
      "real label: 2 | fitted: 2\n",
      "real label: 1 | fitted: 1\n",
      "real label: 2 | fitted: 2\n",
      "real label: 1 | fitted: 2\n",
      "real label: 0 | fitted: 0\n",
      "real label: 1 | fitted: 1\n",
      "real label: 0 | fitted: 0\n",
      "real label: 2 | fitted: 2\n",
      "real label: 2 | fitted: 2\n",
      "real label: 0 | fitted: 0\n",
      "real label: 2 | fitted: 2\n",
      "real label: 0 | fitted: 0\n",
      "real label: 1 | fitted: 1\n",
      "real label: 2 | fitted: 2\n",
      "real label: 0 | fitted: 0\n",
      "real label: 2 | fitted: 2\n",
      "real label: 1 | fitted: 1\n",
      "real label: 0 | fitted: 0\n",
      "real label: 0 | fitted: 0\n",
      "real label: 2 | fitted: 2\n",
      "real label: 0 | fitted: 0\n",
      "real label: 1 | fitted: 2\n",
      "real label: 2 | fitted: 2\n",
      "real label: 0 | fitted: 0\n",
      "real label: 2 | fitted: 2\n"
     ]
    }
   ],
   "source": [
    "# 1.\n",
    "import tensorflow as tf\n",
    "import tensorflow_datasets as tfds\n",
    "import numpy as np\n",
    "\n",
    "data = tfds.load(\"iris\", split='train')\n",
    "\n",
    "# 4.\n",
    "epochs = 1000\n",
    "batch_size = 32\n",
    "input_size = 4\n",
    "output_size = 3\n",
    "learning_rate = 0.001\n",
    "\n",
    "# 5.\n",
    "weights = tf.Variable(tf.random.normal(\n",
    "  shape=(input_size, output_size),\n",
    "  dtype=tf.float32\n",
    "))\n",
    "biases = tf.Variable(tf.random.normal(\n",
    "  shape=(output_size,),\n",
    "  dtype=tf.float32\n",
    "))\n",
    "\n",
    "# 8.\n",
    "optimizer = tf.optimizers.SGD(learning_rate)\n",
    "\n",
    "for _ in range(epochs):\n",
    "  # 2.\n",
    "  for batch in data.batch(batch_size, drop_remainder=True):\n",
    "    labels = tf.one_hot(batch['label'], 3)\n",
    "    X = batch['features']\n",
    "    X = (X - np.mean(X) / np.std(X))\n",
    "\n",
    "    with tf.GradientTape() as tape:\n",
    "      # 6.\n",
    "      logits = tf.add(tf.matmul(X, weights), biases) # logistic regression (actually is linear regression first)\n",
    "\n",
    "      # 7.\n",
    "      loss = tf.reduce_mean(\n",
    "        tf.nn.softmax_cross_entropy_with_logits(labels, logits)\n",
    "      )\n",
    "\n",
    "    # 8.\n",
    "    gradients = tape.gradient(loss, [weights, biases])\n",
    "    optimizer.apply_gradients(zip(gradients, [weights, biases]))\n",
    "\n",
    "print(f\"final loss is: {loss.numpy():.3f}\")\n",
    "preds = tf.math.argmax(tf.add(tf.matmul(X, weights), biases), axis=1)\n",
    "ground_truth = tf.math.argmax(labels, axis=1)\n",
    "for y_true, y_pred in zip(ground_truth.numpy(), preds.numpy()):\n",
    "  print(f\"real label: {y_true} | fitted: {y_pred}\")"
   ]
  }
 ],
 "metadata": {
  "kernelspec": {
   "display_name": "Python 3 (ipykernel)",
   "language": "python",
   "name": "python3"
  },
  "language_info": {
   "codemirror_mode": {
    "name": "ipython",
    "version": 3
   },
   "file_extension": ".py",
   "mimetype": "text/x-python",
   "name": "python",
   "nbconvert_exporter": "python",
   "pygments_lexer": "ipython3",
   "version": "3.11.0rc1"
  }
 },
 "nbformat": 4,
 "nbformat_minor": 2
}
