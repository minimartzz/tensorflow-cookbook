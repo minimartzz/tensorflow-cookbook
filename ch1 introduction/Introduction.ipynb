{
 "cells": [
  {
   "cell_type": "markdown",
   "metadata": {},
   "source": [
    "# 1. Getting Started with Tensorflow"
   ]
  },
  {
   "cell_type": "markdown",
   "metadata": {},
   "source": [
    "| Date | User | Change Type | Remarks |  \n",
    "| ---- | ---- | ----------- | ------- |\n",
    "| 03/09/2024   | Martin | Created   | Started chapter 1 | \n",
    "| 09/09/2024   | Martin | Update   | To page 55 - activation functions | "
   ]
  },
  {
   "cell_type": "markdown",
   "metadata": {
    "vscode": {
     "languageId": "plaintext"
    }
   },
   "source": [
    "# Content\n",
    "\n",
    "* [Introduction](#introduction)\n",
    "* [Variables and Tensors](#variables-and-tensors)\n",
    "* [Activation Functions](#activation-functions)\n",
    "* [Tensorflow Under the hood](#tensorflow-under-the-hood)"
   ]
  },
  {
   "cell_type": "code",
   "execution_count": 4,
   "metadata": {},
   "outputs": [],
   "source": [
    "import os\n",
    "os.environ[\"TF_CPP_MIN_LOG_LEVEL\"] = \"3\"\n",
    "import tensorflow as tf"
   ]
  },
  {
   "cell_type": "markdown",
   "metadata": {},
   "source": [
    "# Introduction"
   ]
  },
  {
   "cell_type": "markdown",
   "metadata": {},
   "source": [
    "General workflow of Tensorflow:\n",
    "\n",
    "1. Import or generate datasets\n",
    "2. Transform and normalize data\n",
    "3. Partition datasets into training, test and validation sets\n",
    "4. Set algorithm parameters (hyperparameters)\n",
    "5. Initialize variables\n",
    "6. Define the model structure\n",
    "7. Declare loss function\n",
    "8. Initialise and train the model\n",
    "9. Evaluate the model\n",
    "10. Tune hyper parameters\n",
    "11. Deploy/ predict new outcomes"
   ]
  },
  {
   "cell_type": "code",
   "execution_count": 13,
   "metadata": {},
   "outputs": [
    {
     "name": "stdout",
     "output_type": "stream",
     "text": [
      "final loss is: 0.313\n",
      "real label: 0 | fitted: 0\n",
      "real label: 1 | fitted: 1\n",
      "real label: 1 | fitted: 2\n",
      "real label: 2 | fitted: 1\n",
      "real label: 2 | fitted: 2\n",
      "real label: 2 | fitted: 2\n",
      "real label: 0 | fitted: 0\n",
      "real label: 2 | fitted: 2\n",
      "real label: 1 | fitted: 1\n",
      "real label: 2 | fitted: 2\n",
      "real label: 1 | fitted: 2\n",
      "real label: 0 | fitted: 0\n",
      "real label: 1 | fitted: 1\n",
      "real label: 0 | fitted: 0\n",
      "real label: 2 | fitted: 2\n",
      "real label: 2 | fitted: 2\n",
      "real label: 0 | fitted: 0\n",
      "real label: 2 | fitted: 2\n",
      "real label: 0 | fitted: 0\n",
      "real label: 1 | fitted: 1\n",
      "real label: 2 | fitted: 2\n",
      "real label: 0 | fitted: 0\n",
      "real label: 2 | fitted: 2\n",
      "real label: 1 | fitted: 1\n",
      "real label: 0 | fitted: 0\n",
      "real label: 0 | fitted: 0\n",
      "real label: 2 | fitted: 2\n",
      "real label: 0 | fitted: 0\n",
      "real label: 1 | fitted: 2\n",
      "real label: 2 | fitted: 2\n",
      "real label: 0 | fitted: 0\n",
      "real label: 2 | fitted: 2\n"
     ]
    }
   ],
   "source": [
    "# 1.\n",
    "import tensorflow as tf\n",
    "import tensorflow_datasets as tfds\n",
    "import numpy as np\n",
    "\n",
    "data = tfds.load(\"iris\", split='train')\n",
    "\n",
    "# 4.\n",
    "epochs = 1000\n",
    "batch_size = 32\n",
    "input_size = 4\n",
    "output_size = 3\n",
    "learning_rate = 0.001\n",
    "\n",
    "# 5.\n",
    "weights = tf.Variable(tf.random.normal(\n",
    "  shape=(input_size, output_size),\n",
    "  dtype=tf.float32\n",
    "))\n",
    "biases = tf.Variable(tf.random.normal(\n",
    "  shape=(output_size,),\n",
    "  dtype=tf.float32\n",
    "))\n",
    "\n",
    "# 8.\n",
    "optimizer = tf.optimizers.SGD(learning_rate)\n",
    "\n",
    "for _ in range(epochs):\n",
    "  # 2.\n",
    "  for batch in data.batch(batch_size, drop_remainder=True):\n",
    "    labels = tf.one_hot(batch['label'], 3)\n",
    "    X = batch['features']\n",
    "    X = (X - np.mean(X) / np.std(X))\n",
    "\n",
    "    with tf.GradientTape() as tape:\n",
    "      # 6.\n",
    "      logits = tf.add(tf.matmul(X, weights), biases) # logistic regression (actually is linear regression first)\n",
    "\n",
    "      # 7.\n",
    "      loss = tf.reduce_mean(\n",
    "        tf.nn.softmax_cross_entropy_with_logits(labels, logits)\n",
    "      )\n",
    "\n",
    "    # 8.\n",
    "    gradients = tape.gradient(loss, [weights, biases])\n",
    "    optimizer.apply_gradients(zip(gradients, [weights, biases]))\n",
    "\n",
    "print(f\"final loss is: {loss.numpy():.3f}\")\n",
    "preds = tf.math.argmax(tf.add(tf.matmul(X, weights), biases), axis=1)\n",
    "ground_truth = tf.math.argmax(labels, axis=1)\n",
    "for y_true, y_pred in zip(ground_truth.numpy(), preds.numpy()):\n",
    "  print(f\"real label: {y_true} | fitted: {y_pred}\")"
   ]
  },
  {
   "cell_type": "markdown",
   "metadata": {},
   "source": [
    "Tensorflow computes the changes by creating a computational graph which tracks the steps taken for all operations. Graphs do not use recursion.\n",
    "\n",
    "Tensorflow keeps track of all variables in the computational graph and computes the gradients to minimize the loss"
   ]
  },
  {
   "cell_type": "markdown",
   "metadata": {},
   "source": [
    "# Variables and Tensors\n",
    "\n",
    "All variables are stored as tensors. Even single number/ digits are stored as zero-dimensional tensors"
   ]
  },
  {
   "cell_type": "code",
   "execution_count": 1,
   "metadata": {},
   "outputs": [
    {
     "name": "stderr",
     "output_type": "stream",
     "text": [
      "2024-09-09 14:51:18.603813: I tensorflow/core/util/port.cc:153] oneDNN custom operations are on. You may see slightly different numerical results due to floating-point round-off errors from different computation orders. To turn them off, set the environment variable `TF_ENABLE_ONEDNN_OPTS=0`.\n",
      "2024-09-09 14:51:18.739735: E external/local_xla/xla/stream_executor/cuda/cuda_fft.cc:485] Unable to register cuFFT factory: Attempting to register factory for plugin cuFFT when one has already been registered\n",
      "2024-09-09 14:51:18.802387: E external/local_xla/xla/stream_executor/cuda/cuda_dnn.cc:8454] Unable to register cuDNN factory: Attempting to register factory for plugin cuDNN when one has already been registered\n",
      "2024-09-09 14:51:18.817166: E external/local_xla/xla/stream_executor/cuda/cuda_blas.cc:1452] Unable to register cuBLAS factory: Attempting to register factory for plugin cuBLAS when one has already been registered\n",
      "2024-09-09 14:51:18.916843: I tensorflow/core/platform/cpu_feature_guard.cc:210] This TensorFlow binary is optimized to use available CPU instructions in performance-critical operations.\n",
      "To enable the following instructions: AVX2 AVX_VNNI FMA, in other operations, rebuild TensorFlow with the appropriate compiler flags.\n"
     ]
    }
   ],
   "source": [
    "import tensorflow as tf"
   ]
  },
  {
   "cell_type": "code",
   "execution_count": 5,
   "metadata": {},
   "outputs": [
    {
     "data": {
      "text/plain": [
       "<tf.Tensor: shape=(3, 3), dtype=float32, numpy=\n",
       "array([[1., 1., 1.],\n",
       "       [1., 1., 1.],\n",
       "       [1., 1., 1.]], dtype=float32)>"
      ]
     },
     "execution_count": 5,
     "metadata": {},
     "output_type": "execute_result"
    }
   ],
   "source": [
    "row_dim, col_dim = 3, 3\n",
    "ones_tsr = tf.ones([row_dim, col_dim])\n",
    "ones_tsr"
   ]
  },
  {
   "cell_type": "code",
   "execution_count": 6,
   "metadata": {},
   "outputs": [
    {
     "data": {
      "text/plain": [
       "<tf.Tensor: shape=(3, 3), dtype=int32, numpy=\n",
       "array([[42, 42, 42],\n",
       "       [42, 42, 42],\n",
       "       [42, 42, 42]], dtype=int32)>"
      ]
     },
     "execution_count": 6,
     "metadata": {},
     "output_type": "execute_result"
    }
   ],
   "source": [
    "# or a filled tensor\n",
    "tf.fill([row_dim, col_dim], value=42)"
   ]
  },
  {
   "cell_type": "code",
   "execution_count": 8,
   "metadata": {},
   "outputs": [
    {
     "data": {
      "text/plain": [
       "<tf.Tensor: shape=(3, 3), dtype=float32, numpy=\n",
       "array([[0., 0., 0.],\n",
       "       [0., 0., 0.],\n",
       "       [0., 0., 0.]], dtype=float32)>"
      ]
     },
     "execution_count": 8,
     "metadata": {},
     "output_type": "execute_result"
    }
   ],
   "source": [
    "# create tensors based on an existing shape\n",
    "tf.zeros_like(ones_tsr)"
   ]
  },
  {
   "cell_type": "code",
   "execution_count": 9,
   "metadata": {},
   "outputs": [
    {
     "data": {
      "text/plain": [
       "<tf.Tensor: shape=(3, 3), dtype=float32, numpy=\n",
       "array([[0.9851533 , 0.11942112, 0.5387734 ],\n",
       "       [0.4384067 , 0.9586129 , 0.19684386],\n",
       "       [0.04166341, 0.10652184, 0.03117621]], dtype=float32)>"
      ]
     },
     "execution_count": 9,
     "metadata": {},
     "output_type": "execute_result"
    }
   ],
   "source": [
    "# generate values from distributions\n",
    "tf.random.uniform([row_dim, col_dim], minval=0, maxval=1)"
   ]
  },
  {
   "cell_type": "markdown",
   "metadata": {},
   "source": [
    "To initialize a tensor as a variable use `tf.Variable()`. Notice in the example below that the output is a Variable instead of tensor now"
   ]
  },
  {
   "cell_type": "code",
   "execution_count": 11,
   "metadata": {},
   "outputs": [
    {
     "data": {
      "text/plain": [
       "<tf.Variable 'Variable:0' shape=(3, 3) dtype=float32, numpy=\n",
       "array([[0., 0., 0.],\n",
       "       [0., 0., 0.],\n",
       "       [0., 0., 0.]], dtype=float32)>"
      ]
     },
     "execution_count": 11,
     "metadata": {},
     "output_type": "execute_result"
    }
   ],
   "source": [
    "my_var = tf.Variable(tf.zeros([row_dim, col_dim]))\n",
    "my_var"
   ]
  },
  {
   "cell_type": "code",
   "execution_count": 14,
   "metadata": {},
   "outputs": [
    {
     "data": {
      "text/plain": [
       "(array([1, 2, 3]),\n",
       " <tf.Tensor: shape=(3,), dtype=int64, numpy=array([1, 2, 3])>)"
      ]
     },
     "execution_count": 14,
     "metadata": {},
     "output_type": "execute_result"
    }
   ],
   "source": [
    "import numpy as np\n",
    "# to convert into a tensor\n",
    "np_arr = np.array([1, 2, 3])\n",
    "l = [1, 2, 3]\n",
    "np_arr, tf.convert_to_tensor(np_arr)"
   ]
  },
  {
   "cell_type": "markdown",
   "metadata": {},
   "source": [
    "## Creating Matrices\n",
    "\n",
    "pg 52-54 examples of elementwise operations on matrices\n",
    "\n",
    "Any custom functions created must use the tensorflow API to be used in the computational graph"
   ]
  },
  {
   "cell_type": "code",
   "execution_count": 15,
   "metadata": {},
   "outputs": [],
   "source": [
    "id_matrix = tf.linalg.diag([1.0, 1.0, 1.0])\n",
    "A = tf.random.truncated_normal([2, 3])\n",
    "B = tf.fill([2, 3], 5.0)\n",
    "C = tf.random.uniform([3, 2])\n",
    "D = tf.convert_to_tensor(np.array([[1., 2., 3.],\n",
    "                                   [-3., -7., -1.],\n",
    "                                   [0., 5., -2.]]),\n",
    "                                   dtype=tf.float32)"
   ]
  },
  {
   "cell_type": "code",
   "execution_count": 16,
   "metadata": {},
   "outputs": [
    {
     "data": {
      "text/plain": [
       "<tf.Tensor: shape=(2, 3), dtype=float32, numpy=\n",
       "array([[6.7755075, 5.012356 , 5.9779267],\n",
       "       [4.1081805, 4.056792 , 5.404626 ]], dtype=float32)>"
      ]
     },
     "execution_count": 16,
     "metadata": {},
     "output_type": "execute_result"
    }
   ],
   "source": [
    "# Operations\n",
    "A + B"
   ]
  },
  {
   "cell_type": "code",
   "execution_count": 19,
   "metadata": {},
   "outputs": [
    {
     "data": {
      "text/plain": [
       "<tf.Tensor: shape=(3, 3), dtype=float32, numpy=\n",
       "array([[ 1., -3.,  0.],\n",
       "       [ 2., -7.,  5.],\n",
       "       [ 3., -1., -2.]], dtype=float32)>"
      ]
     },
     "execution_count": 19,
     "metadata": {},
     "output_type": "execute_result"
    }
   ],
   "source": [
    "tf.matmul(B, id_matrix)\n",
    "tf.multiply(D, id_matrix)\n",
    "tf.transpose(D)"
   ]
  },
  {
   "cell_type": "code",
   "execution_count": 22,
   "metadata": {},
   "outputs": [
    {
     "data": {
      "text/plain": [
       "(<tf.Tensor: shape=(3,), dtype=float32, numpy=array([-10.659076  ,  -0.22750677,   2.8865824 ], dtype=float32)>,\n",
       " <tf.Tensor: shape=(3, 3), dtype=float32, numpy=\n",
       " array([[ 0.21749546, -0.6325011 ,  0.7433963 ],\n",
       "        [ 0.84526515, -0.25879973, -0.46749282],\n",
       "        [-0.48808047, -0.7300446 , -0.47834337]], dtype=float32)>)"
      ]
     },
     "execution_count": 22,
     "metadata": {},
     "output_type": "execute_result"
    }
   ],
   "source": [
    "# Linear algebra uses the .linalg methods\n",
    "tf.linalg.det(D)\n",
    "tf.linalg.inv(D)\n",
    "tf.linalg.eigh(D)"
   ]
  },
  {
   "cell_type": "markdown",
   "metadata": {},
   "source": [
    "# Activation Functions "
   ]
  },
  {
   "cell_type": "code",
   "execution_count": null,
   "metadata": {},
   "outputs": [],
   "source": [
    "# pg 55"
   ]
  },
  {
   "cell_type": "code",
   "execution_count": null,
   "metadata": {},
   "outputs": [],
   "source": []
  },
  {
   "cell_type": "code",
   "execution_count": null,
   "metadata": {},
   "outputs": [],
   "source": []
  },
  {
   "cell_type": "markdown",
   "metadata": {},
   "source": [
    "# Tensorflow Under the Hood\n",
    "\n",
    "1. Tensorflow uses eager execution"
   ]
  }
 ],
 "metadata": {
  "kernelspec": {
   "display_name": "Python 3 (ipykernel)",
   "language": "python",
   "name": "python3"
  },
  "language_info": {
   "codemirror_mode": {
    "name": "ipython",
    "version": 3
   },
   "file_extension": ".py",
   "mimetype": "text/x-python",
   "name": "python",
   "nbconvert_exporter": "python",
   "pygments_lexer": "ipython3",
   "version": "3.11.0rc1"
  }
 },
 "nbformat": 4,
 "nbformat_minor": 2
}
