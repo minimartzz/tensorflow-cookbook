{
 "cells": [
  {
   "cell_type": "markdown",
   "metadata": {},
   "source": [
    "# Convolutional Neural Networks"
   ]
  },
  {
   "cell_type": "markdown",
   "metadata": {},
   "source": [
    "| Date | User | Change Type | Remarks |  \n",
    "| ---- | ---- | ----------- | ------- |\n",
    "| 19/02/2025  | Martin | Created   | Continuing chapters for CNN | "
   ]
  },
  {
   "cell_type": "markdown",
   "metadata": {
    "vscode": {
     "languageId": "plaintext"
    }
   },
   "source": [
    "# Content\n",
    "\n",
    "* [Applying StyleNet and Neural Style Project](#applying-stylenet-and-neural-style-project)"
   ]
  },
  {
   "cell_type": "markdown",
   "metadata": {},
   "source": [
    "# Applying StyleNet and Neural Style Project"
   ]
  },
  {
   "cell_type": "markdown",
   "metadata": {},
   "source": [
    "## StyleNet\n",
    "\n",
    "* A procedure that attempts to learn an image style from one picture and apply it to a second picture, while keeping the second image structure in tact\n",
    "* Find intermediate CNN nodes that correlate strongly with the \"style\" and separate it from the contents of the image\n",
    "* Based on a 2015 paper by Leon Gatys\n",
    "* Train the style layers on the first picture and contents on the second"
   ]
  },
  {
   "cell_type": "code",
   "execution_count": 2,
   "metadata": {},
   "outputs": [],
   "source": [
    "import imageio\n",
    "import numpy as np\n",
    "import tensorflow as tf\n",
    "import matplotlib.pyplot as plt\n",
    "import matplotlib as mpl\n",
    "import IPython.display as display\n",
    "from skimage.transform import resize\n",
    "from tensorflow import keras\n",
    "\n",
    "import os\n",
    "os.environ[\"TF_CPP_MIN_LOG_LEVEL\"] = \"3\"\n",
    "os.environ[\"GRPC_VERBOSITY\"] = \"ERROR\"\n",
    "os.environ[\"GLOG_minloglevel\"] = \"2\""
   ]
  },
  {
   "cell_type": "code",
   "execution_count": null,
   "metadata": {},
   "outputs": [],
   "source": [
    "# Images files\n",
    "path = './images/'\n",
    "content_image_file = path + \"book_cover.jpg\"\n",
    "style_image_file = path + \"starry_night.jpg\"\n",
    "\n",
    "# Read and convert images\n",
    "content_image = imageio.imread(content_image_file)\n",
    "content_iamge = tf.image.convert_image_dtype(content_image, tf.float32)\n",
    "style_image = imageio.imread(style_image_file)\n",
    "style_image = tf.image.convert_image_dtype(style_image, tf.float32)\n",
    "\n",
    "# Get shape of target and make the style image the same\n",
    "target_shape = content_image.shape\n",
    "style_image = resize(style_image, target_shape)"
   ]
  }
 ],
 "metadata": {
  "kernelspec": {
   "display_name": "Python 3 (ipykernel)",
   "language": "python",
   "name": "python3"
  },
  "language_info": {
   "codemirror_mode": {
    "name": "ipython",
    "version": 3
   },
   "file_extension": ".py",
   "mimetype": "text/x-python",
   "name": "python",
   "nbconvert_exporter": "python",
   "pygments_lexer": "ipython3",
   "version": "3.11.0rc1"
  }
 },
 "nbformat": 4,
 "nbformat_minor": 2
}
