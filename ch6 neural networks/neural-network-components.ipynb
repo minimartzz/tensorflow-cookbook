{
 "cells": [
  {
   "cell_type": "markdown",
   "metadata": {},
   "source": [
    "# Neural Networks - The components"
   ]
  },
  {
   "cell_type": "markdown",
   "metadata": {},
   "source": [
    "| Date | User | Change Type | Remarks |  \n",
    "| ---- | ---- | ----------- | ------- |\n",
    "| 06/01/2025   | Martin | Create   | Created notebook for chapter 6 | \n",
    "| 07/01/2025   | Martin | Create   | Completed implementing operational gates and tested various activation functions | "
   ]
  },
  {
   "cell_type": "markdown",
   "metadata": {
    "vscode": {
     "languageId": "plaintext"
    }
   },
   "source": [
    "# Content\n",
    "\n",
    "* [Introduction](#introduction)\n",
    "* [Implementing Operational Gates](#implementing-operational-gates)\n",
    "* [Gates and activation functions](#gates-and-activation-functions)\n",
    "* [Implementing one-layer NN](#implementing-one-layer-neural-network)"
   ]
  },
  {
   "cell_type": "markdown",
   "metadata": {},
   "source": [
    "# Introduction"
   ]
  },
  {
   "cell_type": "markdown",
   "metadata": {},
   "source": [
    "__Neural Network__ - a sequence of operations applied to a matrix of input data. Collection of additions and multiplications followed by a non-linear function\n",
    "\n",
    "__Key terms__\n",
    "* _Backpropogation_ - Updating the model based on the learning rate and the output of the loss function. Done through a sequence of derivatives to determine the changes applied to the weight on each node in the network\n",
    "* _Activation function_ - Function that applies non-linearity to the model\n",
    "* _Hyperparameters_ - Values that define the model and are selected before training begins. Tuning this improves model performance"
   ]
  },
  {
   "cell_type": "markdown",
   "metadata": {},
   "source": [
    "# Implementing Operational Gates"
   ]
  },
  {
   "cell_type": "markdown",
   "metadata": {},
   "source": [
    "_Operational gates \"=\" Each node acts as a matheamtical operation that is applied to the data fed to it_\n",
    "\n",
    "e.g\n",
    "\n",
    "$$\n",
    "f(x) = a \\cdot x\n",
    "$$\n",
    "\n",
    "* $a$: variable weights\n",
    "* $x$: input data\n",
    "\n",
    "This process will return a result and the result is fed into the next operational gate\n",
    "\n",
    "$$\n",
    "f_2(x) = f(x) + b\n",
    "$$\n",
    "\n",
    "* $b$: the bias term (another variable)\n",
    "\n",
    "The output of this function will be the predicted value of the model. The loss function i.e the difference between the output and the target value is computed and used to score the model and implement backprop.\n",
    "\n",
    "Emphasis on the output rather than intermediate values"
   ]
  },
  {
   "cell_type": "code",
   "execution_count": 3,
   "metadata": {},
   "outputs": [],
   "source": [
    "import tensorflow as tf\n",
    "import tensorflow.keras as keras\n",
    "import numpy as np\n",
    "import pandas as pd\n",
    "\n",
    "import os\n",
    "os.environ[\"TF_CPP_MIN_LOG_LEVEL\"] = \"3\"\n",
    "os.environ[\"GRPC_VERBOSITY\"] = \"ERROR\"\n",
    "os.environ[\"GLOG_minloglevel\"] = \"2\""
   ]
  },
  {
   "cell_type": "markdown",
   "metadata": {},
   "source": [
    "Implement a single node to \"learn\" and update itself to the desired weights\n",
    "\n",
    "* Target weight: 50\n",
    "* Data fed: 5\n",
    "* Optimiser: SGD\n",
    "* Loss function: MSE"
   ]
  },
  {
   "cell_type": "code",
   "execution_count": 8,
   "metadata": {},
   "outputs": [
    {
     "data": {
      "text/html": [
       "<pre style=\"white-space:pre;overflow-x:auto;line-height:normal;font-family:Menlo,'DejaVu Sans Mono',consolas,'Courier New',monospace\"><span style=\"font-weight: bold\">Model: \"node_1\"</span>\n",
       "</pre>\n"
      ],
      "text/plain": [
       "\u001b[1mModel: \"node_1\"\u001b[0m\n"
      ]
     },
     "metadata": {},
     "output_type": "display_data"
    },
    {
     "data": {
      "text/html": [
       "<pre style=\"white-space:pre;overflow-x:auto;line-height:normal;font-family:Menlo,'DejaVu Sans Mono',consolas,'Courier New',monospace\">┏━━━━━━━━━━━━━━━━━━━━━━━━━━━━━━━━━┳━━━━━━━━━━━━━━━━━━━━━━━━┳━━━━━━━━━━━━━━━┓\n",
       "┃<span style=\"font-weight: bold\"> Layer (type)                    </span>┃<span style=\"font-weight: bold\"> Output Shape           </span>┃<span style=\"font-weight: bold\">       Param # </span>┃\n",
       "┡━━━━━━━━━━━━━━━━━━━━━━━━━━━━━━━━━╇━━━━━━━━━━━━━━━━━━━━━━━━╇━━━━━━━━━━━━━━━┩\n",
       "│ input_layer_2 (<span style=\"color: #0087ff; text-decoration-color: #0087ff\">InputLayer</span>)      │ (<span style=\"color: #00d7ff; text-decoration-color: #00d7ff\">None</span>, <span style=\"color: #00af00; text-decoration-color: #00af00\">1</span>)              │             <span style=\"color: #00af00; text-decoration-color: #00af00\">0</span> │\n",
       "├─────────────────────────────────┼────────────────────────┼───────────────┤\n",
       "│ lambda_2 (<span style=\"color: #0087ff; text-decoration-color: #0087ff\">Lambda</span>)               │ (<span style=\"color: #00d7ff; text-decoration-color: #00d7ff\">None</span>, <span style=\"color: #00af00; text-decoration-color: #00af00\">1</span>)              │             <span style=\"color: #00af00; text-decoration-color: #00af00\">0</span> │\n",
       "└─────────────────────────────────┴────────────────────────┴───────────────┘\n",
       "</pre>\n"
      ],
      "text/plain": [
       "┏━━━━━━━━━━━━━━━━━━━━━━━━━━━━━━━━━┳━━━━━━━━━━━━━━━━━━━━━━━━┳━━━━━━━━━━━━━━━┓\n",
       "┃\u001b[1m \u001b[0m\u001b[1mLayer (type)                   \u001b[0m\u001b[1m \u001b[0m┃\u001b[1m \u001b[0m\u001b[1mOutput Shape          \u001b[0m\u001b[1m \u001b[0m┃\u001b[1m \u001b[0m\u001b[1m      Param #\u001b[0m\u001b[1m \u001b[0m┃\n",
       "┡━━━━━━━━━━━━━━━━━━━━━━━━━━━━━━━━━╇━━━━━━━━━━━━━━━━━━━━━━━━╇━━━━━━━━━━━━━━━┩\n",
       "│ input_layer_2 (\u001b[38;5;33mInputLayer\u001b[0m)      │ (\u001b[38;5;45mNone\u001b[0m, \u001b[38;5;34m1\u001b[0m)              │             \u001b[38;5;34m0\u001b[0m │\n",
       "├─────────────────────────────────┼────────────────────────┼───────────────┤\n",
       "│ lambda_2 (\u001b[38;5;33mLambda\u001b[0m)               │ (\u001b[38;5;45mNone\u001b[0m, \u001b[38;5;34m1\u001b[0m)              │             \u001b[38;5;34m0\u001b[0m │\n",
       "└─────────────────────────────────┴────────────────────────┴───────────────┘\n"
      ]
     },
     "metadata": {},
     "output_type": "display_data"
    },
    {
     "data": {
      "text/html": [
       "<pre style=\"white-space:pre;overflow-x:auto;line-height:normal;font-family:Menlo,'DejaVu Sans Mono',consolas,'Courier New',monospace\"><span style=\"font-weight: bold\"> Total params: </span><span style=\"color: #00af00; text-decoration-color: #00af00\">0</span> (0.00 B)\n",
       "</pre>\n"
      ],
      "text/plain": [
       "\u001b[1m Total params: \u001b[0m\u001b[38;5;34m0\u001b[0m (0.00 B)\n"
      ]
     },
     "metadata": {},
     "output_type": "display_data"
    },
    {
     "data": {
      "text/html": [
       "<pre style=\"white-space:pre;overflow-x:auto;line-height:normal;font-family:Menlo,'DejaVu Sans Mono',consolas,'Courier New',monospace\"><span style=\"font-weight: bold\"> Trainable params: </span><span style=\"color: #00af00; text-decoration-color: #00af00\">0</span> (0.00 B)\n",
       "</pre>\n"
      ],
      "text/plain": [
       "\u001b[1m Trainable params: \u001b[0m\u001b[38;5;34m0\u001b[0m (0.00 B)\n"
      ]
     },
     "metadata": {},
     "output_type": "display_data"
    },
    {
     "data": {
      "text/html": [
       "<pre style=\"white-space:pre;overflow-x:auto;line-height:normal;font-family:Menlo,'DejaVu Sans Mono',consolas,'Courier New',monospace\"><span style=\"font-weight: bold\"> Non-trainable params: </span><span style=\"color: #00af00; text-decoration-color: #00af00\">0</span> (0.00 B)\n",
       "</pre>\n"
      ],
      "text/plain": [
       "\u001b[1m Non-trainable params: \u001b[0m\u001b[38;5;34m0\u001b[0m (0.00 B)\n"
      ]
     },
     "metadata": {},
     "output_type": "display_data"
    },
    {
     "name": "stdout",
     "output_type": "stream",
     "text": [
      "None\n"
     ]
    }
   ],
   "source": [
    "# Initialise weights and input data\n",
    "a = tf.Variable(4.)\n",
    "x_data = tf.keras.Input(shape=(1,))\n",
    "x_val = tf.constant([[5.]], dtype=tf.float32)\n",
    "\n",
    "# Configure the node\n",
    "multiply_layer = tf.keras.layers.Lambda(lambda x: tf.multiply(a, x))\n",
    "outputs = multiply_layer(x_data)\n",
    "\n",
    "# Define the model\n",
    "model = tf.keras.Model(inputs=x_data, outputs=outputs, name='node_1')\n",
    "\n",
    "print(model.summary())"
   ]
  },
  {
   "cell_type": "markdown",
   "metadata": {},
   "source": [
    "First a model with a only the weights trained"
   ]
  },
  {
   "cell_type": "code",
   "execution_count": 9,
   "metadata": {},
   "outputs": [
    {
     "name": "stdout",
     "output_type": "stream",
     "text": [
      "Optimising a multiplication gate output to 50\n",
      "Step: 0: => 7.0 * [[5.]] = [[35.]]\n",
      "Step: 1: => 8.5 * [[5.]] = [[42.5]]\n",
      "Step: 2: => 9.25 * [[5.]] = [[46.25]]\n",
      "Step: 3: => 9.625 * [[5.]] = [[48.125]]\n",
      "Step: 4: => 9.8125 * [[5.]] = [[49.0625]]\n",
      "Step: 5: => 9.90625 * [[5.]] = [[49.53125]]\n",
      "Step: 6: => 9.953125 * [[5.]] = [[49.765625]]\n",
      "Step: 7: => 9.9765625 * [[5.]] = [[49.882812]]\n",
      "Step: 8: => 9.98828125 * [[5.]] = [[49.941406]]\n",
      "Step: 9: => 9.994140625 * [[5.]] = [[49.970703]]\n"
     ]
    }
   ],
   "source": [
    "# Implement the training loop\n",
    "optimiser = tf.keras.optimizers.SGD(0.01)\n",
    "\n",
    "print(\"Optimising a multiplication gate output to 50\")\n",
    "for i in range(10):\n",
    "  # define the gradient tape\n",
    "  with tf.GradientTape() as tape:\n",
    "    # get the output - forward pass\n",
    "    model_output = model(x_val)\n",
    "\n",
    "    # get the loss\n",
    "    loss = tf.square(tf.subtract(model_output, 50.))\n",
    "\n",
    "  # get the gradients to update weights\n",
    "  gradients = tape.gradient(loss, a)\n",
    "\n",
    "  # apply changes to the weights\n",
    "  optimiser.apply_gradients(zip([gradients], [a]))\n",
    "\n",
    "  print(f\"Step: {i}: => {a.numpy()} * {x_val} = {a.numpy()*x_val}\")\n",
    "    "
   ]
  },
  {
   "cell_type": "markdown",
   "metadata": {},
   "source": [
    "Next a model with the bias term included"
   ]
  },
  {
   "cell_type": "code",
   "execution_count": 10,
   "metadata": {},
   "outputs": [
    {
     "data": {
      "text/html": [
       "<pre style=\"white-space:pre;overflow-x:auto;line-height:normal;font-family:Menlo,'DejaVu Sans Mono',consolas,'Courier New',monospace\"><span style=\"font-weight: bold\">Model: \"node_2\"</span>\n",
       "</pre>\n"
      ],
      "text/plain": [
       "\u001b[1mModel: \"node_2\"\u001b[0m\n"
      ]
     },
     "metadata": {},
     "output_type": "display_data"
    },
    {
     "data": {
      "text/html": [
       "<pre style=\"white-space:pre;overflow-x:auto;line-height:normal;font-family:Menlo,'DejaVu Sans Mono',consolas,'Courier New',monospace\">┏━━━━━━━━━━━━━━━━━━━━━━━━━━━━━━━━━┳━━━━━━━━━━━━━━━━━━━━━━━━┳━━━━━━━━━━━━━━━┓\n",
       "┃<span style=\"font-weight: bold\"> Layer (type)                    </span>┃<span style=\"font-weight: bold\"> Output Shape           </span>┃<span style=\"font-weight: bold\">       Param # </span>┃\n",
       "┡━━━━━━━━━━━━━━━━━━━━━━━━━━━━━━━━━╇━━━━━━━━━━━━━━━━━━━━━━━━╇━━━━━━━━━━━━━━━┩\n",
       "│ input_layer_3 (<span style=\"color: #0087ff; text-decoration-color: #0087ff\">InputLayer</span>)      │ (<span style=\"color: #00d7ff; text-decoration-color: #00d7ff\">None</span>, <span style=\"color: #00af00; text-decoration-color: #00af00\">1</span>)              │             <span style=\"color: #00af00; text-decoration-color: #00af00\">0</span> │\n",
       "├─────────────────────────────────┼────────────────────────┼───────────────┤\n",
       "│ lambda_3 (<span style=\"color: #0087ff; text-decoration-color: #0087ff\">Lambda</span>)               │ (<span style=\"color: #00d7ff; text-decoration-color: #00d7ff\">None</span>, <span style=\"color: #00af00; text-decoration-color: #00af00\">1</span>)              │             <span style=\"color: #00af00; text-decoration-color: #00af00\">0</span> │\n",
       "├─────────────────────────────────┼────────────────────────┼───────────────┤\n",
       "│ lambda_4 (<span style=\"color: #0087ff; text-decoration-color: #0087ff\">Lambda</span>)               │ (<span style=\"color: #00d7ff; text-decoration-color: #00d7ff\">None</span>, <span style=\"color: #00af00; text-decoration-color: #00af00\">1</span>)              │             <span style=\"color: #00af00; text-decoration-color: #00af00\">0</span> │\n",
       "└─────────────────────────────────┴────────────────────────┴───────────────┘\n",
       "</pre>\n"
      ],
      "text/plain": [
       "┏━━━━━━━━━━━━━━━━━━━━━━━━━━━━━━━━━┳━━━━━━━━━━━━━━━━━━━━━━━━┳━━━━━━━━━━━━━━━┓\n",
       "┃\u001b[1m \u001b[0m\u001b[1mLayer (type)                   \u001b[0m\u001b[1m \u001b[0m┃\u001b[1m \u001b[0m\u001b[1mOutput Shape          \u001b[0m\u001b[1m \u001b[0m┃\u001b[1m \u001b[0m\u001b[1m      Param #\u001b[0m\u001b[1m \u001b[0m┃\n",
       "┡━━━━━━━━━━━━━━━━━━━━━━━━━━━━━━━━━╇━━━━━━━━━━━━━━━━━━━━━━━━╇━━━━━━━━━━━━━━━┩\n",
       "│ input_layer_3 (\u001b[38;5;33mInputLayer\u001b[0m)      │ (\u001b[38;5;45mNone\u001b[0m, \u001b[38;5;34m1\u001b[0m)              │             \u001b[38;5;34m0\u001b[0m │\n",
       "├─────────────────────────────────┼────────────────────────┼───────────────┤\n",
       "│ lambda_3 (\u001b[38;5;33mLambda\u001b[0m)               │ (\u001b[38;5;45mNone\u001b[0m, \u001b[38;5;34m1\u001b[0m)              │             \u001b[38;5;34m0\u001b[0m │\n",
       "├─────────────────────────────────┼────────────────────────┼───────────────┤\n",
       "│ lambda_4 (\u001b[38;5;33mLambda\u001b[0m)               │ (\u001b[38;5;45mNone\u001b[0m, \u001b[38;5;34m1\u001b[0m)              │             \u001b[38;5;34m0\u001b[0m │\n",
       "└─────────────────────────────────┴────────────────────────┴───────────────┘\n"
      ]
     },
     "metadata": {},
     "output_type": "display_data"
    },
    {
     "data": {
      "text/html": [
       "<pre style=\"white-space:pre;overflow-x:auto;line-height:normal;font-family:Menlo,'DejaVu Sans Mono',consolas,'Courier New',monospace\"><span style=\"font-weight: bold\"> Total params: </span><span style=\"color: #00af00; text-decoration-color: #00af00\">0</span> (0.00 B)\n",
       "</pre>\n"
      ],
      "text/plain": [
       "\u001b[1m Total params: \u001b[0m\u001b[38;5;34m0\u001b[0m (0.00 B)\n"
      ]
     },
     "metadata": {},
     "output_type": "display_data"
    },
    {
     "data": {
      "text/html": [
       "<pre style=\"white-space:pre;overflow-x:auto;line-height:normal;font-family:Menlo,'DejaVu Sans Mono',consolas,'Courier New',monospace\"><span style=\"font-weight: bold\"> Trainable params: </span><span style=\"color: #00af00; text-decoration-color: #00af00\">0</span> (0.00 B)\n",
       "</pre>\n"
      ],
      "text/plain": [
       "\u001b[1m Trainable params: \u001b[0m\u001b[38;5;34m0\u001b[0m (0.00 B)\n"
      ]
     },
     "metadata": {},
     "output_type": "display_data"
    },
    {
     "data": {
      "text/html": [
       "<pre style=\"white-space:pre;overflow-x:auto;line-height:normal;font-family:Menlo,'DejaVu Sans Mono',consolas,'Courier New',monospace\"><span style=\"font-weight: bold\"> Non-trainable params: </span><span style=\"color: #00af00; text-decoration-color: #00af00\">0</span> (0.00 B)\n",
       "</pre>\n"
      ],
      "text/plain": [
       "\u001b[1m Non-trainable params: \u001b[0m\u001b[38;5;34m0\u001b[0m (0.00 B)\n"
      ]
     },
     "metadata": {},
     "output_type": "display_data"
    },
    {
     "name": "stdout",
     "output_type": "stream",
     "text": [
      "None\n"
     ]
    }
   ],
   "source": [
    "# Initialise weights and input data\n",
    "a = tf.Variable(4., dtype=tf.float32)\n",
    "b = tf.Variable(1., dtype=tf.float32)\n",
    "x_data = tf.keras.Input(shape=(1,))\n",
    "x_val = tf.constant([[5.]], dtype=tf.float32)\n",
    "\n",
    "# Configure the node\n",
    "multiply_layer = tf.keras.layers.Lambda(lambda x: tf.multiply(a, x))\n",
    "add_layer = tf.keras.layers.Lambda(lambda x: tf.add(b, x))\n",
    "intermediate = multiply_layer(x_data)\n",
    "outputs = add_layer(intermediate)\n",
    "\n",
    "# Define the model\n",
    "model = tf.keras.Model(inputs=x_data, outputs=outputs, name='node_2')\n",
    "\n",
    "print(model.summary())"
   ]
  },
  {
   "cell_type": "code",
   "execution_count": 12,
   "metadata": {},
   "outputs": [
    {
     "name": "stdout",
     "output_type": "stream",
     "text": [
      "Optimising a multiplication gate output to 50\n",
      "Step: 0: => 6.899999618530273 * [[5.]] + 1.5799999237060547 = [[36.08]]\n",
      "Step: 1: => 8.291999816894531 * [[5.]] + 1.8583998680114746 = [[43.318398]]\n",
      "Step: 2: => 8.960160255432129 * [[5.]] + 1.9920319318771362 = [[46.79283]]\n",
      "Step: 3: => 9.280877113342285 * [[5.]] + 2.0561752319335938 = [[48.46056]]\n",
      "Step: 4: => 9.434821128845215 * [[5.]] + 2.0869641304016113 = [[49.26107]]\n",
      "Step: 5: => 9.508713722229004 * [[5.]] + 2.101742744445801 = [[49.64531]]\n",
      "Step: 6: => 9.544182777404785 * [[5.]] + 2.1088366508483887 = [[49.82975]]\n",
      "Step: 7: => 9.56120777130127 * [[5.]] + 2.112241744995117 = [[49.91828]]\n",
      "Step: 8: => 9.569379806518555 * [[5.]] + 2.1138761043548584 = [[49.960777]]\n",
      "Step: 9: => 9.573302268981934 * [[5.]] + 2.1146605014801025 = [[49.981174]]\n"
     ]
    }
   ],
   "source": [
    "# Implement the training loop\n",
    "optimiser = tf.keras.optimizers.SGD(0.01)\n",
    "\n",
    "print(\"Optimising a multiplication gate output to 50\")\n",
    "for i in range(10):\n",
    "  # define the gradient tape\n",
    "  with tf.GradientTape(persistent=True) as tape:\n",
    "    # get the output - forward pass\n",
    "    model_output = model(x_val)\n",
    "\n",
    "    # get the loss\n",
    "    loss = tf.square(tf.subtract(model_output, 50.))\n",
    "\n",
    "  # get the gradients to update weights\n",
    "  gradients_a = tape.gradient(loss, a)\n",
    "  gradients_b = tape.gradient(loss, b)\n",
    "\n",
    "  # apply changes to the weights\n",
    "  optimiser.apply_gradients(zip([gradients_a, gradients_b], [a, b]))\n",
    "\n",
    "  print(f\"Step: {i}: => {a.numpy()} * {x_val} + {b.numpy()} = {a.numpy()*x_val+b.numpy()}\")"
   ]
  },
  {
   "cell_type": "markdown",
   "metadata": {},
   "source": [
    "📜 __NOTE: Good resource on describing how `GradientTape` works: [here](https://www.geeksforgeeks.org/tf-gradienttape-in-tensorflow/)__"
   ]
  },
  {
   "cell_type": "markdown",
   "metadata": {},
   "source": [
    "## Interpreting results\n",
    "\n",
    "* Tensorflow keeps track of the model operations and variables, making changes to them based on the optimisation algorithm (SGD in the exmaple)\n",
    "* Variables that are listed as `trainable` will be tracked by TF `GradientTape` and only these values will change - not the data\n",
    "* All changes are done and optimised by TF"
   ]
  },
  {
   "cell_type": "markdown",
   "metadata": {},
   "source": [
    "---"
   ]
  },
  {
   "cell_type": "markdown",
   "metadata": {},
   "source": [
    "# Gates and activation functions"
   ]
  },
  {
   "cell_type": "markdown",
   "metadata": {},
   "source": [
    "Introduce activation functions that bring in non-linearity to the model\n",
    "\n",
    "* Sigmoid: $sigmoid(x)=\\sigma(x)=\\frac{1}{1+e^x}$\n",
    "* Rectified linear unit (ReLU): $max(0, x)$"
   ]
  },
  {
   "cell_type": "markdown",
   "metadata": {},
   "source": [
    "Same 1 layer NN using both activation functions and compare. Config:\n",
    "\n",
    "* Target value: 0.75\n",
    "* Loss: L2 distance (MSE)\n",
    "* Optimiser: SGD"
   ]
  },
  {
   "cell_type": "code",
   "execution_count": 2,
   "metadata": {},
   "outputs": [],
   "source": [
    "import tensorflow as tf\n",
    "import tensorflow.keras as keras\n",
    "import numpy as np\n",
    "import matplotlib.pyplot as plt\n",
    "tf.random.set_seed(5)\n",
    "np.random.seed(42)\n",
    "\n",
    "import os\n",
    "os.environ[\"TF_CPP_MIN_LOG_LEVEL\"] = \"3\"\n",
    "os.environ[\"GRPC_VERBOSITY\"] = \"ERROR\"\n",
    "os.environ[\"GLOG_minloglevel\"] = \"2\""
   ]
  },
  {
   "cell_type": "code",
   "execution_count": 3,
   "metadata": {},
   "outputs": [
    {
     "name": "stderr",
     "output_type": "stream",
     "text": [
      "W0000 00:00:1736234898.625441    1663 gpu_device.cc:2344] Cannot dlopen some GPU libraries. Please make sure the missing libraries mentioned above are installed properly if you would like to use GPU. Follow the guide at https://www.tensorflow.org/install/gpu for how to download and setup the required libraries for your platform.\n",
      "Skipping registering GPU devices...\n"
     ]
    }
   ],
   "source": [
    "# Initialise variables\n",
    "batch_size = 50\n",
    "\n",
    "# define parameters\n",
    "x = np.random.normal(2, 0.1, 500)\n",
    "x_data = tf.keras.Input(shape=(1,))\n",
    "\n",
    "a1 = tf.Variable(tf.random.normal(shape=[1,1], seed=5))\n",
    "b1 = tf.Variable(tf.random.uniform(shape=[1,1], seed=5))\n",
    "a2 = tf.Variable(tf.random.normal(shape=[1,1], seed=5))\n",
    "b2 = tf.Variable(tf.random.uniform(shape=[1,1], seed=5))"
   ]
  },
  {
   "cell_type": "code",
   "execution_count": 4,
   "metadata": {},
   "outputs": [],
   "source": [
    "# Use the subclassing API\n",
    "class MyCustomGateSigmoid(tf.keras.layers.Layer):\n",
    "  def __init__(self, units, a1, b1):\n",
    "    super(MyCustomGateSigmoid, self).__init__()\n",
    "    self.units = units\n",
    "    self.a1 = a1\n",
    "    self.b1 = b1\n",
    "  \n",
    "  def call(self, inputs):\n",
    "    return tf.math.sigmoid(inputs * self.a1 + self.b1)\n",
    "\n",
    "# Define the custom layer\n",
    "my_custom_gate_sigmoid = MyCustomGateSigmoid(units=1, a1=a1, b1=b1)\n",
    "output_sigmoid = my_custom_gate_sigmoid(x_data)\n",
    "\n",
    "# Build the model\n",
    "model_sigmoid = tf.keras.Model(inputs=x_data, outputs=output_sigmoid, name='node_sigmoid')"
   ]
  },
  {
   "cell_type": "code",
   "execution_count": 5,
   "metadata": {},
   "outputs": [],
   "source": [
    "# Use the subclassing API\n",
    "class MyCustomGateRelu(tf.keras.layers.Layer):\n",
    "  def __init__(self, units, a2, b2):\n",
    "    super(MyCustomGateRelu, self).__init__()\n",
    "    self.units = units\n",
    "    self.a2 = a2\n",
    "    self.b2 = b2\n",
    "  \n",
    "  def call(self, inputs):\n",
    "    return tf.nn.relu(inputs * self.a2 + self.b2)\n",
    "\n",
    "# Define the custom layer\n",
    "my_custom_gate_relu = MyCustomGateRelu(units=1, a2=a2, b2=b2)\n",
    "output_relu = my_custom_gate_relu(x_data)\n",
    "\n",
    "# Build the model\n",
    "model_relu = tf.keras.Model(inputs=x_data, outputs=output_relu, name='node_relu')"
   ]
  },
  {
   "cell_type": "code",
   "execution_count": 6,
   "metadata": {},
   "outputs": [
    {
     "name": "stdout",
     "output_type": "stream",
     "text": [
      "Optimising Sigmoid and Relu outputs to 0.75\n",
      "\n",
      "Sigmoid = 0.053502932 | Relu = 0.41717994\n",
      "Sigmoid = 0.06592579 | Relu = 0.74954367\n",
      "Sigmoid = 0.07885075 | Relu = 0.7502562\n",
      "Sigmoid = 0.10079076 | Relu = 0.75001615\n",
      "Sigmoid = 0.1306659 | Relu = 0.74857485\n",
      "Sigmoid = 0.18301636 | Relu = 0.7482997\n",
      "Sigmoid = 0.2614831 | Relu = 0.7496901\n",
      "Sigmoid = 0.36430547 | Relu = 0.75106066\n",
      "Sigmoid = 0.46104255 | Relu = 0.74935675\n",
      "Sigmoid = 0.5375254 | Relu = 0.7483227\n"
     ]
    }
   ],
   "source": [
    "# Define the training loop\n",
    "optimiser_sigmoid = tf.keras.optimizers.SGD(0.01)\n",
    "optimiser_relu = tf.keras.optimizers.SGD(0.01)\n",
    "\n",
    "\n",
    "# Run loop across gates\n",
    "print(\"Optimising Sigmoid and Relu outputs to 0.75\\n\")\n",
    "\n",
    "loss_vec_sigmoid = []\n",
    "loss_vec_relu = []\n",
    "\n",
    "activation_sigmoid = []\n",
    "activation_relu = []\n",
    "\n",
    "for i in range(500):\n",
    "\n",
    "  # Randomly select data to be used for training\n",
    "  rand_indices = np.random.choice(len(x), size=batch_size)\n",
    "  x_vals = np.transpose([x[rand_indices]])\n",
    "\n",
    "  with tf.GradientTape(persistent=True) as tape:\n",
    "\n",
    "    # Forward pass\n",
    "    sigmoid_output = model_sigmoid(x_vals)\n",
    "    relu_output = model_relu(x_vals)\n",
    "\n",
    "    # Get loss\n",
    "    loss_sigmoid = tf.reduce_mean(tf.square(tf.subtract(sigmoid_output, 0.75)))\n",
    "    loss_vec_sigmoid.append(loss_sigmoid)\n",
    "    loss_relu = tf.reduce_mean(tf.square(tf.subtract(relu_output, 0.75)))\n",
    "    loss_vec_relu.append(loss_relu)\n",
    "\n",
    "  # gradient computation\n",
    "  gradients_a1 = tape.gradient(loss_sigmoid, my_custom_gate_sigmoid.a1)\n",
    "  gradients_b1 = tape.gradient(loss_sigmoid, my_custom_gate_sigmoid.b1)\n",
    "  \n",
    "  gradients_a2 = tape.gradient(loss_relu, my_custom_gate_relu.a2)\n",
    "  gradients_b2 = tape.gradient(loss_relu, my_custom_gate_relu.b2)\n",
    "\n",
    "  # Applying changes to weights\n",
    "  optimiser_sigmoid.apply_gradients(zip([gradients_a1, gradients_b1], [my_custom_gate_sigmoid.a1, my_custom_gate_sigmoid.b1]))\n",
    "  optimiser_relu.apply_gradients(zip([gradients_a2, gradients_b2], [my_custom_gate_relu.a2, my_custom_gate_relu.b2]))\n",
    "\n",
    "  output_sigmoid = model_sigmoid(x_vals)\n",
    "  output_relu = model_relu(x_vals)\n",
    "\n",
    "  activation_sigmoid.append(np.mean(output_sigmoid))\n",
    "  activation_relu.append(np.mean(output_relu))\n",
    "\n",
    "  if i % 50 == 0:\n",
    "    print(f\"Sigmoid = {str(np.mean(output_sigmoid))} | Relu = {str(np.mean(output_relu))}\")"
   ]
  },
  {
   "cell_type": "code",
   "execution_count": 7,
   "metadata": {},
   "outputs": [
    {
     "data": {
      "image/png": "[encoded data removed]",
      "text/plain": [
       "<Figure size 640x480 with 1 Axes>"
      ]
     },
     "metadata": {},
     "output_type": "display_data"
    },
    {
     "data": {
      "image/png": "[encoded data removed]",
      "text/plain": [
       "<Figure size 640x480 with 1 Axes>"
      ]
     },
     "metadata": {},
     "output_type": "display_data"
    }
   ],
   "source": [
    "# Plotting the loss and activation outputs\n",
    "plt.plot(activation_sigmoid, 'k-', label='Sigmoid Activation')\n",
    "plt.plot(activation_relu, 'r--', label='Relu Activation')\n",
    "plt.ylim([0, 1.0])\n",
    "plt.title('Activation Outputs')\n",
    "plt.xlabel('Generation')\n",
    "plt.ylabel('Outputs')\n",
    "plt.legend(loc='upper right')\n",
    "plt.show()\n",
    "\n",
    "plt.plot(loss_vec_sigmoid, 'k-', label='Sigmoid Loss') \n",
    "plt.plot(loss_vec_relu, 'r--', label='Relu Loss') \n",
    "plt.ylim([0, 1.0]) \n",
    "plt.title('Loss per Generation') \n",
    "plt.xlabel('Generation') \n",
    "plt.ylabel('Loss') \n",
    "plt.legend(loc='upper right') \n",
    "plt.show() "
   ]
  },
  {
   "cell_type": "markdown",
   "metadata": {},
   "source": [
    "## Interpreting results\n",
    "\n",
    "* Both show convergence, but Relu achieves it much faster than sigmoid\n",
    "* Relu returns 0 outputs more often which introduces _sparsity_, allowing for convergence to happen faster, but loss of controlled gradients (potentially vanishing gradient problem on larger networks)\n",
    "* Sigmoid has well-controlled gradients and prevents extreme values (too low or too high) at the expense of slower convergence because updates are not as drastic\n",
    "\n",
    "__Other alternatives__\n",
    "\n",
    "* Smoother (like sigmoid): arctan, hypertangent, heaveside step\n",
    "* Faster (like Relu): softplus, leaky ReLU, ELU"
   ]
  },
  {
   "cell_type": "markdown",
   "metadata": {},
   "source": [
    "---"
   ]
  },
  {
   "cell_type": "markdown",
   "metadata": {},
   "source": [
    "# Implementing one-layer neural network"
   ]
  },
  {
   "cell_type": "markdown",
   "metadata": {},
   "source": [
    "Implementing on the iris dataset\n",
    "\n",
    "__🚨 NN's are based on matrix multiplicatoin, so the dimensions of data and matrix must align__"
   ]
  },
  {
   "cell_type": "code",
   "execution_count": null,
   "metadata": {},
   "outputs": [],
   "source": [
    "import tensorflow as tf\n",
    "import numpy as np\n",
    "import matplotlib.pyplot as plt\n",
    "from sklearn import datasets\n",
    "\n",
    "import os\n",
    "os.environ[\"TF_CPP_MIN_LOG_LEVEL\"] = \"3\"\n",
    "os.environ[\"GRPC_VERBOSITY\"] = \"ERROR\"\n",
    "os.environ[\"GLOG_minloglevel\"] = \"2\""
   ]
  },
  {
   "cell_type": "code",
   "execution_count": null,
   "metadata": {},
   "outputs": [],
   "source": [
    "# pg 247"
   ]
  }
 ],
 "metadata": {
  "kernelspec": {
   "display_name": "Python 3 (ipykernel)",
   "language": "python",
   "name": "python3"
  },
  "language_info": {
   "codemirror_mode": {
    "name": "ipython",
    "version": 3
   },
   "file_extension": ".py",
   "mimetype": "text/x-python",
   "name": "python",
   "nbconvert_exporter": "python",
   "pygments_lexer": "ipython3",
   "version": "3.11.0rc1"
  }
 },
 "nbformat": 4,
 "nbformat_minor": 2
}
