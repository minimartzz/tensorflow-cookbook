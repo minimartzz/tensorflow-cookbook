{
 "cells": [
  {
   "cell_type": "markdown",
   "metadata": {},
   "source": [
    "# Neural Networks - The components"
   ]
  },
  {
   "cell_type": "markdown",
   "metadata": {},
   "source": [
    "| Date | User | Change Type | Remarks |  \n",
    "| ---- | ---- | ----------- | ------- |\n",
    "| 06/01/2025   | Martin | Create   | Created notebook for chapter 6 | \n",
    "| 07/01/2025   | Martin | Create   | Completed implementing operational gates and tested various activation functions | \n",
    "| 08/01/2025   | Martin | Create   | Completed single layer NN and implementing different layers (Conv, Maxpool) | "
   ]
  },
  {
   "cell_type": "markdown",
   "metadata": {
    "vscode": {
     "languageId": "plaintext"
    }
   },
   "source": [
    "# Content\n",
    "\n",
    "* [Introduction](#introduction)\n",
    "* [Implementing Operational Gates](#implementing-operational-gates)\n",
    "* [Gates and activation functions](#gates-and-activation-functions)\n",
    "* [Implementing one-layer NN](#implementing-one-layer-neural-network)\n",
    "* [Implementing different layers](#implementing-different-layers)"
   ]
  },
  {
   "cell_type": "markdown",
   "metadata": {},
   "source": [
    "# Introduction"
   ]
  },
  {
   "cell_type": "markdown",
   "metadata": {},
   "source": [
    "__Neural Network__ - a sequence of operations applied to a matrix of input data. Collection of additions and multiplications followed by a non-linear function\n",
    "\n",
    "__Key terms__\n",
    "* _Backpropogation_ - Updating the model based on the learning rate and the output of the loss function. Done through a sequence of derivatives to determine the changes applied to the weight on each node in the network\n",
    "* _Activation function_ - Function that applies non-linearity to the model\n",
    "* _Hyperparameters_ - Values that define the model and are selected before training begins. Tuning this improves model performance"
   ]
  },
  {
   "cell_type": "markdown",
   "metadata": {},
   "source": [
    "# Implementing Operational Gates"
   ]
  },
  {
   "cell_type": "markdown",
   "metadata": {},
   "source": [
    "_Operational gates \"=\" Each node acts as a matheamtical operation that is applied to the data fed to it_\n",
    "\n",
    "e.g\n",
    "\n",
    "$$\n",
    "f(x) = a \\cdot x\n",
    "$$\n",
    "\n",
    "* $a$: variable weights\n",
    "* $x$: input data\n",
    "\n",
    "This process will return a result and the result is fed into the next operational gate\n",
    "\n",
    "$$\n",
    "f_2(x) = f(x) + b\n",
    "$$\n",
    "\n",
    "* $b$: the bias term (another variable)\n",
    "\n",
    "The output of this function will be the predicted value of the model. The loss function i.e the difference between the output and the target value is computed and used to score the model and implement backprop.\n",
    "\n",
    "Emphasis on the output rather than intermediate values"
   ]
  },
  {
   "cell_type": "code",
   "execution_count": 3,
   "metadata": {},
   "outputs": [],
   "source": [
    "import tensorflow as tf\n",
    "import tensorflow.keras as keras\n",
    "import numpy as np\n",
    "import pandas as pd\n",
    "\n",
    "import os\n",
    "os.environ[\"TF_CPP_MIN_LOG_LEVEL\"] = \"3\"\n",
    "os.environ[\"GRPC_VERBOSITY\"] = \"ERROR\"\n",
    "os.environ[\"GLOG_minloglevel\"] = \"2\""
   ]
  },
  {
   "cell_type": "markdown",
   "metadata": {},
   "source": [
    "Implement a single node to \"learn\" and update itself to the desired weights\n",
    "\n",
    "* Target weight: 50\n",
    "* Data fed: 5\n",
    "* Optimiser: SGD\n",
    "* Loss function: MSE"
   ]
  },
  {
   "cell_type": "code",
   "execution_count": 8,
   "metadata": {},
   "outputs": [
    {
     "data": {
      "text/html": [
       "<pre style=\"white-space:pre;overflow-x:auto;line-height:normal;font-family:Menlo,'DejaVu Sans Mono',consolas,'Courier New',monospace\"><span style=\"font-weight: bold\">Model: \"node_1\"</span>\n",
       "</pre>\n"
      ],
      "text/plain": [
       "\u001b[1mModel: \"node_1\"\u001b[0m\n"
      ]
     },
     "metadata": {},
     "output_type": "display_data"
    },
    {
     "data": {
      "text/html": [
       "<pre style=\"white-space:pre;overflow-x:auto;line-height:normal;font-family:Menlo,'DejaVu Sans Mono',consolas,'Courier New',monospace\">┏━━━━━━━━━━━━━━━━━━━━━━━━━━━━━━━━━┳━━━━━━━━━━━━━━━━━━━━━━━━┳━━━━━━━━━━━━━━━┓\n",
       "┃<span style=\"font-weight: bold\"> Layer (type)                    </span>┃<span style=\"font-weight: bold\"> Output Shape           </span>┃<span style=\"font-weight: bold\">       Param # </span>┃\n",
       "┡━━━━━━━━━━━━━━━━━━━━━━━━━━━━━━━━━╇━━━━━━━━━━━━━━━━━━━━━━━━╇━━━━━━━━━━━━━━━┩\n",
       "│ input_layer_2 (<span style=\"color: #0087ff; text-decoration-color: #0087ff\">InputLayer</span>)      │ (<span style=\"color: #00d7ff; text-decoration-color: #00d7ff\">None</span>, <span style=\"color: #00af00; text-decoration-color: #00af00\">1</span>)              │             <span style=\"color: #00af00; text-decoration-color: #00af00\">0</span> │\n",
       "├─────────────────────────────────┼────────────────────────┼───────────────┤\n",
       "│ lambda_2 (<span style=\"color: #0087ff; text-decoration-color: #0087ff\">Lambda</span>)               │ (<span style=\"color: #00d7ff; text-decoration-color: #00d7ff\">None</span>, <span style=\"color: #00af00; text-decoration-color: #00af00\">1</span>)              │             <span style=\"color: #00af00; text-decoration-color: #00af00\">0</span> │\n",
       "└─────────────────────────────────┴────────────────────────┴───────────────┘\n",
       "</pre>\n"
      ],
      "text/plain": [
       "┏━━━━━━━━━━━━━━━━━━━━━━━━━━━━━━━━━┳━━━━━━━━━━━━━━━━━━━━━━━━┳━━━━━━━━━━━━━━━┓\n",
       "┃\u001b[1m \u001b[0m\u001b[1mLayer (type)                   \u001b[0m\u001b[1m \u001b[0m┃\u001b[1m \u001b[0m\u001b[1mOutput Shape          \u001b[0m\u001b[1m \u001b[0m┃\u001b[1m \u001b[0m\u001b[1m      Param #\u001b[0m\u001b[1m \u001b[0m┃\n",
       "┡━━━━━━━━━━━━━━━━━━━━━━━━━━━━━━━━━╇━━━━━━━━━━━━━━━━━━━━━━━━╇━━━━━━━━━━━━━━━┩\n",
       "│ input_layer_2 (\u001b[38;5;33mInputLayer\u001b[0m)      │ (\u001b[38;5;45mNone\u001b[0m, \u001b[38;5;34m1\u001b[0m)              │             \u001b[38;5;34m0\u001b[0m │\n",
       "├─────────────────────────────────┼────────────────────────┼───────────────┤\n",
       "│ lambda_2 (\u001b[38;5;33mLambda\u001b[0m)               │ (\u001b[38;5;45mNone\u001b[0m, \u001b[38;5;34m1\u001b[0m)              │             \u001b[38;5;34m0\u001b[0m │\n",
       "└─────────────────────────────────┴────────────────────────┴───────────────┘\n"
      ]
     },
     "metadata": {},
     "output_type": "display_data"
    },
    {
     "data": {
      "text/html": [
       "<pre style=\"white-space:pre;overflow-x:auto;line-height:normal;font-family:Menlo,'DejaVu Sans Mono',consolas,'Courier New',monospace\"><span style=\"font-weight: bold\"> Total params: </span><span style=\"color: #00af00; text-decoration-color: #00af00\">0</span> (0.00 B)\n",
       "</pre>\n"
      ],
      "text/plain": [
       "\u001b[1m Total params: \u001b[0m\u001b[38;5;34m0\u001b[0m (0.00 B)\n"
      ]
     },
     "metadata": {},
     "output_type": "display_data"
    },
    {
     "data": {
      "text/html": [
       "<pre style=\"white-space:pre;overflow-x:auto;line-height:normal;font-family:Menlo,'DejaVu Sans Mono',consolas,'Courier New',monospace\"><span style=\"font-weight: bold\"> Trainable params: </span><span style=\"color: #00af00; text-decoration-color: #00af00\">0</span> (0.00 B)\n",
       "</pre>\n"
      ],
      "text/plain": [
       "\u001b[1m Trainable params: \u001b[0m\u001b[38;5;34m0\u001b[0m (0.00 B)\n"
      ]
     },
     "metadata": {},
     "output_type": "display_data"
    },
    {
     "data": {
      "text/html": [
       "<pre style=\"white-space:pre;overflow-x:auto;line-height:normal;font-family:Menlo,'DejaVu Sans Mono',consolas,'Courier New',monospace\"><span style=\"font-weight: bold\"> Non-trainable params: </span><span style=\"color: #00af00; text-decoration-color: #00af00\">0</span> (0.00 B)\n",
       "</pre>\n"
      ],
      "text/plain": [
       "\u001b[1m Non-trainable params: \u001b[0m\u001b[38;5;34m0\u001b[0m (0.00 B)\n"
      ]
     },
     "metadata": {},
     "output_type": "display_data"
    },
    {
     "name": "stdout",
     "output_type": "stream",
     "text": [
      "None\n"
     ]
    }
   ],
   "source": [
    "# Initialise weights and input data\n",
    "a = tf.Variable(4.)\n",
    "x_data = tf.keras.Input(shape=(1,))\n",
    "x_val = tf.constant([[5.]], dtype=tf.float32)\n",
    "\n",
    "# Configure the node\n",
    "multiply_layer = tf.keras.layers.Lambda(lambda x: tf.multiply(a, x))\n",
    "outputs = multiply_layer(x_data)\n",
    "\n",
    "# Define the model\n",
    "model = tf.keras.Model(inputs=x_data, outputs=outputs, name='node_1')\n",
    "\n",
    "print(model.summary())"
   ]
  },
  {
   "cell_type": "markdown",
   "metadata": {},
   "source": [
    "First a model with a only the weights trained"
   ]
  },
  {
   "cell_type": "code",
   "execution_count": 9,
   "metadata": {},
   "outputs": [
    {
     "name": "stdout",
     "output_type": "stream",
     "text": [
      "Optimising a multiplication gate output to 50\n",
      "Step: 0: => 7.0 * [[5.]] = [[35.]]\n",
      "Step: 1: => 8.5 * [[5.]] = [[42.5]]\n",
      "Step: 2: => 9.25 * [[5.]] = [[46.25]]\n",
      "Step: 3: => 9.625 * [[5.]] = [[48.125]]\n",
      "Step: 4: => 9.8125 * [[5.]] = [[49.0625]]\n",
      "Step: 5: => 9.90625 * [[5.]] = [[49.53125]]\n",
      "Step: 6: => 9.953125 * [[5.]] = [[49.765625]]\n",
      "Step: 7: => 9.9765625 * [[5.]] = [[49.882812]]\n",
      "Step: 8: => 9.98828125 * [[5.]] = [[49.941406]]\n",
      "Step: 9: => 9.994140625 * [[5.]] = [[49.970703]]\n"
     ]
    }
   ],
   "source": [
    "# Implement the training loop\n",
    "optimiser = tf.keras.optimizers.SGD(0.01)\n",
    "\n",
    "print(\"Optimising a multiplication gate output to 50\")\n",
    "for i in range(10):\n",
    "  # define the gradient tape\n",
    "  with tf.GradientTape() as tape:\n",
    "    # get the output - forward pass\n",
    "    model_output = model(x_val)\n",
    "\n",
    "    # get the loss\n",
    "    loss = tf.square(tf.subtract(model_output, 50.))\n",
    "\n",
    "  # get the gradients to update weights\n",
    "  gradients = tape.gradient(loss, a)\n",
    "\n",
    "  # apply changes to the weights\n",
    "  optimiser.apply_gradients(zip([gradients], [a]))\n",
    "\n",
    "  print(f\"Step: {i}: => {a.numpy()} * {x_val} = {a.numpy()*x_val}\")\n",
    "    "
   ]
  },
  {
   "cell_type": "markdown",
   "metadata": {},
   "source": [
    "Next a model with the bias term included"
   ]
  },
  {
   "cell_type": "code",
   "execution_count": 10,
   "metadata": {},
   "outputs": [
    {
     "data": {
      "text/html": [
       "<pre style=\"white-space:pre;overflow-x:auto;line-height:normal;font-family:Menlo,'DejaVu Sans Mono',consolas,'Courier New',monospace\"><span style=\"font-weight: bold\">Model: \"node_2\"</span>\n",
       "</pre>\n"
      ],
      "text/plain": [
       "\u001b[1mModel: \"node_2\"\u001b[0m\n"
      ]
     },
     "metadata": {},
     "output_type": "display_data"
    },
    {
     "data": {
      "text/html": [
       "<pre style=\"white-space:pre;overflow-x:auto;line-height:normal;font-family:Menlo,'DejaVu Sans Mono',consolas,'Courier New',monospace\">┏━━━━━━━━━━━━━━━━━━━━━━━━━━━━━━━━━┳━━━━━━━━━━━━━━━━━━━━━━━━┳━━━━━━━━━━━━━━━┓\n",
       "┃<span style=\"font-weight: bold\"> Layer (type)                    </span>┃<span style=\"font-weight: bold\"> Output Shape           </span>┃<span style=\"font-weight: bold\">       Param # </span>┃\n",
       "┡━━━━━━━━━━━━━━━━━━━━━━━━━━━━━━━━━╇━━━━━━━━━━━━━━━━━━━━━━━━╇━━━━━━━━━━━━━━━┩\n",
       "│ input_layer_3 (<span style=\"color: #0087ff; text-decoration-color: #0087ff\">InputLayer</span>)      │ (<span style=\"color: #00d7ff; text-decoration-color: #00d7ff\">None</span>, <span style=\"color: #00af00; text-decoration-color: #00af00\">1</span>)              │             <span style=\"color: #00af00; text-decoration-color: #00af00\">0</span> │\n",
       "├─────────────────────────────────┼────────────────────────┼───────────────┤\n",
       "│ lambda_3 (<span style=\"color: #0087ff; text-decoration-color: #0087ff\">Lambda</span>)               │ (<span style=\"color: #00d7ff; text-decoration-color: #00d7ff\">None</span>, <span style=\"color: #00af00; text-decoration-color: #00af00\">1</span>)              │             <span style=\"color: #00af00; text-decoration-color: #00af00\">0</span> │\n",
       "├─────────────────────────────────┼────────────────────────┼───────────────┤\n",
       "│ lambda_4 (<span style=\"color: #0087ff; text-decoration-color: #0087ff\">Lambda</span>)               │ (<span style=\"color: #00d7ff; text-decoration-color: #00d7ff\">None</span>, <span style=\"color: #00af00; text-decoration-color: #00af00\">1</span>)              │             <span style=\"color: #00af00; text-decoration-color: #00af00\">0</span> │\n",
       "└─────────────────────────────────┴────────────────────────┴───────────────┘\n",
       "</pre>\n"
      ],
      "text/plain": [
       "┏━━━━━━━━━━━━━━━━━━━━━━━━━━━━━━━━━┳━━━━━━━━━━━━━━━━━━━━━━━━┳━━━━━━━━━━━━━━━┓\n",
       "┃\u001b[1m \u001b[0m\u001b[1mLayer (type)                   \u001b[0m\u001b[1m \u001b[0m┃\u001b[1m \u001b[0m\u001b[1mOutput Shape          \u001b[0m\u001b[1m \u001b[0m┃\u001b[1m \u001b[0m\u001b[1m      Param #\u001b[0m\u001b[1m \u001b[0m┃\n",
       "┡━━━━━━━━━━━━━━━━━━━━━━━━━━━━━━━━━╇━━━━━━━━━━━━━━━━━━━━━━━━╇━━━━━━━━━━━━━━━┩\n",
       "│ input_layer_3 (\u001b[38;5;33mInputLayer\u001b[0m)      │ (\u001b[38;5;45mNone\u001b[0m, \u001b[38;5;34m1\u001b[0m)              │             \u001b[38;5;34m0\u001b[0m │\n",
       "├─────────────────────────────────┼────────────────────────┼───────────────┤\n",
       "│ lambda_3 (\u001b[38;5;33mLambda\u001b[0m)               │ (\u001b[38;5;45mNone\u001b[0m, \u001b[38;5;34m1\u001b[0m)              │             \u001b[38;5;34m0\u001b[0m │\n",
       "├─────────────────────────────────┼────────────────────────┼───────────────┤\n",
       "│ lambda_4 (\u001b[38;5;33mLambda\u001b[0m)               │ (\u001b[38;5;45mNone\u001b[0m, \u001b[38;5;34m1\u001b[0m)              │             \u001b[38;5;34m0\u001b[0m │\n",
       "└─────────────────────────────────┴────────────────────────┴───────────────┘\n"
      ]
     },
     "metadata": {},
     "output_type": "display_data"
    },
    {
     "data": {
      "text/html": [
       "<pre style=\"white-space:pre;overflow-x:auto;line-height:normal;font-family:Menlo,'DejaVu Sans Mono',consolas,'Courier New',monospace\"><span style=\"font-weight: bold\"> Total params: </span><span style=\"color: #00af00; text-decoration-color: #00af00\">0</span> (0.00 B)\n",
       "</pre>\n"
      ],
      "text/plain": [
       "\u001b[1m Total params: \u001b[0m\u001b[38;5;34m0\u001b[0m (0.00 B)\n"
      ]
     },
     "metadata": {},
     "output_type": "display_data"
    },
    {
     "data": {
      "text/html": [
       "<pre style=\"white-space:pre;overflow-x:auto;line-height:normal;font-family:Menlo,'DejaVu Sans Mono',consolas,'Courier New',monospace\"><span style=\"font-weight: bold\"> Trainable params: </span><span style=\"color: #00af00; text-decoration-color: #00af00\">0</span> (0.00 B)\n",
       "</pre>\n"
      ],
      "text/plain": [
       "\u001b[1m Trainable params: \u001b[0m\u001b[38;5;34m0\u001b[0m (0.00 B)\n"
      ]
     },
     "metadata": {},
     "output_type": "display_data"
    },
    {
     "data": {
      "text/html": [
       "<pre style=\"white-space:pre;overflow-x:auto;line-height:normal;font-family:Menlo,'DejaVu Sans Mono',consolas,'Courier New',monospace\"><span style=\"font-weight: bold\"> Non-trainable params: </span><span style=\"color: #00af00; text-decoration-color: #00af00\">0</span> (0.00 B)\n",
       "</pre>\n"
      ],
      "text/plain": [
       "\u001b[1m Non-trainable params: \u001b[0m\u001b[38;5;34m0\u001b[0m (0.00 B)\n"
      ]
     },
     "metadata": {},
     "output_type": "display_data"
    },
    {
     "name": "stdout",
     "output_type": "stream",
     "text": [
      "None\n"
     ]
    }
   ],
   "source": [
    "# Initialise weights and input data\n",
    "a = tf.Variable(4., dtype=tf.float32)\n",
    "b = tf.Variable(1., dtype=tf.float32)\n",
    "x_data = tf.keras.Input(shape=(1,))\n",
    "x_val = tf.constant([[5.]], dtype=tf.float32)\n",
    "\n",
    "# Configure the node\n",
    "multiply_layer = tf.keras.layers.Lambda(lambda x: tf.multiply(a, x))\n",
    "add_layer = tf.keras.layers.Lambda(lambda x: tf.add(b, x))\n",
    "intermediate = multiply_layer(x_data)\n",
    "outputs = add_layer(intermediate)\n",
    "\n",
    "# Define the model\n",
    "model = tf.keras.Model(inputs=x_data, outputs=outputs, name='node_2')\n",
    "\n",
    "print(model.summary())"
   ]
  },
  {
   "cell_type": "code",
   "execution_count": 12,
   "metadata": {},
   "outputs": [
    {
     "name": "stdout",
     "output_type": "stream",
     "text": [
      "Optimising a multiplication gate output to 50\n",
      "Step: 0: => 6.899999618530273 * [[5.]] + 1.5799999237060547 = [[36.08]]\n",
      "Step: 1: => 8.291999816894531 * [[5.]] + 1.8583998680114746 = [[43.318398]]\n",
      "Step: 2: => 8.960160255432129 * [[5.]] + 1.9920319318771362 = [[46.79283]]\n",
      "Step: 3: => 9.280877113342285 * [[5.]] + 2.0561752319335938 = [[48.46056]]\n",
      "Step: 4: => 9.434821128845215 * [[5.]] + 2.0869641304016113 = [[49.26107]]\n",
      "Step: 5: => 9.508713722229004 * [[5.]] + 2.101742744445801 = [[49.64531]]\n",
      "Step: 6: => 9.544182777404785 * [[5.]] + 2.1088366508483887 = [[49.82975]]\n",
      "Step: 7: => 9.56120777130127 * [[5.]] + 2.112241744995117 = [[49.91828]]\n",
      "Step: 8: => 9.569379806518555 * [[5.]] + 2.1138761043548584 = [[49.960777]]\n",
      "Step: 9: => 9.573302268981934 * [[5.]] + 2.1146605014801025 = [[49.981174]]\n"
     ]
    }
   ],
   "source": [
    "# Implement the training loop\n",
    "optimiser = tf.keras.optimizers.SGD(0.01)\n",
    "\n",
    "print(\"Optimising a multiplication gate output to 50\")\n",
    "for i in range(10):\n",
    "  # define the gradient tape\n",
    "  with tf.GradientTape(persistent=True) as tape:\n",
    "    # get the output - forward pass\n",
    "    model_output = model(x_val)\n",
    "\n",
    "    # get the loss\n",
    "    loss = tf.square(tf.subtract(model_output, 50.))\n",
    "\n",
    "  # get the gradients to update weights\n",
    "  gradients_a = tape.gradient(loss, a)\n",
    "  gradients_b = tape.gradient(loss, b)\n",
    "\n",
    "  # apply changes to the weights\n",
    "  optimiser.apply_gradients(zip([gradients_a, gradients_b], [a, b]))\n",
    "\n",
    "  print(f\"Step: {i}: => {a.numpy()} * {x_val} + {b.numpy()} = {a.numpy()*x_val+b.numpy()}\")"
   ]
  },
  {
   "cell_type": "markdown",
   "metadata": {},
   "source": [
    "📜 __NOTE: Good resource on describing how `GradientTape` works: [here](https://www.geeksforgeeks.org/tf-gradienttape-in-tensorflow/)__"
   ]
  },
  {
   "cell_type": "markdown",
   "metadata": {},
   "source": [
    "## Interpreting results\n",
    "\n",
    "* Tensorflow keeps track of the model operations and variables, making changes to them based on the optimisation algorithm (SGD in the exmaple)\n",
    "* Variables that are listed as `trainable` will be tracked by TF `GradientTape` and only these values will change - not the data\n",
    "* All changes are done and optimised by TF"
   ]
  },
  {
   "cell_type": "markdown",
   "metadata": {},
   "source": [
    "---"
   ]
  },
  {
   "cell_type": "markdown",
   "metadata": {},
   "source": [
    "# Gates and activation functions"
   ]
  },
  {
   "cell_type": "markdown",
   "metadata": {},
   "source": [
    "Introduce activation functions that bring in non-linearity to the model\n",
    "\n",
    "* Sigmoid: $sigmoid(x)=\\sigma(x)=\\frac{1}{1+e^x}$\n",
    "* Rectified linear unit (ReLU): $max(0, x)$"
   ]
  },
  {
   "cell_type": "markdown",
   "metadata": {},
   "source": [
    "Same 1 layer NN using both activation functions and compare. Config:\n",
    "\n",
    "* Target value: 0.75\n",
    "* Loss: L2 distance (MSE)\n",
    "* Optimiser: SGD"
   ]
  },
  {
   "cell_type": "code",
   "execution_count": null,
   "metadata": {},
   "outputs": [],
   "source": [
    "import tensorflow as tf\n",
    "import tensorflow.keras as keras\n",
    "import numpy as np\n",
    "import matplotlib.pyplot as plt\n",
    "tf.random.set_seed(5)\n",
    "np.random.seed(42)\n",
    "\n",
    "import os\n",
    "os.environ[\"TF_CPP_MIN_LOG_LEVEL\"] = \"3\"\n",
    "os.environ[\"GRPC_VERBOSITY\"] = \"ERROR\"\n",
    "os.environ[\"GLOG_minloglevel\"] = \"2\""
   ]
  },
  {
   "cell_type": "code",
   "execution_count": 3,
   "metadata": {},
   "outputs": [
    {
     "name": "stderr",
     "output_type": "stream",
     "text": [
      "W0000 00:00:1736234898.625441    1663 gpu_device.cc:2344] Cannot dlopen some GPU libraries. Please make sure the missing libraries mentioned above are installed properly if you would like to use GPU. Follow the guide at https://www.tensorflow.org/install/gpu for how to download and setup the required libraries for your platform.\n",
      "Skipping registering GPU devices...\n"
     ]
    }
   ],
   "source": [
    "# Initialise variables\n",
    "batch_size = 50\n",
    "\n",
    "# define parameters\n",
    "x = np.random.normal(2, 0.1, 500)\n",
    "x_data = tf.keras.Input(shape=(1,))\n",
    "\n",
    "a1 = tf.Variable(tf.random.normal(shape=[1,1], seed=5))\n",
    "b1 = tf.Variable(tf.random.uniform(shape=[1,1], seed=5))\n",
    "a2 = tf.Variable(tf.random.normal(shape=[1,1], seed=5))\n",
    "b2 = tf.Variable(tf.random.uniform(shape=[1,1], seed=5))"
   ]
  },
  {
   "cell_type": "code",
   "execution_count": 4,
   "metadata": {},
   "outputs": [],
   "source": [
    "# Use the subclassing API\n",
    "class MyCustomGateSigmoid(tf.keras.layers.Layer):\n",
    "  def __init__(self, units, a1, b1):\n",
    "    super(MyCustomGateSigmoid, self).__init__()\n",
    "    self.units = units\n",
    "    self.a1 = a1\n",
    "    self.b1 = b1\n",
    "  \n",
    "  def call(self, inputs):\n",
    "    return tf.math.sigmoid(inputs * self.a1 + self.b1)\n",
    "\n",
    "# Define the custom layer\n",
    "my_custom_gate_sigmoid = MyCustomGateSigmoid(units=1, a1=a1, b1=b1)\n",
    "output_sigmoid = my_custom_gate_sigmoid(x_data)\n",
    "\n",
    "# Build the model\n",
    "model_sigmoid = tf.keras.Model(inputs=x_data, outputs=output_sigmoid, name='node_sigmoid')"
   ]
  },
  {
   "cell_type": "code",
   "execution_count": 5,
   "metadata": {},
   "outputs": [],
   "source": [
    "# Use the subclassing API\n",
    "class MyCustomGateRelu(tf.keras.layers.Layer):\n",
    "  def __init__(self, units, a2, b2):\n",
    "    super(MyCustomGateRelu, self).__init__()\n",
    "    self.units = units\n",
    "    self.a2 = a2\n",
    "    self.b2 = b2\n",
    "  \n",
    "  def call(self, inputs):\n",
    "    return tf.nn.relu(inputs * self.a2 + self.b2)\n",
    "\n",
    "# Define the custom layer\n",
    "my_custom_gate_relu = MyCustomGateRelu(units=1, a2=a2, b2=b2)\n",
    "output_relu = my_custom_gate_relu(x_data)\n",
    "\n",
    "# Build the model\n",
    "model_relu = tf.keras.Model(inputs=x_data, outputs=output_relu, name='node_relu')"
   ]
  },
  {
   "cell_type": "code",
   "execution_count": 6,
   "metadata": {},
   "outputs": [
    {
     "name": "stdout",
     "output_type": "stream",
     "text": [
      "Optimising Sigmoid and Relu outputs to 0.75\n",
      "\n",
      "Sigmoid = 0.053502932 | Relu = 0.41717994\n",
      "Sigmoid = 0.06592579 | Relu = 0.74954367\n",
      "Sigmoid = 0.07885075 | Relu = 0.7502562\n",
      "Sigmoid = 0.10079076 | Relu = 0.75001615\n",
      "Sigmoid = 0.1306659 | Relu = 0.74857485\n",
      "Sigmoid = 0.18301636 | Relu = 0.7482997\n",
      "Sigmoid = 0.2614831 | Relu = 0.7496901\n",
      "Sigmoid = 0.36430547 | Relu = 0.75106066\n",
      "Sigmoid = 0.46104255 | Relu = 0.74935675\n",
      "Sigmoid = 0.5375254 | Relu = 0.7483227\n"
     ]
    }
   ],
   "source": [
    "# Define the training loop\n",
    "optimiser_sigmoid = tf.keras.optimizers.SGD(0.01)\n",
    "optimiser_relu = tf.keras.optimizers.SGD(0.01)\n",
    "\n",
    "\n",
    "# Run loop across gates\n",
    "print(\"Optimising Sigmoid and Relu outputs to 0.75\\n\")\n",
    "\n",
    "loss_vec_sigmoid = []\n",
    "loss_vec_relu = []\n",
    "\n",
    "activation_sigmoid = []\n",
    "activation_relu = []\n",
    "\n",
    "for i in range(500):\n",
    "\n",
    "  # Randomly select data to be used for training\n",
    "  rand_indices = np.random.choice(len(x), size=batch_size)\n",
    "  x_vals = np.transpose([x[rand_indices]])\n",
    "\n",
    "  with tf.GradientTape(persistent=True) as tape:\n",
    "\n",
    "    # Forward pass\n",
    "    sigmoid_output = model_sigmoid(x_vals)\n",
    "    relu_output = model_relu(x_vals)\n",
    "\n",
    "    # Get loss\n",
    "    loss_sigmoid = tf.reduce_mean(tf.square(tf.subtract(sigmoid_output, 0.75)))\n",
    "    loss_vec_sigmoid.append(loss_sigmoid)\n",
    "    loss_relu = tf.reduce_mean(tf.square(tf.subtract(relu_output, 0.75)))\n",
    "    loss_vec_relu.append(loss_relu)\n",
    "\n",
    "  # gradient computation\n",
    "  gradients_a1 = tape.gradient(loss_sigmoid, my_custom_gate_sigmoid.a1)\n",
    "  gradients_b1 = tape.gradient(loss_sigmoid, my_custom_gate_sigmoid.b1)\n",
    "  \n",
    "  gradients_a2 = tape.gradient(loss_relu, my_custom_gate_relu.a2)\n",
    "  gradients_b2 = tape.gradient(loss_relu, my_custom_gate_relu.b2)\n",
    "\n",
    "  # Applying changes to weights\n",
    "  optimiser_sigmoid.apply_gradients(zip([gradients_a1, gradients_b1], [my_custom_gate_sigmoid.a1, my_custom_gate_sigmoid.b1]))\n",
    "  optimiser_relu.apply_gradients(zip([gradients_a2, gradients_b2], [my_custom_gate_relu.a2, my_custom_gate_relu.b2]))\n",
    "\n",
    "  output_sigmoid = model_sigmoid(x_vals)\n",
    "  output_relu = model_relu(x_vals)\n",
    "\n",
    "  activation_sigmoid.append(np.mean(output_sigmoid))\n",
    "  activation_relu.append(np.mean(output_relu))\n",
    "\n",
    "  if i % 50 == 0:\n",
    "    print(f\"Sigmoid = {str(np.mean(output_sigmoid))} | Relu = {str(np.mean(output_relu))}\")"
   ]
  },
  {
   "cell_type": "code",
   "execution_count": 7,
   "metadata": {},
   "outputs": [
    {
     "data": {
      "image/png": "[encoded data removed]",
      "text/plain": [
       "<Figure size 640x480 with 1 Axes>"
      ]
     },
     "metadata": {},
     "output_type": "display_data"
    },
    {
     "data": {
      "image/png": "[encoded data removed]",
      "text/plain": [
       "<Figure size 640x480 with 1 Axes>"
      ]
     },
     "metadata": {},
     "output_type": "display_data"
    }
   ],
   "source": [
    "# Plotting the loss and activation outputs\n",
    "plt.plot(activation_sigmoid, 'k-', label='Sigmoid Activation')\n",
    "plt.plot(activation_relu, 'r--', label='Relu Activation')\n",
    "plt.ylim([0, 1.0])\n",
    "plt.title('Activation Outputs')\n",
    "plt.xlabel('Generation')\n",
    "plt.ylabel('Outputs')\n",
    "plt.legend(loc='upper right')\n",
    "plt.show()\n",
    "\n",
    "plt.plot(loss_vec_sigmoid, 'k-', label='Sigmoid Loss') \n",
    "plt.plot(loss_vec_relu, 'r--', label='Relu Loss') \n",
    "plt.ylim([0, 1.0]) \n",
    "plt.title('Loss per Generation') \n",
    "plt.xlabel('Generation') \n",
    "plt.ylabel('Loss') \n",
    "plt.legend(loc='upper right') \n",
    "plt.show() "
   ]
  },
  {
   "cell_type": "markdown",
   "metadata": {},
   "source": [
    "## Interpreting results\n",
    "\n",
    "* Both show convergence, but Relu achieves it much faster than sigmoid\n",
    "* Relu returns 0 outputs more often which introduces _sparsity_, allowing for convergence to happen faster, but loss of controlled gradients (potentially vanishing gradient problem on larger networks)\n",
    "* Sigmoid has well-controlled gradients and prevents extreme values (too low or too high) at the expense of slower convergence because updates are not as drastic\n",
    "\n",
    "__Other alternatives__\n",
    "\n",
    "* Smoother (like sigmoid): arctan, hypertangent, heaveside step\n",
    "* Faster (like Relu): softplus, leaky ReLU, ELU"
   ]
  },
  {
   "cell_type": "markdown",
   "metadata": {},
   "source": [
    "---"
   ]
  },
  {
   "cell_type": "markdown",
   "metadata": {},
   "source": [
    "# Implementing one-layer neural network"
   ]
  },
  {
   "cell_type": "markdown",
   "metadata": {},
   "source": [
    "Implementing on the iris dataset\n",
    "\n",
    "__🚨 NN's are based on matrix multiplicatoin, so the dimensions of data and matrix must align__"
   ]
  },
  {
   "cell_type": "code",
   "execution_count": 3,
   "metadata": {},
   "outputs": [],
   "source": [
    "import tensorflow as tf\n",
    "import numpy as np\n",
    "import matplotlib.pyplot as plt\n",
    "from sklearn import datasets\n",
    "\n",
    "import os\n",
    "os.environ[\"TF_CPP_MIN_LOG_LEVEL\"] = \"3\"\n",
    "os.environ[\"GRPC_VERBOSITY\"] = \"ERROR\"\n",
    "os.environ[\"GLOG_minloglevel\"] = \"2\""
   ]
  },
  {
   "cell_type": "code",
   "execution_count": 4,
   "metadata": {},
   "outputs": [],
   "source": [
    "# Load data\n",
    "iris = datasets.load_iris()\n",
    "# Get only relevant features\n",
    "x_vals = np.array([x[0:3] for x in iris.data])\n",
    "\n",
    "# Get target variable - Peral Width\n",
    "y_vals = np.array([x[3] for x in iris.data])\n",
    "\n",
    "# Setting seed\n",
    "seed = 3\n",
    "np.random.seed(seed)\n",
    "tf.random.set_seed(seed)"
   ]
  },
  {
   "cell_type": "code",
   "execution_count": 5,
   "metadata": {},
   "outputs": [],
   "source": [
    "# Split dat ainto train/test - 80/20\n",
    "train_indices = np.random.choice(len(x_vals), round(len(x_vals) * 0.8), replace=False)\n",
    "test_indices = np.array(list(set(range(len(x_vals))) - set(train_indices)))\n",
    "x_vals_train = x_vals[train_indices]\n",
    "x_vals_test = x_vals[test_indices]\n",
    "y_vals_train = y_vals[train_indices]\n",
    "y_vals_test = y_vals[test_indices]"
   ]
  },
  {
   "cell_type": "code",
   "execution_count": 6,
   "metadata": {},
   "outputs": [],
   "source": [
    "# Normalise by column (min-max norm)\n",
    "def normalise_cols(m):\n",
    "  col_max = m.max(axis=0)\n",
    "  col_min = m.min(axis=0)\n",
    "  return (m - col_min) / (col_max - col_min)\n",
    "\n",
    "x_vals_train = np.nan_to_num(normalise_cols(x_vals_train))\n",
    "x_vals_test = np.nan_to_num(normalise_cols(x_vals_test))"
   ]
  },
  {
   "cell_type": "code",
   "execution_count": 7,
   "metadata": {},
   "outputs": [
    {
     "name": "stderr",
     "output_type": "stream",
     "text": [
      "W0000 00:00:1736306067.507129     932 gpu_device.cc:2344] Cannot dlopen some GPU libraries. Please make sure the missing libraries mentioned above are installed properly if you would like to use GPU. Follow the guide at https://www.tensorflow.org/install/gpu for how to download and setup the required libraries for your platform.\n",
      "Skipping registering GPU devices...\n"
     ]
    }
   ],
   "source": [
    "# Define the model\n",
    "BATCH_SIZE = 50\n",
    "HIDDEN_LAYER_NODES = 5\n",
    "\n",
    "# Input layer\n",
    "x_data = tf.keras.Input(shape=(3,), dtype=tf.float32)\n",
    "\n",
    "# Create variables for both NN Layer\n",
    "a1 = tf.Variable(tf.random.normal(shape=[3, HIDDEN_LAYER_NODES], seed=seed)) # inputs -> hd1\n",
    "b1 = tf.Variable(tf.random.normal(shape=[HIDDEN_LAYER_NODES], seed=seed)) # hd1 bias\n",
    "a2 = tf.Variable(tf.random.normal(shape=[HIDDEN_LAYER_NODES, 1], seed=seed)) # hd1 -> prediction\n",
    "b2 = tf.Variable(tf.random.normal(shape=[1], seed=seed)) # bias for output\n",
    "\n",
    "# Define the layers\n",
    "hidden_output = tf.keras.layers.Lambda(lambda x: tf.nn.relu(tf.add(tf.matmul(x, a1), b1)))\n",
    "final_output = tf.keras.layers.Lambda(lambda x: tf.nn.relu(tf.add(tf.matmul(x, a2), b2)))\n",
    "\n",
    "hidden_layer = hidden_output(x_data)\n",
    "output = final_output(hidden_layer)\n",
    "\n",
    "# Build the model\n",
    "model = tf.keras.Model(inputs=x_data, outputs=output, name='one_layer_neural_network')"
   ]
  },
  {
   "cell_type": "code",
   "execution_count": 11,
   "metadata": {},
   "outputs": [
    {
     "data": {
      "text/html": [
       "<pre style=\"white-space:pre;overflow-x:auto;line-height:normal;font-family:Menlo,'DejaVu Sans Mono',consolas,'Courier New',monospace\"><span style=\"font-weight: bold\">Model: \"one_layer_neural_network\"</span>\n",
       "</pre>\n"
      ],
      "text/plain": [
       "\u001b[1mModel: \"one_layer_neural_network\"\u001b[0m\n"
      ]
     },
     "metadata": {},
     "output_type": "display_data"
    },
    {
     "data": {
      "text/html": [
       "<pre style=\"white-space:pre;overflow-x:auto;line-height:normal;font-family:Menlo,'DejaVu Sans Mono',consolas,'Courier New',monospace\">┏━━━━━━━━━━━━━━━━━━━━━━━━━━━━━━━━━┳━━━━━━━━━━━━━━━━━━━━━━━━┳━━━━━━━━━━━━━━━┓\n",
       "┃<span style=\"font-weight: bold\"> Layer (type)                    </span>┃<span style=\"font-weight: bold\"> Output Shape           </span>┃<span style=\"font-weight: bold\">       Param # </span>┃\n",
       "┡━━━━━━━━━━━━━━━━━━━━━━━━━━━━━━━━━╇━━━━━━━━━━━━━━━━━━━━━━━━╇━━━━━━━━━━━━━━━┩\n",
       "│ input_layer (<span style=\"color: #0087ff; text-decoration-color: #0087ff\">InputLayer</span>)        │ (<span style=\"color: #00d7ff; text-decoration-color: #00d7ff\">None</span>, <span style=\"color: #00af00; text-decoration-color: #00af00\">3</span>)              │             <span style=\"color: #00af00; text-decoration-color: #00af00\">0</span> │\n",
       "├─────────────────────────────────┼────────────────────────┼───────────────┤\n",
       "│ lambda (<span style=\"color: #0087ff; text-decoration-color: #0087ff\">Lambda</span>)                 │ (<span style=\"color: #00d7ff; text-decoration-color: #00d7ff\">None</span>, <span style=\"color: #00af00; text-decoration-color: #00af00\">5</span>)              │             <span style=\"color: #00af00; text-decoration-color: #00af00\">0</span> │\n",
       "├─────────────────────────────────┼────────────────────────┼───────────────┤\n",
       "│ lambda_1 (<span style=\"color: #0087ff; text-decoration-color: #0087ff\">Lambda</span>)               │ (<span style=\"color: #00d7ff; text-decoration-color: #00d7ff\">None</span>, <span style=\"color: #00af00; text-decoration-color: #00af00\">1</span>)              │             <span style=\"color: #00af00; text-decoration-color: #00af00\">0</span> │\n",
       "└─────────────────────────────────┴────────────────────────┴───────────────┘\n",
       "</pre>\n"
      ],
      "text/plain": [
       "┏━━━━━━━━━━━━━━━━━━━━━━━━━━━━━━━━━┳━━━━━━━━━━━━━━━━━━━━━━━━┳━━━━━━━━━━━━━━━┓\n",
       "┃\u001b[1m \u001b[0m\u001b[1mLayer (type)                   \u001b[0m\u001b[1m \u001b[0m┃\u001b[1m \u001b[0m\u001b[1mOutput Shape          \u001b[0m\u001b[1m \u001b[0m┃\u001b[1m \u001b[0m\u001b[1m      Param #\u001b[0m\u001b[1m \u001b[0m┃\n",
       "┡━━━━━━━━━━━━━━━━━━━━━━━━━━━━━━━━━╇━━━━━━━━━━━━━━━━━━━━━━━━╇━━━━━━━━━━━━━━━┩\n",
       "│ input_layer (\u001b[38;5;33mInputLayer\u001b[0m)        │ (\u001b[38;5;45mNone\u001b[0m, \u001b[38;5;34m3\u001b[0m)              │             \u001b[38;5;34m0\u001b[0m │\n",
       "├─────────────────────────────────┼────────────────────────┼───────────────┤\n",
       "│ lambda (\u001b[38;5;33mLambda\u001b[0m)                 │ (\u001b[38;5;45mNone\u001b[0m, \u001b[38;5;34m5\u001b[0m)              │             \u001b[38;5;34m0\u001b[0m │\n",
       "├─────────────────────────────────┼────────────────────────┼───────────────┤\n",
       "│ lambda_1 (\u001b[38;5;33mLambda\u001b[0m)               │ (\u001b[38;5;45mNone\u001b[0m, \u001b[38;5;34m1\u001b[0m)              │             \u001b[38;5;34m0\u001b[0m │\n",
       "└─────────────────────────────────┴────────────────────────┴───────────────┘\n"
      ]
     },
     "metadata": {},
     "output_type": "display_data"
    },
    {
     "data": {
      "text/html": [
       "<pre style=\"white-space:pre;overflow-x:auto;line-height:normal;font-family:Menlo,'DejaVu Sans Mono',consolas,'Courier New',monospace\"><span style=\"font-weight: bold\"> Total params: </span><span style=\"color: #00af00; text-decoration-color: #00af00\">0</span> (0.00 B)\n",
       "</pre>\n"
      ],
      "text/plain": [
       "\u001b[1m Total params: \u001b[0m\u001b[38;5;34m0\u001b[0m (0.00 B)\n"
      ]
     },
     "metadata": {},
     "output_type": "display_data"
    },
    {
     "data": {
      "text/html": [
       "<pre style=\"white-space:pre;overflow-x:auto;line-height:normal;font-family:Menlo,'DejaVu Sans Mono',consolas,'Courier New',monospace\"><span style=\"font-weight: bold\"> Trainable params: </span><span style=\"color: #00af00; text-decoration-color: #00af00\">0</span> (0.00 B)\n",
       "</pre>\n"
      ],
      "text/plain": [
       "\u001b[1m Trainable params: \u001b[0m\u001b[38;5;34m0\u001b[0m (0.00 B)\n"
      ]
     },
     "metadata": {},
     "output_type": "display_data"
    },
    {
     "data": {
      "text/html": [
       "<pre style=\"white-space:pre;overflow-x:auto;line-height:normal;font-family:Menlo,'DejaVu Sans Mono',consolas,'Courier New',monospace\"><span style=\"font-weight: bold\"> Non-trainable params: </span><span style=\"color: #00af00; text-decoration-color: #00af00\">0</span> (0.00 B)\n",
       "</pre>\n"
      ],
      "text/plain": [
       "\u001b[1m Non-trainable params: \u001b[0m\u001b[38;5;34m0\u001b[0m (0.00 B)\n"
      ]
     },
     "metadata": {},
     "output_type": "display_data"
    }
   ],
   "source": [
    "model.summary()"
   ]
  },
  {
   "cell_type": "code",
   "execution_count": 8,
   "metadata": {},
   "outputs": [
    {
     "name": "stdout",
     "output_type": "stream",
     "text": [
      "Generation: 50. Loss = 0.6273957\n",
      "Generation: 100. Loss = 0.15347697\n",
      "Generation: 150. Loss = 0.15431024\n",
      "Generation: 200. Loss = 0.11715934\n",
      "Generation: 250. Loss = 0.12236561\n",
      "Generation: 300. Loss = 0.12134756\n",
      "Generation: 350. Loss = 0.072587565\n",
      "Generation: 400. Loss = 0.14590776\n",
      "Generation: 450. Loss = 0.14075774\n",
      "Generation: 500. Loss = 0.13127385\n"
     ]
    }
   ],
   "source": [
    "# Training loop\n",
    "optimiser = tf.keras.optimizers.SGD(0.005)\n",
    "\n",
    "loss_vec = []\n",
    "test_loss =[]\n",
    "\n",
    "for i in range(500):\n",
    "  rand_index = np.random.choice(len(x_vals_train), size=BATCH_SIZE)\n",
    "  rand_x = x_vals_train[rand_index]\n",
    "  rand_y = np.transpose([y_vals_train[rand_index]])\n",
    "\n",
    "  # Create the gradienttape\n",
    "  with tf.GradientTape(persistent=True) as tape:\n",
    "    output = model(rand_x)\n",
    "\n",
    "    loss = tf.reduce_mean(tf.square(rand_y - output))\n",
    "    loss_vec.append(np.sqrt(loss))\n",
    "  \n",
    "  gradient_a1 = tape.gradient(loss, a1)\n",
    "  gradient_b1 = tape.gradient(loss, b1)\n",
    "  gradient_a2 = tape.gradient(loss, a2)\n",
    "  gradient_b2 = tape.gradient(loss, b2)\n",
    "\n",
    "  optimiser.apply_gradients(\n",
    "    zip([gradient_a1, gradient_a2, gradient_b1, gradient_b2],\n",
    "    [a1, a2, b1, b2])\n",
    "  )\n",
    "\n",
    "  # Test data\n",
    "  output_test = model(x_vals_test)\n",
    "  loss_test = tf.reduce_mean(tf.square(np.transpose([y_vals_test]) - output_test))\n",
    "  test_loss.append(np.sqrt(loss_test))\n",
    "\n",
    "  if (i+1)%50==0:\n",
    "    print('Generation: ' + str(i+1) + '. Loss = ' + str(np.mean(loss)))"
   ]
  },
  {
   "cell_type": "code",
   "execution_count": 12,
   "metadata": {},
   "outputs": [
    {
     "data": {
      "image/png": "[encoded data removed]",
      "text/plain": [
       "<Figure size 640x480 with 1 Axes>"
      ]
     },
     "metadata": {},
     "output_type": "display_data"
    }
   ],
   "source": [
    "%matplotlib inline\n",
    "\n",
    "plt.ylim([0, 1.0])\n",
    "plt.plot(loss_vec, 'k-', label='Train Loss')\n",
    "plt.plot(test_loss, 'r--', label='Test Loss')\n",
    "plt.title('Loss (MSE) per Generation')\n",
    "plt.legend(loc='upper right')\n",
    "plt.xlabel('Generation')\n",
    "plt.ylabel('Loss')\n",
    "plt.show()"
   ]
  },
  {
   "cell_type": "markdown",
   "metadata": {},
   "source": [
    "## Interpreting results\n",
    "\n",
    "* Training is not as smooth becuase (1) batches during training will result in fluctuations since it points only to the trend of the batch (2) train set will impact variables in the model causing different results across each pass\n",
    "* Implemented a hidden layer with 15 weights (3 input variables, 5 hidden nodes) and 5 biases (5 hidden nodes)\n",
    "* Generally favourable results with error hovering between the 0.12-0.15 mark\n"
   ]
  },
  {
   "cell_type": "markdown",
   "metadata": {},
   "source": [
    "---"
   ]
  },
  {
   "cell_type": "markdown",
   "metadata": {},
   "source": [
    "# Implementing Different Layers"
   ]
  },
  {
   "cell_type": "markdown",
   "metadata": {},
   "source": [
    "Introduce the use of different layers and connecting them:\n",
    "\n",
    "1. Convolutional layers - usually use for multidimensional data (e.g images) to aggregate and then apply a non-linear function across the dimensions\n",
    "2. Maxpool layers - Reduces the number of features between each layer (doesn't actually remove, just sets them to 0)"
   ]
  },
  {
   "cell_type": "code",
   "execution_count": 13,
   "metadata": {},
   "outputs": [],
   "source": [
    "import tensorflow as tf\n",
    "import numpy as np\n",
    "import matplotlib.pyplot as plt\n",
    "from sklearn import datasets\n",
    "\n",
    "import os\n",
    "os.environ[\"TF_CPP_MIN_LOG_LEVEL\"] = \"3\"\n",
    "os.environ[\"GRPC_VERBOSITY\"] = \"ERROR\"\n",
    "os.environ[\"GLOG_minloglevel\"] = \"2\""
   ]
  },
  {
   "cell_type": "markdown",
   "metadata": {},
   "source": [
    "For 1D data\n",
    "\n",
    "For convolution layers, use this formula to determine the size of the output:\n",
    "\n",
    "$$\n",
    "output\\ size = \\frac{(W-F+2P)}{S}+1\n",
    "$$\n",
    "\n",
    "* $W$ - Input Size\n",
    "* $F$ - Filter Size\n",
    "* $P$ - Padding Size\n",
    "* $S$ - Stride Size\n",
    "\n",
    "Good resource on calculating Activation size and the number of parameters: [here](https://towardsdatascience.com/understanding-and-calculating-the-number-of-parameters-in-convolution-neural-networks-cnns-fc88790d530d)\n",
    "\n",
    "__⚠️ ALERT: That the size of the subsequent layers (if needed to be specified) must be accurate, else there will be an error thrown__"
   ]
  },
  {
   "cell_type": "code",
   "execution_count": 14,
   "metadata": {},
   "outputs": [],
   "source": [
    "# Hyperparameters\n",
    "DATA_SIZE = 25\n",
    "CONV_SIZE = 5\n",
    "MAXPOOL_SIZE = 5\n",
    "STRIDE_SIZE = 1\n",
    "NUM_OUTPUTS = 5"
   ]
  },
  {
   "cell_type": "code",
   "execution_count": 19,
   "metadata": {},
   "outputs": [
    {
     "name": "stdout",
     "output_type": "stream",
     "text": [
      "======= 1D Data =======\n"
     ]
    },
    {
     "data": {
      "text/html": [
       "<pre style=\"white-space:pre;overflow-x:auto;line-height:normal;font-family:Menlo,'DejaVu Sans Mono',consolas,'Courier New',monospace\"><span style=\"font-weight: bold\">Model: \"model_1D\"</span>\n",
       "</pre>\n"
      ],
      "text/plain": [
       "\u001b[1mModel: \"model_1D\"\u001b[0m\n"
      ]
     },
     "metadata": {},
     "output_type": "display_data"
    },
    {
     "data": {
      "text/html": [
       "<pre style=\"white-space:pre;overflow-x:auto;line-height:normal;font-family:Menlo,'DejaVu Sans Mono',consolas,'Courier New',monospace\">┏━━━━━━━━━━━━━━━━━━━━━━━━━━━━━━━━━┳━━━━━━━━━━━━━━━━━━━━━━━━┳━━━━━━━━━━━━━━━┓\n",
       "┃<span style=\"font-weight: bold\"> Layer (type)                    </span>┃<span style=\"font-weight: bold\"> Output Shape           </span>┃<span style=\"font-weight: bold\">       Param # </span>┃\n",
       "┡━━━━━━━━━━━━━━━━━━━━━━━━━━━━━━━━━╇━━━━━━━━━━━━━━━━━━━━━━━━╇━━━━━━━━━━━━━━━┩\n",
       "│ input_layer (<span style=\"color: #0087ff; text-decoration-color: #0087ff\">InputLayer</span>)        │ (<span style=\"color: #00d7ff; text-decoration-color: #00d7ff\">None</span>, <span style=\"color: #00af00; text-decoration-color: #00af00\">25</span>, <span style=\"color: #00af00; text-decoration-color: #00af00\">1</span>)          │             <span style=\"color: #00af00; text-decoration-color: #00af00\">0</span> │\n",
       "├─────────────────────────────────┼────────────────────────┼───────────────┤\n",
       "│ convolution_layer (<span style=\"color: #0087ff; text-decoration-color: #0087ff\">Conv1D</span>)      │ (<span style=\"color: #00d7ff; text-decoration-color: #00d7ff\">None</span>, <span style=\"color: #00af00; text-decoration-color: #00af00\">21</span>, <span style=\"color: #00af00; text-decoration-color: #00af00\">25</span>)         │           <span style=\"color: #00af00; text-decoration-color: #00af00\">150</span> │\n",
       "├─────────────────────────────────┼────────────────────────┼───────────────┤\n",
       "│ activation_layer (<span style=\"color: #0087ff; text-decoration-color: #0087ff\">ReLU</span>)         │ (<span style=\"color: #00d7ff; text-decoration-color: #00d7ff\">None</span>, <span style=\"color: #00af00; text-decoration-color: #00af00\">21</span>, <span style=\"color: #00af00; text-decoration-color: #00af00\">25</span>)         │             <span style=\"color: #00af00; text-decoration-color: #00af00\">0</span> │\n",
       "├─────────────────────────────────┼────────────────────────┼───────────────┤\n",
       "│ maxpool_layer (<span style=\"color: #0087ff; text-decoration-color: #0087ff\">MaxPooling1D</span>)    │ (<span style=\"color: #00d7ff; text-decoration-color: #00d7ff\">None</span>, <span style=\"color: #00af00; text-decoration-color: #00af00\">17</span>, <span style=\"color: #00af00; text-decoration-color: #00af00\">25</span>)         │             <span style=\"color: #00af00; text-decoration-color: #00af00\">0</span> │\n",
       "├─────────────────────────────────┼────────────────────────┼───────────────┤\n",
       "│ fully_connected_layer (<span style=\"color: #0087ff; text-decoration-color: #0087ff\">Dense</span>)   │ (<span style=\"color: #00d7ff; text-decoration-color: #00d7ff\">None</span>, <span style=\"color: #00af00; text-decoration-color: #00af00\">17</span>, <span style=\"color: #00af00; text-decoration-color: #00af00\">5</span>)          │           <span style=\"color: #00af00; text-decoration-color: #00af00\">130</span> │\n",
       "└─────────────────────────────────┴────────────────────────┴───────────────┘\n",
       "</pre>\n"
      ],
      "text/plain": [
       "┏━━━━━━━━━━━━━━━━━━━━━━━━━━━━━━━━━┳━━━━━━━━━━━━━━━━━━━━━━━━┳━━━━━━━━━━━━━━━┓\n",
       "┃\u001b[1m \u001b[0m\u001b[1mLayer (type)                   \u001b[0m\u001b[1m \u001b[0m┃\u001b[1m \u001b[0m\u001b[1mOutput Shape          \u001b[0m\u001b[1m \u001b[0m┃\u001b[1m \u001b[0m\u001b[1m      Param #\u001b[0m\u001b[1m \u001b[0m┃\n",
       "┡━━━━━━━━━━━━━━━━━━━━━━━━━━━━━━━━━╇━━━━━━━━━━━━━━━━━━━━━━━━╇━━━━━━━━━━━━━━━┩\n",
       "│ input_layer (\u001b[38;5;33mInputLayer\u001b[0m)        │ (\u001b[38;5;45mNone\u001b[0m, \u001b[38;5;34m25\u001b[0m, \u001b[38;5;34m1\u001b[0m)          │             \u001b[38;5;34m0\u001b[0m │\n",
       "├─────────────────────────────────┼────────────────────────┼───────────────┤\n",
       "│ convolution_layer (\u001b[38;5;33mConv1D\u001b[0m)      │ (\u001b[38;5;45mNone\u001b[0m, \u001b[38;5;34m21\u001b[0m, \u001b[38;5;34m25\u001b[0m)         │           \u001b[38;5;34m150\u001b[0m │\n",
       "├─────────────────────────────────┼────────────────────────┼───────────────┤\n",
       "│ activation_layer (\u001b[38;5;33mReLU\u001b[0m)         │ (\u001b[38;5;45mNone\u001b[0m, \u001b[38;5;34m21\u001b[0m, \u001b[38;5;34m25\u001b[0m)         │             \u001b[38;5;34m0\u001b[0m │\n",
       "├─────────────────────────────────┼────────────────────────┼───────────────┤\n",
       "│ maxpool_layer (\u001b[38;5;33mMaxPooling1D\u001b[0m)    │ (\u001b[38;5;45mNone\u001b[0m, \u001b[38;5;34m17\u001b[0m, \u001b[38;5;34m25\u001b[0m)         │             \u001b[38;5;34m0\u001b[0m │\n",
       "├─────────────────────────────────┼────────────────────────┼───────────────┤\n",
       "│ fully_connected_layer (\u001b[38;5;33mDense\u001b[0m)   │ (\u001b[38;5;45mNone\u001b[0m, \u001b[38;5;34m17\u001b[0m, \u001b[38;5;34m5\u001b[0m)          │           \u001b[38;5;34m130\u001b[0m │\n",
       "└─────────────────────────────────┴────────────────────────┴───────────────┘\n"
      ]
     },
     "metadata": {},
     "output_type": "display_data"
    },
    {
     "data": {
      "text/html": [
       "<pre style=\"white-space:pre;overflow-x:auto;line-height:normal;font-family:Menlo,'DejaVu Sans Mono',consolas,'Courier New',monospace\"><span style=\"font-weight: bold\"> Total params: </span><span style=\"color: #00af00; text-decoration-color: #00af00\">280</span> (1.09 KB)\n",
       "</pre>\n"
      ],
      "text/plain": [
       "\u001b[1m Total params: \u001b[0m\u001b[38;5;34m280\u001b[0m (1.09 KB)\n"
      ]
     },
     "metadata": {},
     "output_type": "display_data"
    },
    {
     "data": {
      "text/html": [
       "<pre style=\"white-space:pre;overflow-x:auto;line-height:normal;font-family:Menlo,'DejaVu Sans Mono',consolas,'Courier New',monospace\"><span style=\"font-weight: bold\"> Trainable params: </span><span style=\"color: #00af00; text-decoration-color: #00af00\">280</span> (1.09 KB)\n",
       "</pre>\n"
      ],
      "text/plain": [
       "\u001b[1m Trainable params: \u001b[0m\u001b[38;5;34m280\u001b[0m (1.09 KB)\n"
      ]
     },
     "metadata": {},
     "output_type": "display_data"
    },
    {
     "data": {
      "text/html": [
       "<pre style=\"white-space:pre;overflow-x:auto;line-height:normal;font-family:Menlo,'DejaVu Sans Mono',consolas,'Courier New',monospace\"><span style=\"font-weight: bold\"> Non-trainable params: </span><span style=\"color: #00af00; text-decoration-color: #00af00\">0</span> (0.00 B)\n",
       "</pre>\n"
      ],
      "text/plain": [
       "\u001b[1m Non-trainable params: \u001b[0m\u001b[38;5;34m0\u001b[0m (0.00 B)\n"
      ]
     },
     "metadata": {},
     "output_type": "display_data"
    }
   ],
   "source": [
    "# Define the model architecture\n",
    "## Input layer\n",
    "x_input_1d = tf.keras.Input(shape=(DATA_SIZE, 1), dtype=tf.float32, name='input_layer')\n",
    "\n",
    "## Convolution\n",
    "conv_output = tf.keras.layers.Conv1D(\n",
    "  kernel_size=(CONV_SIZE), # size of the convolutional window\n",
    "  filters=DATA_SIZE, # dimension of the output space\n",
    "  strides=STRIDE_SIZE, # stride length of the convolution\n",
    "  padding=\"valid\",\n",
    "  name='convolution_layer'\n",
    ")(x_input_1d)\n",
    "\n",
    "# Activation layer\n",
    "activation_output = tf.keras.layers.ReLU(name='activation_layer')(conv_output)\n",
    "\n",
    "# Maxpooling layer\n",
    "maxpool_output = tf.keras.layers.MaxPool1D(\n",
    "  strides=STRIDE_SIZE,\n",
    "  pool_size=MAXPOOL_SIZE,\n",
    "  padding='valid',\n",
    "  name='maxpool_layer'\n",
    ")(activation_output)\n",
    "\n",
    "# Fully Connected layer\n",
    "full_output = tf.keras.layers.Dense(units=NUM_OUTPUTS, name='fully_connected_layer')(maxpool_output)\n",
    "\n",
    "model_1D = tf.keras.Model(inputs=x_input_1d, outputs=full_output, name='model_1D')\n",
    "model_1D.summary()"
   ]
  },
  {
   "cell_type": "code",
   "execution_count": 27,
   "metadata": {},
   "outputs": [
    {
     "name": "stdout",
     "output_type": "stream",
     "text": [
      "======= 1D Data =======\n",
      "\n",
      "---- Input layer ----\n",
      "\n",
      "Input = array of length 25\n",
      "---- Convolution layer ----\n",
      "\n",
      "Convolution with filter, length = 5, stride size = 1,results in an array of length 21\n",
      "---- Activation layer ----\n",
      "\n",
      "Input = above array of length 21\n",
      "ReLU element wise returns an array of length 21\n",
      "\n",
      "== maxpool_layer ==\n",
      "Input = above array of length 21\n",
      "MaxPool, window length = 5, stride size = 1, results in the array of length 17\n",
      "\n",
      "== fully_connected_layer ==\n",
      "Input = above array of length 17\n",
      "Fully connected layer on all 4 rows with 17 outputs\n"
     ]
    }
   ],
   "source": [
    "print('======= 1D Data =======\\n')\n",
    "\n",
    "# Input\n",
    "print(\"---- Input layer ----\\n\")\n",
    "print(f'Input = array of length {x_input_1d.shape[1]}')\n",
    "\n",
    "# Convolution\n",
    "print(\"---- Convolution layer ----\\n\")\n",
    "print(f\"Convolution with filter, length = {CONV_SIZE}, stride size = {STRIDE_SIZE},\"\n",
    "f\"results in an array of length {conv_output.shape[1]}\")\n",
    "\n",
    "# Activation\n",
    "print(\"---- Activation layer ----\\n\")\n",
    "print('Input = above array of length %d' % (conv_output.shape[1]))\n",
    "print('ReLU element wise returns an array of length %d' % (activation_output.shape[1]))\n",
    "\n",
    "# Max Pool \n",
    "print('\\n== maxpool_layer ==')\n",
    "print('Input = above array of length %d' % (activation_output.shape[1]))\n",
    "print('MaxPool, window length = %d, stride size = %d, results in the array of length %d' %\n",
    "     (MAXPOOL_SIZE,STRIDE_SIZE,maxpool_output.shape[1]))\n",
    "\n",
    "# Fully Connected \n",
    "print('\\n== fully_connected_layer ==')\n",
    "print('Input = above array of length %d' % (maxpool_output.shape[1]))\n",
    "print('Fully connected layer on all 4 rows with %d outputs' % \n",
    "      (full_output.shape[1]))"
   ]
  },
  {
   "cell_type": "markdown",
   "metadata": {},
   "source": [
    "📜 NOTE: One-dimensional data is import to consider in convulational networks. Time series, signal processing, and some text embeddings are considered to be one-dimensional."
   ]
  },
  {
   "cell_type": "markdown",
   "metadata": {},
   "source": [
    "For 2D Data"
   ]
  },
  {
   "cell_type": "code",
   "execution_count": 28,
   "metadata": {},
   "outputs": [],
   "source": [
    "# Hyperparameters\n",
    "row_size = 10\n",
    "col_size = 10\n",
    "conv_size = 2\n",
    "conv_stride_size = 2\n",
    "maxpool_size = 2\n",
    "maxpool_stride_size = 1\n",
    "num_outputs = 5"
   ]
  },
  {
   "cell_type": "code",
   "execution_count": 30,
   "metadata": {},
   "outputs": [
    {
     "data": {
      "text/html": [
       "<pre style=\"white-space:pre;overflow-x:auto;line-height:normal;font-family:Menlo,'DejaVu Sans Mono',consolas,'Courier New',monospace\"><span style=\"font-weight: bold\">Model: \"model_2D\"</span>\n",
       "</pre>\n"
      ],
      "text/plain": [
       "\u001b[1mModel: \"model_2D\"\u001b[0m\n"
      ]
     },
     "metadata": {},
     "output_type": "display_data"
    },
    {
     "data": {
      "text/html": [
       "<pre style=\"white-space:pre;overflow-x:auto;line-height:normal;font-family:Menlo,'DejaVu Sans Mono',consolas,'Courier New',monospace\">┏━━━━━━━━━━━━━━━━━━━━━━━━━━━━━━━━━┳━━━━━━━━━━━━━━━━━━━━━━━━┳━━━━━━━━━━━━━━━┓\n",
       "┃<span style=\"font-weight: bold\"> Layer (type)                    </span>┃<span style=\"font-weight: bold\"> Output Shape           </span>┃<span style=\"font-weight: bold\">       Param # </span>┃\n",
       "┡━━━━━━━━━━━━━━━━━━━━━━━━━━━━━━━━━╇━━━━━━━━━━━━━━━━━━━━━━━━╇━━━━━━━━━━━━━━━┩\n",
       "│ input_layer_2d (<span style=\"color: #0087ff; text-decoration-color: #0087ff\">InputLayer</span>)     │ (<span style=\"color: #00d7ff; text-decoration-color: #00d7ff\">None</span>, <span style=\"color: #00af00; text-decoration-color: #00af00\">10</span>, <span style=\"color: #00af00; text-decoration-color: #00af00\">10</span>, <span style=\"color: #00af00; text-decoration-color: #00af00\">1</span>)      │             <span style=\"color: #00af00; text-decoration-color: #00af00\">0</span> │\n",
       "├─────────────────────────────────┼────────────────────────┼───────────────┤\n",
       "│ convolution_layer_2d (<span style=\"color: #0087ff; text-decoration-color: #0087ff\">Conv2D</span>)   │ (<span style=\"color: #00d7ff; text-decoration-color: #00d7ff\">None</span>, <span style=\"color: #00af00; text-decoration-color: #00af00\">5</span>, <span style=\"color: #00af00; text-decoration-color: #00af00\">5</span>, <span style=\"color: #00af00; text-decoration-color: #00af00\">2</span>)        │            <span style=\"color: #00af00; text-decoration-color: #00af00\">10</span> │\n",
       "├─────────────────────────────────┼────────────────────────┼───────────────┤\n",
       "│ activation_layer_2d (<span style=\"color: #0087ff; text-decoration-color: #0087ff\">ReLU</span>)      │ (<span style=\"color: #00d7ff; text-decoration-color: #00d7ff\">None</span>, <span style=\"color: #00af00; text-decoration-color: #00af00\">5</span>, <span style=\"color: #00af00; text-decoration-color: #00af00\">5</span>, <span style=\"color: #00af00; text-decoration-color: #00af00\">2</span>)        │             <span style=\"color: #00af00; text-decoration-color: #00af00\">0</span> │\n",
       "├─────────────────────────────────┼────────────────────────┼───────────────┤\n",
       "│ maxpool_layer_2d (<span style=\"color: #0087ff; text-decoration-color: #0087ff\">MaxPooling2D</span>) │ (<span style=\"color: #00d7ff; text-decoration-color: #00d7ff\">None</span>, <span style=\"color: #00af00; text-decoration-color: #00af00\">4</span>, <span style=\"color: #00af00; text-decoration-color: #00af00\">4</span>, <span style=\"color: #00af00; text-decoration-color: #00af00\">2</span>)        │             <span style=\"color: #00af00; text-decoration-color: #00af00\">0</span> │\n",
       "├─────────────────────────────────┼────────────────────────┼───────────────┤\n",
       "│ fully_connected_layer_2d        │ (<span style=\"color: #00d7ff; text-decoration-color: #00d7ff\">None</span>, <span style=\"color: #00af00; text-decoration-color: #00af00\">4</span>, <span style=\"color: #00af00; text-decoration-color: #00af00\">4</span>, <span style=\"color: #00af00; text-decoration-color: #00af00\">5</span>)        │            <span style=\"color: #00af00; text-decoration-color: #00af00\">15</span> │\n",
       "│ (<span style=\"color: #0087ff; text-decoration-color: #0087ff\">Dense</span>)                         │                        │               │\n",
       "└─────────────────────────────────┴────────────────────────┴───────────────┘\n",
       "</pre>\n"
      ],
      "text/plain": [
       "┏━━━━━━━━━━━━━━━━━━━━━━━━━━━━━━━━━┳━━━━━━━━━━━━━━━━━━━━━━━━┳━━━━━━━━━━━━━━━┓\n",
       "┃\u001b[1m \u001b[0m\u001b[1mLayer (type)                   \u001b[0m\u001b[1m \u001b[0m┃\u001b[1m \u001b[0m\u001b[1mOutput Shape          \u001b[0m\u001b[1m \u001b[0m┃\u001b[1m \u001b[0m\u001b[1m      Param #\u001b[0m\u001b[1m \u001b[0m┃\n",
       "┡━━━━━━━━━━━━━━━━━━━━━━━━━━━━━━━━━╇━━━━━━━━━━━━━━━━━━━━━━━━╇━━━━━━━━━━━━━━━┩\n",
       "│ input_layer_2d (\u001b[38;5;33mInputLayer\u001b[0m)     │ (\u001b[38;5;45mNone\u001b[0m, \u001b[38;5;34m10\u001b[0m, \u001b[38;5;34m10\u001b[0m, \u001b[38;5;34m1\u001b[0m)      │             \u001b[38;5;34m0\u001b[0m │\n",
       "├─────────────────────────────────┼────────────────────────┼───────────────┤\n",
       "│ convolution_layer_2d (\u001b[38;5;33mConv2D\u001b[0m)   │ (\u001b[38;5;45mNone\u001b[0m, \u001b[38;5;34m5\u001b[0m, \u001b[38;5;34m5\u001b[0m, \u001b[38;5;34m2\u001b[0m)        │            \u001b[38;5;34m10\u001b[0m │\n",
       "├─────────────────────────────────┼────────────────────────┼───────────────┤\n",
       "│ activation_layer_2d (\u001b[38;5;33mReLU\u001b[0m)      │ (\u001b[38;5;45mNone\u001b[0m, \u001b[38;5;34m5\u001b[0m, \u001b[38;5;34m5\u001b[0m, \u001b[38;5;34m2\u001b[0m)        │             \u001b[38;5;34m0\u001b[0m │\n",
       "├─────────────────────────────────┼────────────────────────┼───────────────┤\n",
       "│ maxpool_layer_2d (\u001b[38;5;33mMaxPooling2D\u001b[0m) │ (\u001b[38;5;45mNone\u001b[0m, \u001b[38;5;34m4\u001b[0m, \u001b[38;5;34m4\u001b[0m, \u001b[38;5;34m2\u001b[0m)        │             \u001b[38;5;34m0\u001b[0m │\n",
       "├─────────────────────────────────┼────────────────────────┼───────────────┤\n",
       "│ fully_connected_layer_2d        │ (\u001b[38;5;45mNone\u001b[0m, \u001b[38;5;34m4\u001b[0m, \u001b[38;5;34m4\u001b[0m, \u001b[38;5;34m5\u001b[0m)        │            \u001b[38;5;34m15\u001b[0m │\n",
       "│ (\u001b[38;5;33mDense\u001b[0m)                         │                        │               │\n",
       "└─────────────────────────────────┴────────────────────────┴───────────────┘\n"
      ]
     },
     "metadata": {},
     "output_type": "display_data"
    },
    {
     "data": {
      "text/html": [
       "<pre style=\"white-space:pre;overflow-x:auto;line-height:normal;font-family:Menlo,'DejaVu Sans Mono',consolas,'Courier New',monospace\"><span style=\"font-weight: bold\"> Total params: </span><span style=\"color: #00af00; text-decoration-color: #00af00\">25</span> (100.00 B)\n",
       "</pre>\n"
      ],
      "text/plain": [
       "\u001b[1m Total params: \u001b[0m\u001b[38;5;34m25\u001b[0m (100.00 B)\n"
      ]
     },
     "metadata": {},
     "output_type": "display_data"
    },
    {
     "data": {
      "text/html": [
       "<pre style=\"white-space:pre;overflow-x:auto;line-height:normal;font-family:Menlo,'DejaVu Sans Mono',consolas,'Courier New',monospace\"><span style=\"font-weight: bold\"> Trainable params: </span><span style=\"color: #00af00; text-decoration-color: #00af00\">25</span> (100.00 B)\n",
       "</pre>\n"
      ],
      "text/plain": [
       "\u001b[1m Trainable params: \u001b[0m\u001b[38;5;34m25\u001b[0m (100.00 B)\n"
      ]
     },
     "metadata": {},
     "output_type": "display_data"
    },
    {
     "data": {
      "text/html": [
       "<pre style=\"white-space:pre;overflow-x:auto;line-height:normal;font-family:Menlo,'DejaVu Sans Mono',consolas,'Courier New',monospace\"><span style=\"font-weight: bold\"> Non-trainable params: </span><span style=\"color: #00af00; text-decoration-color: #00af00\">0</span> (0.00 B)\n",
       "</pre>\n"
      ],
      "text/plain": [
       "\u001b[1m Non-trainable params: \u001b[0m\u001b[38;5;34m0\u001b[0m (0.00 B)\n"
      ]
     },
     "metadata": {},
     "output_type": "display_data"
    }
   ],
   "source": [
    "# Define the model architecture\n",
    "# Input layer\n",
    "x_input_2d = tf.keras.Input(shape=(row_size, col_size, 1), dtype=tf.float32, name='input_layer_2d')\n",
    "\n",
    "# Convolutional layer\n",
    "convolution_output_2d = tf.keras.layers.Conv2D(\n",
    "  kernel_size=(conv_size),\n",
    "  filters=conv_size,\n",
    "  strides=conv_stride_size,\n",
    "  padding='valid',\n",
    "  name='convolution_layer_2d'\n",
    ")(x_input_2d)\n",
    "\n",
    "# Activation layer\n",
    "activation_output_2d = tf.keras.layers.ReLU(name='activation_layer_2d')(convolution_output_2d)\n",
    "\n",
    "# Maxpool layer\n",
    "maxpool_output_2d = tf.keras.layers.MaxPool2D(\n",
    "  strides=maxpool_stride_size,\n",
    "  pool_size=maxpool_size,\n",
    "  padding='valid',\n",
    "  name='maxpool_layer_2d'\n",
    ")(activation_output_2d)\n",
    "\n",
    "# Fully Connected layer\n",
    "full_output_2d = tf.keras.layers.Dense(units=num_outputs, name='fully_connected_layer_2d')(maxpool_output_2d)\n",
    "\n",
    "# Define Model\n",
    "model_2d = tf.keras.Model(inputs=x_input_2d, outputs=full_output_2d, name='model_2D')\n",
    "model_2d.summary()"
   ]
  },
  {
   "cell_type": "code",
   "execution_count": 33,
   "metadata": {},
   "outputs": [
    {
     "data": {
      "text/plain": [
       "(None, 5, 5, 2)"
      ]
     },
     "execution_count": 33,
     "metadata": {},
     "output_type": "execute_result"
    }
   ],
   "source": [
    "convolution_output_2d.shape"
   ]
  },
  {
   "cell_type": "code",
   "execution_count": 36,
   "metadata": {},
   "outputs": [
    {
     "name": "stdout",
     "output_type": "stream",
     "text": [
      ">>>> 2D Data <<<<\n",
      "\n",
      "== input_layer ==\n",
      "Input = (10, 10) array\n",
      "\n",
      "== convolution_layer ==\n",
      "[2, 2] Convolution, stride size = [2, 2] , results in the (5, 5) array\n",
      "\n",
      "== activation_layer ==\n",
      "Input = the above (5, 5) array\n",
      "ReLU element wise returns the (5, 5) array\n",
      "\n",
      "== maxpool_layer ==\n",
      "Input = the above (5, 5) array\n",
      "MaxPool, stride size = [1, 1], results in (4, 4) array\n",
      "\n",
      "== fully_connected_layer ==\n",
      "Input = the above (4, 4) array\n",
      "Fully connected layer on all 4 rows results in 5 outputs\n"
     ]
    }
   ],
   "source": [
    "print('>>>> 2D Data <<<<')\n",
    "\n",
    "# Input \n",
    "print('\\n== input_layer ==')\n",
    "print('Input = %s array' % (str(x_input_2d.shape[1:3])))\n",
    "\n",
    "# Convolution\n",
    "print('\\n== convolution_layer ==')\n",
    "print('%s Convolution, stride size = [%d, %d] , results in the %s array' % \n",
    "      ([conv_size,conv_size],conv_stride_size,conv_stride_size,str(convolution_output_2d.shape[1:3])))\n",
    "\n",
    "# Activation\n",
    "print('\\n== activation_layer ==')\n",
    "print('Input = the above %s array' % (str(convolution_output_2d.shape[1:3])))\n",
    "print('ReLU element wise returns the %s array' % (str(activation_output_2d.shape[1:3])))\n",
    "\n",
    "# Max Pool\n",
    "print('\\n== maxpool_layer ==')\n",
    "print('Input = the above %s array' % (str(activation_output_2d.shape[1:3])))\n",
    "print('MaxPool, stride size = [%d, %d], results in %s array' % \n",
    "      (maxpool_stride_size,maxpool_stride_size,str(maxpool_output_2d.shape[1:3])))\n",
    "\n",
    "# Fully Connected\n",
    "print('\\n== fully_connected_layer ==')\n",
    "print('Input = the above %s array' % (str(maxpool_output_2d.shape[1:3])))\n",
    "print('Fully connected layer on all %d rows results in %s outputs' % \n",
    "      (maxpool_output_2d.shape[1],full_output_2d.shape[3]))"
   ]
  },
  {
   "cell_type": "markdown",
   "metadata": {},
   "source": [
    "## Interpreting results\n",
    "\n",
    "* Importance of shapes and sizes in neural networks"
   ]
  }
 ],
 "metadata": {
  "kernelspec": {
   "display_name": "Python 3 (ipykernel)",
   "language": "python",
   "name": "python3"
  },
  "language_info": {
   "codemirror_mode": {
    "name": "ipython",
    "version": 3
   },
   "file_extension": ".py",
   "mimetype": "text/x-python",
   "name": "python",
   "nbconvert_exporter": "python",
   "pygments_lexer": "ipython3",
   "version": "3.11.0rc1"
  }
 },
 "nbformat": 4,
 "nbformat_minor": 2
}
