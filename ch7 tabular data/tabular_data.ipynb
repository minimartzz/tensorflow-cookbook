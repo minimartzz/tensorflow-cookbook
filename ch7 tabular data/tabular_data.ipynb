{
 "cells": [
  {
   "cell_type": "markdown",
   "metadata": {},
   "source": [
    "# Predicting with Tabular Data"
   ]
  },
  {
   "cell_type": "markdown",
   "metadata": {},
   "source": [
    "| Date | User | Change Type | Remarks |  \n",
    "| ---- | ---- | ----------- | ------- |\n",
    "| 20/01/25   | Martin | Create  | Started working on ch7: tabular data | "
   ]
  },
  {
   "cell_type": "markdown",
   "metadata": {
    "vscode": {
     "languageId": "plaintext"
    }
   },
   "source": [
    "# Content\n",
    "\n",
    "* [Introduction](#introduction)"
   ]
  },
  {
   "cell_type": "markdown",
   "metadata": {},
   "source": [
    "# Introduction"
   ]
  },
  {
   "cell_type": "markdown",
   "metadata": {},
   "source": [
    "Most data is stored in tables. This type of data is known as tabular data.\n",
    "\n",
    "Common challenges when using DNN with tabular data:\n",
    "\n",
    "1. Mixed features data types (e.g string, float, int, text, ...)\n",
    "2. Data in sparse format - more zeros than non-zeros - DNN have difficults converting these into meaningful gradients to apply backpropogation\n",
    "3. No state-of-the-art architecture to resolve it\n",
    "4. Less data is available\n",
    "5. Less interpretable\n",
    "6. Alternative models (e.g XGBoost, LightGBM, CatBoost) perform better"
   ]
  },
  {
   "cell_type": "markdown",
   "metadata": {},
   "source": [
    "# Processing Numerical Data"
   ]
  },
  {
   "cell_type": "markdown",
   "metadata": {},
   "source": [
    "Types of numerical data:\n",
    "\n",
    "* Data expressed as a floating number\n",
    "* Integer that has a certain number of unique values (or order - ordinal)\n",
    "* Interger data is not representing a class or label (standard categorical feature)\n",
    "\n",
    "Potential issues:\n",
    "\n",
    "* Missing data\n",
    "* Constant values - slows down computation and interferes with bias in each neuron\n",
    "* Skewed distributions\n",
    "* Non-standardised data (extreme values)\n",
    "\n",
    "🚨 __CRITICAL: Have to deal with these issues before passing data to neural network, else it will return errors__"
   ]
  },
  {
   "cell_type": "markdown",
   "metadata": {},
   "source": [
    "Build a scikit-learn pipeline with the following functions:\n",
    "\n",
    "* Minimum acceptable variance for a feature to be kept - else there will be unwanted constants in the network\n",
    "* Inputer for missing values\n",
    "  - 📜 __NOTE:__ More sophisticated inputation methods can utilise information from other variables to perform inputation.\n",
    "  - Inputation is critical because sometimes missing values represent some relationship that is hidden within the dataset but is not captured numerically\n",
    "  - Potentially use binary feature encoding for these missing values\n",
    "  - Whether to add binary features to denote \n",
    "* Whether to transform distribution of variables to resemble a more symetric/ expected distribution\n",
    "* Rescale variables or outputs based on their statistical distribution (Standardisation, Normalisation, etc.)"
   ]
  },
  {
   "cell_type": "code",
   "execution_count": 4,
   "metadata": {},
   "outputs": [],
   "source": [
    "from catboost.datasets import amazon\n",
    "\n",
    "X, Xt = amazon()\n",
    "\n",
    "y = X['ACTION'].apply(lambda x: 1 if x == 1 else 0).values\n",
    "X.drop(['ACTION'], axis=1, inplace=True)"
   ]
  },
  {
   "cell_type": "code",
   "execution_count": 5,
   "metadata": {},
   "outputs": [
    {
     "data": {
      "text/html": [
       "<div>\n",
       "<style scoped>\n",
       "    .dataframe tbody tr th:only-of-type {\n",
       "        vertical-align: middle;\n",
       "    }\n",
       "\n",
       "    .dataframe tbody tr th {\n",
       "        vertical-align: top;\n",
       "    }\n",
       "\n",
       "    .dataframe thead th {\n",
       "        text-align: right;\n",
       "    }\n",
       "</style>\n",
       "<table border=\"1\" class=\"dataframe\">\n",
       "  <thead>\n",
       "    <tr style=\"text-align: right;\">\n",
       "      <th></th>\n",
       "      <th>RESOURCE</th>\n",
       "      <th>MGR_ID</th>\n",
       "      <th>ROLE_ROLLUP_1</th>\n",
       "      <th>ROLE_ROLLUP_2</th>\n",
       "      <th>ROLE_DEPTNAME</th>\n",
       "      <th>ROLE_TITLE</th>\n",
       "      <th>ROLE_FAMILY_DESC</th>\n",
       "      <th>ROLE_FAMILY</th>\n",
       "      <th>ROLE_CODE</th>\n",
       "    </tr>\n",
       "  </thead>\n",
       "  <tbody>\n",
       "    <tr>\n",
       "      <th>0</th>\n",
       "      <td>39353</td>\n",
       "      <td>85475</td>\n",
       "      <td>117961</td>\n",
       "      <td>118300</td>\n",
       "      <td>123472</td>\n",
       "      <td>117905</td>\n",
       "      <td>117906</td>\n",
       "      <td>290919</td>\n",
       "      <td>117908</td>\n",
       "    </tr>\n",
       "    <tr>\n",
       "      <th>1</th>\n",
       "      <td>17183</td>\n",
       "      <td>1540</td>\n",
       "      <td>117961</td>\n",
       "      <td>118343</td>\n",
       "      <td>123125</td>\n",
       "      <td>118536</td>\n",
       "      <td>118536</td>\n",
       "      <td>308574</td>\n",
       "      <td>118539</td>\n",
       "    </tr>\n",
       "    <tr>\n",
       "      <th>2</th>\n",
       "      <td>36724</td>\n",
       "      <td>14457</td>\n",
       "      <td>118219</td>\n",
       "      <td>118220</td>\n",
       "      <td>117884</td>\n",
       "      <td>117879</td>\n",
       "      <td>267952</td>\n",
       "      <td>19721</td>\n",
       "      <td>117880</td>\n",
       "    </tr>\n",
       "    <tr>\n",
       "      <th>3</th>\n",
       "      <td>36135</td>\n",
       "      <td>5396</td>\n",
       "      <td>117961</td>\n",
       "      <td>118343</td>\n",
       "      <td>119993</td>\n",
       "      <td>118321</td>\n",
       "      <td>240983</td>\n",
       "      <td>290919</td>\n",
       "      <td>118322</td>\n",
       "    </tr>\n",
       "    <tr>\n",
       "      <th>4</th>\n",
       "      <td>42680</td>\n",
       "      <td>5905</td>\n",
       "      <td>117929</td>\n",
       "      <td>117930</td>\n",
       "      <td>119569</td>\n",
       "      <td>119323</td>\n",
       "      <td>123932</td>\n",
       "      <td>19793</td>\n",
       "      <td>119325</td>\n",
       "    </tr>\n",
       "  </tbody>\n",
       "</table>\n",
       "</div>"
      ],
      "text/plain": [
       "   RESOURCE  MGR_ID  ROLE_ROLLUP_1  ...  ROLE_FAMILY_DESC  ROLE_FAMILY  ROLE_CODE\n",
       "0     39353   85475         117961  ...            117906       290919     117908\n",
       "1     17183    1540         117961  ...            118536       308574     118539\n",
       "2     36724   14457         118219  ...            267952        19721     117880\n",
       "3     36135    5396         117961  ...            240983       290919     118322\n",
       "4     42680    5905         117929  ...            123932        19793     119325\n",
       "\n",
       "[5 rows x 9 columns]"
      ]
     },
     "execution_count": 5,
     "metadata": {},
     "output_type": "execute_result"
    }
   ],
   "source": [
    "X.head()"
   ]
  },
  {
   "cell_type": "code",
   "execution_count": 7,
   "metadata": {},
   "outputs": [],
   "source": [
    "import numpy as np\n",
    "import pandas as pd\n",
    "\n",
    "from sklearn.experimental import enable_iterative_imputer\n",
    "from sklearn.impute import IterativeImputer, SimpleImputer\n",
    "from sklearn.ensemble import ExtraTreesRegressor\n",
    "from sklearn.preprocessing import StandardScaler, QuantileTransformer\n",
    "from sklearn.feature_selection import VarianceThreshold\n",
    "from sklearn.pipeline import Pipeline"
   ]
  },
  {
   "cell_type": "code",
   "execution_count": null,
   "metadata": {},
   "outputs": [],
   "source": [
    "def assemble_numeric_pipeline(\n",
    "  variance_threshold=0.0,\n",
    "  inputer='mean',\n",
    "  multivariate_imputer=False,\n",
    "  add_indicator=True,\n",
    "  quantile_transformer='normal',\n",
    "  scaler=True\n",
    "):\n",
    "  numeric_pipeline = []\n",
    "  \n",
    "  # Variance Threshold - Removes all low-variance features based on threshold specified\n",
    "  if variance_threshold is not None:\n",
    "    if isinstance(variance_threshold, float):\n",
    "      numeric_pipeline.append(('var_filter', VarianceThreshold(threshold=variance_threshold)))\n",
    "    else:\n",
    "      numeric_pipeline.append(('var_filter', VarianceThreshold()))\n",
    "  \n",
    "  # Imputer - Replaces NaN values with specified logic\n",
    "  ## 2 types of imputers\n",
    "  ##   1. Multivariate Imputer - builds a regression model from other features and existing data\n",
    "  ##                             and fills NaN values with predictions of model\n",
    "  ##   2. Simple Imputer - Use summary statistics from existing values to fill missing data\n",
    "  if imputer is not None:\n",
    "    if multivariate_imputer:\n",
    "      numeric_pipeline.append(('imputer', IterativeImputer(\n",
    "        estimator=ExtraTreesRegressor(n_estimators=100, n_jobs=-2),\n",
    "        initial_strategy=imputer,\n",
    "        add_indicator=add_indicator\n",
    "      )))\n",
    "    else:\n",
    "      numeric_pipeline.append(('imputer', SimpleImputer(\n",
    "        strategy=imputer,\n",
    "        add_indicator=add_indicator\n",
    "      )))\n"
   ]
  },
  {
   "cell_type": "code",
   "execution_count": null,
   "metadata": {},
   "outputs": [],
   "source": []
  },
  {
   "cell_type": "code",
   "execution_count": null,
   "metadata": {},
   "outputs": [],
   "source": []
  },
  {
   "cell_type": "code",
   "execution_count": null,
   "metadata": {},
   "outputs": [],
   "source": []
  },
  {
   "cell_type": "code",
   "execution_count": null,
   "metadata": {},
   "outputs": [],
   "source": []
  },
  {
   "cell_type": "code",
   "execution_count": null,
   "metadata": {},
   "outputs": [],
   "source": []
  },
  {
   "cell_type": "code",
   "execution_count": null,
   "metadata": {},
   "outputs": [],
   "source": []
  },
  {
   "cell_type": "code",
   "execution_count": null,
   "metadata": {},
   "outputs": [],
   "source": []
  },
  {
   "cell_type": "code",
   "execution_count": null,
   "metadata": {},
   "outputs": [],
   "source": []
  },
  {
   "cell_type": "code",
   "execution_count": null,
   "metadata": {},
   "outputs": [],
   "source": []
  },
  {
   "cell_type": "code",
   "execution_count": null,
   "metadata": {},
   "outputs": [],
   "source": []
  },
  {
   "cell_type": "code",
   "execution_count": null,
   "metadata": {},
   "outputs": [],
   "source": []
  },
  {
   "cell_type": "code",
   "execution_count": null,
   "metadata": {},
   "outputs": [],
   "source": []
  },
  {
   "cell_type": "code",
   "execution_count": null,
   "metadata": {},
   "outputs": [],
   "source": []
  },
  {
   "cell_type": "code",
   "execution_count": null,
   "metadata": {},
   "outputs": [],
   "source": []
  },
  {
   "cell_type": "code",
   "execution_count": null,
   "metadata": {},
   "outputs": [],
   "source": []
  },
  {
   "cell_type": "code",
   "execution_count": null,
   "metadata": {},
   "outputs": [],
   "source": []
  },
  {
   "cell_type": "code",
   "execution_count": null,
   "metadata": {},
   "outputs": [],
   "source": []
  }
 ],
 "metadata": {
  "kernelspec": {
   "display_name": "py311_env",
   "language": "python",
   "name": "python3"
  },
  "language_info": {
   "codemirror_mode": {
    "name": "ipython",
    "version": 3
   },
   "file_extension": ".py",
   "mimetype": "text/x-python",
   "name": "python",
   "nbconvert_exporter": "python",
   "pygments_lexer": "ipython3",
   "version": "3.11.9"
  }
 },
 "nbformat": 4,
 "nbformat_minor": 2
}
