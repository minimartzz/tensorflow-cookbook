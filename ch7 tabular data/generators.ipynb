{
 "cells": [
  {
   "cell_type": "markdown",
   "metadata": {},
   "source": [
    "# Data Generators"
   ]
  },
  {
   "cell_type": "markdown",
   "metadata": {},
   "source": [
    "| Date | User | Change Type | Remarks |  \n",
    "| ---- | ---- | ----------- | ------- |\n",
    "| 10/02/2025 | Martin | Created   | Created new notebook for Data Generation notes | "
   ]
  },
  {
   "cell_type": "markdown",
   "metadata": {
    "vscode": {
     "languageId": "plaintext"
    }
   },
   "source": [
    "# Content\n",
    "\n",
    "* [Setting up a data generator](#setting-up-a-data-generator)"
   ]
  },
  {
   "cell_type": "markdown",
   "metadata": {},
   "source": [
    "# Setting up a Data Generator"
   ]
  },
  {
   "cell_type": "markdown",
   "metadata": {},
   "source": [
    "Provide a method to create batches of the data at different sizes\n",
    "\n",
    "* Process code for the generator capable of generating random batches on the fly.\n",
    "* `Sequence` class used as the base object for fitting a sequence of data"
   ]
  },
  {
   "cell_type": "code",
   "execution_count": 2,
   "metadata": {},
   "outputs": [],
   "source": [
    "from tensorflow.keras.utils import Sequence"
   ]
  },
  {
   "cell_type": "code",
   "execution_count": null,
   "metadata": {},
   "outputs": [],
   "source": [
    "class DataGenerator(Sequence):\n",
    "  def __init__ (self, X, y, tabular_transformer=None, batch_size=32, shffle=False, dict_output=False):\n",
    "\n",
    "    self.X = X\n",
    "    self.y = y\n",
    "    self.tbt = tabular_transformer\n",
    "    self.tabular_transformer = tabular_transformer\n",
    "    self.batch_size = batch_size\n",
    "    self.shuffle = shuffle\n",
    "    self.dict_output = dict_output\n",
    "    self.indexes = self._build_index()\n",
    "    self.on_epoch_end()\n",
    "    self.item = 0\n",
    "  \n",
    "  def _build_index(self):\n",
    "    # Builds the index for all procided data\n",
    "    return np.arange(len(self.y)) \n",
    "  \n",
    "  def on_epoch_end(self):\n",
    "    # Shuffle at the end of every epoch\n",
    "    if self.shuffle:\n",
    "      np.radom.shuffle(self.indexes)\n",
    "  \n",
    "  def __len__(self):\n",
    "    # Returns the number of batches per epoch\n",
    "    return int(len(self.indexes) / self.batch_size) + 1\n",
    "  \n",
    "  def __iter__(self):\n",
    "    # Returns an iterable\n",
    "    for i in range(self.__len__()):\n",
    "      self.item = i\n",
    "      yield self.__getitem(index=i)\n",
    "    \n",
    "    self.item = 0\n",
    "  \n",
    "  def __next__(self):\n",
    "    return self.__getitem__(index=self.item)\n",
    "  \n",
    "  def __call__(self):\n",
    "    return self.__iter__()\n",
    "  \n",
    "  def __data_generation(self, selection):\n",
    "    if self.tbt is not None:\n",
    "      if self.dict_output:\n",
    "        dct = {\n",
    "          'input_'+str(j): arr for j, arr in enumerate(self.tbt.transform(self.X.iloc[selection, :]))\n",
    "        }\n",
    "        return dct, self.y[selection]\n",
    "      else:\n",
    "        return self.tbt.transform(self.X.iloc[selection, :]), self.y[selection]\n",
    "    else:\n",
    "      return self.X.iloc[selection, :], self.y[selection]\n",
    "  \n",
    "  def __getitem__(self, index):\n",
    "    indexes = self.indexes[index* self.batch_size: (index+1)*self.batch_size]\n",
    "    samples, labels = self.__data_generation(indexes)\n",
    "    return samples, labels, [None]\n"
   ]
  },
  {
   "cell_type": "markdown",
   "metadata": {},
   "source": [
    "Components:\n",
    "* `_build_index` - Creates an index of the provided data\n",
    "* `on_epoch_end` - At the end of each epoch, the method will randomly shuffle data\n",
    "* `__len__` - Reports how many batches are required to complete an epoch\n",
    "* `__iter__` - Renders the class as an iterable\n",
    "* `__next__` - Calls the enxt batch\n",
    "* `__call__` - Returns the `__iter__` method call\n",
    "* `__data_generation` - Returns the transformed output\n",
    "* `__getitem__` - Splits the data into vatches and calls the `__data_generation` method for the transformation"
   ]
  },
  {
   "cell_type": "markdown",
   "metadata": {},
   "source": [
    "---"
   ]
  },
  {
   "cell_type": "markdown",
   "metadata": {},
   "source": [
    "# Custom Activations"
   ]
  },
  {
   "cell_type": "markdown",
   "metadata": {},
   "source": [
    "Tabular data is sparse making it hard to perform backpropogation.\n",
    "\n",
    "* 💡 __IDEA:__ Use alternative activation functions: SeLU, GeLU, and Mish to during backpropogation to prevent gradient from vanishing\n",
    "* [_Gaussian Error Linear Units (GeLU)_](https://arxiv.org/abs/1606.08415)\n",
    "* [_Mish_](https://arxiv.org/abs/1908.08681) - Self regularised non-monotonic neural activation function"
   ]
  },
  {
   "cell_type": "code",
   "execution_count": 9,
   "metadata": {},
   "outputs": [],
   "source": [
    "from tensorflow import keras as keras\n",
    "import tensorflow as tf\n",
    "import numpy as np\n",
    "import matplotlib.pyplot as plt"
   ]
  },
  {
   "cell_type": "markdown",
   "metadata": {},
   "source": [
    "`get_custom_objects` is a function that allows you to recrod new functions in a custom Tensorflow objects to easily recall them as strings in layer parameters"
   ]
  },
  {
   "cell_type": "code",
   "execution_count": 5,
   "metadata": {},
   "outputs": [],
   "source": [
    "def gelu(x):\n",
    "  return 0.5 * x *  (1 + tf.tanh(tf.sqrt(2 / np.pi) * (x + 0.044715 * tf.pow(x, 3))))\n",
    "\n",
    "keras.utils.get_custom_objects().update({'gelu': keras.layers.Activation(gelu)})"
   ]
  },
  {
   "cell_type": "code",
   "execution_count": 7,
   "metadata": {},
   "outputs": [],
   "source": [
    "def mish(inputs):\n",
    "  return inputs * tf.math.tanh(tf.math.softplus(inputs))\n",
    "\n",
    "keras.utils.get_custom_objects().update({'mish': keras.layers.Activation(mish)})"
   ]
  },
  {
   "cell_type": "code",
   "execution_count": 10,
   "metadata": {},
   "outputs": [
    {
     "data": {
      "image/png": "[encoded data removed]",
      "text/plain": [
       "<Figure size 640x480 with 1 Axes>"
      ]
     },
     "metadata": {},
     "output_type": "display_data"
    }
   ],
   "source": [
    "gelu_vals = list()\n",
    "mish_vals = list()\n",
    "abscissa = np.arange(-4, 1, 0.1)\n",
    "for val in abscissa:\n",
    "    gelu_vals.append(gelu(tf.cast(val, tf.float32)).numpy())\n",
    "    mish_vals.append(mish(tf.cast(val, tf.float32)).numpy())\n",
    "    \n",
    "plt.plot(abscissa, gelu_vals, label='gelu')\n",
    "plt.plot(abscissa, mish_vals, label='mish')\n",
    "plt.axvline(x=0.0, linestyle='--', color='darkgray')\n",
    "plt.axhline(y=0.0, linestyle='--', color='darkgray')\n",
    "plt.legend()\n",
    "plt.show()"
   ]
  },
  {
   "cell_type": "markdown",
   "metadata": {},
   "source": [
    "__Details about the functions__\n",
    "\n",
    "1. Inputs greater than zero are identically mapped as outputs\n",
    "2. Inputs less than zero are dampened transformations of the negative value. They remain negative but taper towards zero as the value gets more negative. This prevents too negative values from impacting the algorithm too much\n",
    "\n",
    "Allows gradient descent to store and use negative values compared to ReLU which turns negative values off"
   ]
  },
  {
   "cell_type": "markdown",
   "metadata": {},
   "source": [
    "---"
   ]
  },
  {
   "cell_type": "code",
   "execution_count": null,
   "metadata": {},
   "outputs": [],
   "source": [
    "pg 329"
   ]
  },
  {
   "cell_type": "code",
   "execution_count": null,
   "metadata": {},
   "outputs": [],
   "source": []
  }
 ],
 "metadata": {
  "kernelspec": {
   "display_name": "py311_env",
   "language": "python",
   "name": "python3"
  },
  "language_info": {
   "codemirror_mode": {
    "name": "ipython",
    "version": 3
   },
   "file_extension": ".py",
   "mimetype": "text/x-python",
   "name": "python",
   "nbconvert_exporter": "python",
   "pygments_lexer": "ipython3",
   "version": "3.11.9"
  }
 },
 "nbformat": 4,
 "nbformat_minor": 2
}
