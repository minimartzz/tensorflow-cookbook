{
 "cells": [
  {
   "cell_type": "markdown",
   "metadata": {},
   "source": [
    "# Tensorflow in Production"
   ]
  },
  {
   "cell_type": "markdown",
   "metadata": {},
   "source": [
    "| Date | User | Change Type | Remarks |  \n",
    "| ---- | ---- | ----------- | ------- |\n",
    "| 16/03/2025   | Martin | Updated   | Created notebook for serving portion of productionising TensorFlow models | "
   ]
  },
  {
   "cell_type": "markdown",
   "metadata": {
    "vscode": {
     "languageId": "plaintext"
    }
   },
   "source": [
    "# Content\n",
    "\n",
    "* [Saving and Restoring TensorFlow models](#saving-and-restoring-tensorflow-models)\n",
    "* [Parallelising TensorFlow](#parallelising-tensorflow)"
   ]
  },
  {
   "cell_type": "markdown",
   "metadata": {},
   "source": [
    "# Saving and Restoring TensorFlow Models"
   ]
  },
  {
   "cell_type": "markdown",
   "metadata": {},
   "source": [
    "To use ML model in production or reuse trained model for transfer learning tasks\n",
    "\n",
    "`SavedModel` is the recommended format to save the entire model to disk"
   ]
  },
  {
   "cell_type": "code",
   "execution_count": null,
   "metadata": {},
   "outputs": [],
   "source": [
    "# Assuming a model already exists\n",
    "# To save a model:\n",
    "model.save('SavedModel')"
   ]
  },
  {
   "cell_type": "code",
   "execution_count": null,
   "metadata": {},
   "outputs": [],
   "source": [
    "# To load a model:\n",
    "model2 = tf.keras.models.load_model('SavedModel')"
   ]
  },
  {
   "cell_type": "markdown",
   "metadata": {},
   "source": [
    "## Changing to Keras H5 format\n",
    "\n",
    "Pass it with the extension `.h5` or add the argument `save_format=\"h5\"`"
   ]
  },
  {
   "cell_type": "code",
   "execution_count": null,
   "metadata": {},
   "outputs": [],
   "source": [
    "model.save(\"h5SavedModel.h5\")"
   ]
  },
  {
   "cell_type": "code",
   "execution_count": null,
   "metadata": {},
   "outputs": [],
   "source": [
    "model.save(\"AnotherModel\", save_format='h5')"
   ]
  },
  {
   "cell_type": "markdown",
   "metadata": {},
   "source": [
    "## Saving and restoring from checkpoints"
   ]
  },
  {
   "cell_type": "markdown",
   "metadata": {},
   "source": [
    "Use `ModelCheckpoint` callback to save an entire model or just the weights into a checkpoint structure. Callback is added to the `fit` method which will store the model weights over each epoch\n",
    "\n",
    "Docs: https://keras.io/api/callbacks/model_checkpoint/"
   ]
  },
  {
   "cell_type": "code",
   "execution_count": null,
   "metadata": {},
   "outputs": [],
   "source": [
    "checkpoint_callback = tf.keras.callbacks.ModelCheckpoint(\n",
    "  filepath='./checkpoint',\n",
    "  save_weights_only=True,\n",
    "  save_freq='epoch', # integer value means save the model after x number of batches\n",
    "  save_best_only=False, # only save the best latest model\n",
    "  monitor='val_loss',\n",
    ")"
   ]
  },
  {
   "cell_type": "code",
   "execution_count": null,
   "metadata": {},
   "outputs": [],
   "source": [
    "model.fit(\n",
    "  x=x_train,\n",
    "  y=y_train,\n",
    "  epochs=5,\n",
    "  validation_data=(x_test, y_test),\n",
    "  callbacks=[checkpoint_callback]\n",
    ")"
   ]
  },
  {
   "cell_type": "code",
   "execution_count": null,
   "metadata": {},
   "outputs": [],
   "source": [
    "# To load model from a checkpoint\n",
    "model.load(\"./checkpoint\")"
   ]
  },
  {
   "cell_type": "markdown",
   "metadata": {},
   "source": [
    "---"
   ]
  },
  {
   "cell_type": "markdown",
   "metadata": {},
   "source": [
    "# TensorFlow Serving"
   ]
  },
  {
   "cell_type": "markdown",
   "metadata": {},
   "source": [
    "Learn to serve machine learning models in production.\n",
    "\n",
    "TensorFlow Serving from __TensorFlow Extended (TFX)__ is an MLOps tool that builds complete ML pipelines. A TFX pipeline is composed of a sequence of components for data validation, transformation, model analysis and model serving."
   ]
  },
  {
   "cell_type": "code",
   "execution_count": 1,
   "metadata": {},
   "outputs": [
    {
     "name": "stderr",
     "output_type": "stream",
     "text": [
      "2025-03-16 21:43:53.570571: I tensorflow/core/util/port.cc:153] oneDNN custom operations are on. You may see slightly different numerical results due to floating-point round-off errors from different computation orders. To turn them off, set the environment variable `TF_ENABLE_ONEDNN_OPTS=0`.\n",
      "2025-03-16 21:43:53.763072: E external/local_xla/xla/stream_executor/cuda/cuda_fft.cc:477] Unable to register cuFFT factory: Attempting to register factory for plugin cuFFT when one has already been registered\n",
      "WARNING: All log messages before absl::InitializeLog() is called are written to STDERR\n",
      "E0000 00:00:1742132633.829864   45276 cuda_dnn.cc:8310] Unable to register cuDNN factory: Attempting to register factory for plugin cuDNN when one has already been registered\n",
      "E0000 00:00:1742132633.850948   45276 cuda_blas.cc:1418] Unable to register cuBLAS factory: Attempting to register factory for plugin cuBLAS when one has already been registered\n",
      "2025-03-16 21:43:54.015250: I tensorflow/core/platform/cpu_feature_guard.cc:210] This TensorFlow binary is optimized to use available CPU instructions in performance-critical operations.\n",
      "To enable the following instructions: AVX2 AVX_VNNI FMA, in other operations, rebuild TensorFlow with the appropriate compiler flags.\n"
     ]
    }
   ],
   "source": [
    "import tensorflow as tf\n",
    "import numpy as np\n",
    "import requests\n",
    "import matplotlib.pyplot as plt\n",
    "import json"
   ]
  },
  {
   "cell_type": "markdown",
   "metadata": {},
   "source": [
    "## Built the MNIST model"
   ]
  },
  {
   "cell_type": "code",
   "execution_count": 2,
   "metadata": {},
   "outputs": [
    {
     "name": "stderr",
     "output_type": "stream",
     "text": [
      "I0000 00:00:1742132670.224192   45276 gpu_device.cc:2022] Created device /job:localhost/replica:0/task:0/device:GPU:0 with 9558 MB memory:  -> device: 0, name: NVIDIA GeForce RTX 4070, pci bus id: 0000:01:00.0, compute capability: 8.9\n"
     ]
    },
    {
     "name": "stdout",
     "output_type": "stream",
     "text": [
      "Epoch 1/5\n"
     ]
    },
    {
     "name": "stderr",
     "output_type": "stream",
     "text": [
      "WARNING: All log messages before absl::InitializeLog() is called are written to STDERR\n",
      "I0000 00:00:1742132687.143330   45543 service.cc:148] XLA service 0x7f44b4006550 initialized for platform CUDA (this does not guarantee that XLA will be used). Devices:\n",
      "I0000 00:00:1742132687.152212   45543 service.cc:156]   StreamExecutor device (0): NVIDIA GeForce RTX 4070, Compute Capability 8.9\n",
      "2025-03-16 21:44:44.968888: I tensorflow/compiler/mlir/tensorflow/utils/dump_mlir_util.cc:268] disabling MLIR crash reproducer, set env var `MLIR_CRASH_REPRODUCER_DIRECTORY` to enable.\n",
      "I0000 00:00:1742132685.894675   45543 cuda_dnn.cc:529] Loaded cuDNN version 90300\n",
      "2025-03-16 21:44:47.317964: I external/local_xla/xla/stream_executor/cuda/cuda_asm_compiler.cc:397] ptxas warning : Registers are spilled to local memory in function 'gemm_fusion_dot_181', 8 bytes spill stores, 8 bytes spill loads\n",
      "\n"
     ]
    },
    {
     "name": "stdout",
     "output_type": "stream",
     "text": [
      "\u001b[1m  47/1875\u001b[0m \u001b[37m━━━━━━━━━━━━━━━━━━━━\u001b[0m \u001b[1m6s\u001b[0m 3ms/step - accuracy: 0.1532 - loss: 2.2604"
     ]
    },
    {
     "name": "stderr",
     "output_type": "stream",
     "text": [
      "I0000 00:00:1742132688.635283   45543 device_compiler.h:188] Compiled cluster using XLA!  This line is logged at most once for the lifetime of the process.\n"
     ]
    },
    {
     "name": "stdout",
     "output_type": "stream",
     "text": [
      "\u001b[1m1875/1875\u001b[0m \u001b[32m━━━━━━━━━━━━━━━━━━━━\u001b[0m\u001b[37m\u001b[0m \u001b[1m32s\u001b[0m 15ms/step - accuracy: 0.7058 - loss: 1.0561 - val_accuracy: 0.9125 - val_loss: 0.3141\n",
      "Epoch 2/5\n",
      "\u001b[1m1875/1875\u001b[0m \u001b[32m━━━━━━━━━━━━━━━━━━━━\u001b[0m\u001b[37m\u001b[0m \u001b[1m4s\u001b[0m 2ms/step - accuracy: 0.9134 - loss: 0.3027 - val_accuracy: 0.9287 - val_loss: 0.2511\n",
      "Epoch 3/5\n",
      "\u001b[1m1875/1875\u001b[0m \u001b[32m━━━━━━━━━━━━━━━━━━━━\u001b[0m\u001b[37m\u001b[0m \u001b[1m3s\u001b[0m 2ms/step - accuracy: 0.9277 - loss: 0.2508 - val_accuracy: 0.9365 - val_loss: 0.2174\n",
      "Epoch 4/5\n",
      "\u001b[1m1875/1875\u001b[0m \u001b[32m━━━━━━━━━━━━━━━━━━━━\u001b[0m\u001b[37m\u001b[0m \u001b[1m3s\u001b[0m 2ms/step - accuracy: 0.9380 - loss: 0.2167 - val_accuracy: 0.9439 - val_loss: 0.1906\n",
      "Epoch 5/5\n",
      "\u001b[1m1875/1875\u001b[0m \u001b[32m━━━━━━━━━━━━━━━━━━━━\u001b[0m\u001b[37m\u001b[0m \u001b[1m4s\u001b[0m 2ms/step - accuracy: 0.9467 - loss: 0.1846 - val_accuracy: 0.9492 - val_loss: 0.1752\n"
     ]
    },
    {
     "data": {
      "text/plain": [
       "<keras.src.callbacks.history.History at 0x7f4614b973d0>"
      ]
     },
     "execution_count": 2,
     "metadata": {},
     "output_type": "execute_result"
    }
   ],
   "source": [
    "(x_train, y_train), (x_test, y_test) = tf.keras.datasets.mnist.load_data()\n",
    "\n",
    "# Normalize\n",
    "x_train = x_train / 255\n",
    "x_test = x_test/ 255\n",
    "\n",
    "model = tf.keras.Sequential()\n",
    "model.add(tf.keras.layers.Flatten(name=\"FLATTEN\"))\n",
    "model.add(tf.keras.layers.Dense(units=128 , activation=\"relu\", name=\"D1\"))\n",
    "model.add(tf.keras.layers.Dense(units=64 , activation=\"relu\", name=\"D2\"))\n",
    "model.add(tf.keras.layers.Dense(units=10, activation=\"softmax\", name=\"OUTPUT\"))\n",
    "    \n",
    "model.compile(\n",
    "  optimizer=\"sgd\", \n",
    "  loss=\"sparse_categorical_crossentropy\",\n",
    "  metrics=[\"accuracy\"]\n",
    ")\n",
    "\n",
    "model.fit(\n",
    "  x=x_train, \n",
    "  y=y_train, \n",
    "  epochs=5,\n",
    "  validation_data=(x_test, y_test)\n",
    ") "
   ]
  },
  {
   "cell_type": "markdown",
   "metadata": {},
   "source": [
    "## Save the model in SavedModel format\n",
    "\n",
    "Each folder will have a different model version"
   ]
  },
  {
   "cell_type": "code",
   "execution_count": null,
   "metadata": {},
   "outputs": [
    {
     "name": "stdout",
     "output_type": "stream",
     "text": [
      "INFO:tensorflow:Assets written to: mnist_model/v1/assets\n"
     ]
    },
    {
     "name": "stderr",
     "output_type": "stream",
     "text": [
      "INFO:tensorflow:Assets written to: mnist_model/v1/assets\n"
     ]
    },
    {
     "name": "stdout",
     "output_type": "stream",
     "text": [
      "Saved artifact at 'mnist_model/v1'. The following endpoints are available:\n",
      "\n",
      "* Endpoint 'serve'\n",
      "  args_0 (POSITIONAL_ONLY): TensorSpec(shape=(None, 28, 28), dtype=tf.float32, name='keras_tensor')\n",
      "Output Type:\n",
      "  TensorSpec(shape=(None, 10), dtype=tf.float32, name=None)\n",
      "Captures:\n",
      "  139938957709856: TensorSpec(shape=(), dtype=tf.resource, name=None)\n",
      "  139938957717072: TensorSpec(shape=(), dtype=tf.resource, name=None)\n",
      "  139938957199488: TensorSpec(shape=(), dtype=tf.resource, name=None)\n",
      "  139938952830944: TensorSpec(shape=(), dtype=tf.resource, name=None)\n",
      "  139938952827776: TensorSpec(shape=(), dtype=tf.resource, name=None)\n",
      "  139938952833760: TensorSpec(shape=(), dtype=tf.resource, name=None)\n"
     ]
    }
   ],
   "source": [
    "model.export('mnist_model/1')"
   ]
  },
  {
   "cell_type": "code",
   "execution_count": null,
   "metadata": {},
   "outputs": [],
   "source": [
    "# New high level format for keras models\n",
    "model.save('mnist_model.keras')"
   ]
  },
  {
   "cell_type": "markdown",
   "metadata": {},
   "source": [
    "## Serve using the TensorFlow Serving docker image\n",
    "\n",
    "1. Pull the docker image `tensorflow/serving`\n",
    "2. Publish the REST API port 8501 to host port 8501 (mainly for docker)\n",
    "3. Take the saved model and bind it to the model base path `/models/my_mnist_model`\n",
    "4. Fill environment vairables MODEL_NAME with `my_mnist_model`\n",
    "\n",
    "Command\n",
    "```\n",
    "docker run -p 8501:8501 --mount type=bind,source=\"$(pwd)/my_mnist_model/\",target=/models/my_mnist_model -e MODEL_NAME=my_mnist_model -t tensorflow/serving\n",
    "```"
   ]
  },
  {
   "cell_type": "markdown",
   "metadata": {},
   "source": [
    "## Image to predict"
   ]
  },
  {
   "cell_type": "code",
   "execution_count": null,
   "metadata": {},
   "outputs": [],
   "source": [
    "num_rows = 4\n",
    "num_cols = 3\n",
    "plt.figure(figsize=(2*2*num_cols, 2*num_rows))\n",
    "for row in range(num_rows):\n",
    "  for col in range(num_cols):\n",
    "    index = num_cols * row + col\n",
    "    image = x_test[index]\n",
    "    true_label = y_test[index]\n",
    "    plt.subplot(num_rows, 2*num_cols, 2*index+1)\n",
    "    plt.imshow(image.reshape(28,28), cmap=\"binary\")\n",
    "    plt.axis('off')\n",
    "    plt.title('\\n\\n It is a {}'.format(y_test[index]), fontdict={'size': 16})\n",
    "plt.tight_layout()\n",
    "plt.show()"
   ]
  },
  {
   "cell_type": "markdown",
   "metadata": {},
   "source": [
    "## Send a post request to test the endpoint\n",
    "\n",
    "Send a POST request contain 5 images and return the results. The server will return for each image ten probabilities corresponding to the probability for each digit between 0 and 9"
   ]
  },
  {
   "cell_type": "code",
   "execution_count": null,
   "metadata": {},
   "outputs": [],
   "source": [
    "json_request = '{{ \"instances\" : {} }}'.format(x_test[0:12].tolist())\n",
    "resp = requests.post('http://localhost:8501/v1/models/my_mnist_model:predict', data=json_request, headers = {\"content-type\": \"application/json\"})\n",
    "print('response.status_code: {}'.format(resp.status_code))     \n",
    "print('response.content: {}'.format(resp.content))\n",
    "predictions = json.loads(resp.text)['predictions']"
   ]
  },
  {
   "cell_type": "code",
   "execution_count": null,
   "metadata": {},
   "outputs": [],
   "source": [
    "# Display the result\n",
    "num_rows = 4\n",
    "num_cols = 3\n",
    "plt.figure(figsize=(2*2*num_cols, 2*num_rows))\n",
    "for row in range(num_rows):\n",
    "  for col in range(num_cols):\n",
    "    index = num_cols * row + col\n",
    "    image = x_test[index]\n",
    "    predicted_label = np.argmax(predictions[index])\n",
    "    true_label = y_test[index]\n",
    "    plt.subplot(num_rows, 2*num_cols, 2*index+1)\n",
    "    plt.imshow(image.reshape(28,28), cmap=\"binary\")\n",
    "    plt.axis('off')\n",
    "    if predicted_label == true_label:\n",
    "      color = 'blue'\n",
    "    else:\n",
    "      color = 'red'\n",
    "    plt.title('\\n\\n The model predicts a {} \\n and it is a {}'.format(predicted_label, true_label), fontdict={'size': 16}, color=color)\n",
    "plt.tight_layout()\n",
    "plt.show()"
   ]
  },
  {
   "cell_type": "markdown",
   "metadata": {},
   "source": [
    "## Additional notes\n",
    "\n",
    "* TensorFlow Serving requires a specific tree structure and models to be in the `SavedModel` format => Each model version should be expoerted to a different subdirectory in the path\n",
    "* TFX will automatically look for and grab the highest integer (model version) in the folder specified \n",
    "* TFX contains many other components like data pipelines, data validation, feature engineering and model analysis to create more comprehensive model serving methods"
   ]
  }
 ],
 "metadata": {
  "kernelspec": {
   "display_name": "py310_env",
   "language": "python",
   "name": "python3"
  },
  "language_info": {
   "codemirror_mode": {
    "name": "ipython",
    "version": 3
   },
   "file_extension": ".py",
   "mimetype": "text/x-python",
   "name": "python",
   "nbconvert_exporter": "python",
   "pygments_lexer": "ipython3",
   "version": "3.10.12"
  }
 },
 "nbformat": 4,
 "nbformat_minor": 2
}
