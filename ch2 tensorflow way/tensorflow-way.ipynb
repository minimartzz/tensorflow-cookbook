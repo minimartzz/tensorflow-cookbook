{
 "cells": [
  {
   "cell_type": "markdown",
   "metadata": {},
   "source": [
    "# The Tensorflow Way\n",
    "\n",
    "How to put together objects using eager to dynamically setup the computational graph. Eventually create a classifier.\n",
    "\n",
    "## Outcomes\n",
    "\n",
    "* Operations using eager execution\n",
    "* Layering nested operations\n",
    "* Working with multiple layers\n",
    "* Implementing loss functions\n",
    "* Implementing backpropagation\n",
    "* Working with batch and stochastic training\n",
    "* Combining components together"
   ]
  },
  {
   "cell_type": "markdown",
   "metadata": {},
   "source": [
    "| Date | User | Change Type | Remarks |  \n",
    "| ---- | ---- | ----------- | ------- |\n",
    "| 14/10/2024   | Martin | Created   | Started chapter 2 | \n",
    "| 26/11/2024   | Martin | Updated   | Back at it! Loss functions and Backpropogation | "
   ]
  },
  {
   "cell_type": "markdown",
   "metadata": {
    "vscode": {
     "languageId": "plaintext"
    }
   },
   "source": [
    "# Content\n",
    "\n",
    "* [Operations using eager execution](#header-1)\n",
    "* [Layering Nested Operations](#layering-nested-operations)\n",
    "* [Working with Multiple Layers](#working-with-multiple-layers)\n",
    "* [Implementing Loss Functions](#implementing-loss-functions)\n",
    "* [Implementing Backpropogation](#implementing-backpropogation)"
   ]
  },
  {
   "cell_type": "markdown",
   "metadata": {},
   "source": [
    "# Operations using eager execution\n",
    "\n",
    "Operating on matrices using eager execution. \n",
    "\n",
    "Eager excution allows you to perform operations directly on the results, instead of working on symbolic handles of a computational graph."
   ]
  },
  {
   "cell_type": "code",
   "execution_count": 3,
   "metadata": {},
   "outputs": [],
   "source": [
    "import os\n",
    "os.environ[\"TF_CPP_MIN_LOG_LEVEL\"] = \"3\"\n",
    "os.environ[\"GRPC_VERBOSITY\"] = \"ERROR\"\n",
    "os.environ[\"GLOG_minloglevel\"] = \"2\"\n",
    "\n",
    "import tensorflow as tf\n",
    "import numpy as np"
   ]
  },
  {
   "cell_type": "code",
   "execution_count": 4,
   "metadata": {},
   "outputs": [
    {
     "name": "stdout",
     "output_type": "stream",
     "text": [
      "3.0\n",
      "9.0\n",
      "15.0\n",
      "21.0\n",
      "27.0\n"
     ]
    }
   ],
   "source": [
    "# Convert a numpy array into a tensor and perform an operation\n",
    "x_vals = np.array([1., 3., 5., 7., 9.])\n",
    "x_data = tf.Variable(x_vals, dtype=tf.float32)\n",
    "x_const = tf.constant(3.)\n",
    "\n",
    "operation = tf.multiply(x_data, x_const)\n",
    "for val in operation: # where eager execution happens\n",
    "  print(val.numpy())"
   ]
  },
  {
   "cell_type": "markdown",
   "metadata": {},
   "source": [
    "---"
   ]
  },
  {
   "cell_type": "markdown",
   "metadata": {},
   "source": [
    "# Layering nested operations\n",
    "\n",
    "Putting multiple operations together. Multiply 2 matrics then perform addition, each matrix is 3D.\n",
    "\n",
    "Use common constructs like functions and classes to improve readability and code modularity."
   ]
  },
  {
   "cell_type": "code",
   "execution_count": 5,
   "metadata": {},
   "outputs": [
    {
     "name": "stdout",
     "output_type": "stream",
     "text": [
      "[[[102.]\n",
      "  [ 59.]\n",
      "  [ 49.]]\n",
      "\n",
      " [[114.]\n",
      "  [ 71.]\n",
      "  [ 61.]]]\n"
     ]
    }
   ],
   "source": [
    "# Starting matrix\n",
    "array = np.array([[1., 3., 5., 7., 9.],\n",
    "                  [-2., 0., 2., 4., 6.],\n",
    "                  [-6., -3., 0., 3., 6.]]) # 3x5\n",
    "x_vals = np.array([array, array + 1]) # 3x5x2\n",
    "x_data = tf.Variable(x_vals, dtype=tf.float32) # 3x5x2\n",
    "\n",
    "# Operation matrices\n",
    "m1 = tf.constant([[1.], [0.], [-1.], [2.], [4.]]) # 5x1\n",
    "m2 = tf.constant([[2.]]) # 1x1\n",
    "a1 = tf.constant([[10.], [3.], [1.]]) # 3x1\n",
    "\n",
    "def prod(a, b):\n",
    "  return tf.matmul(a, b)\n",
    "def add(a, b):\n",
    "  return tf.add(a, b)\n",
    "\n",
    "# Operations\n",
    "result = add(prod(prod(x_data, m1), m2), a1)\n",
    "print(result.numpy())"
   ]
  },
  {
   "cell_type": "markdown",
   "metadata": {},
   "source": [
    "Prevent \"kichen sink\" programming style (putting everything in the global scope of the program). Adopt a functional or object-oriented programming style"
   ]
  },
  {
   "cell_type": "code",
   "execution_count": 6,
   "metadata": {},
   "outputs": [
    {
     "name": "stdout",
     "output_type": "stream",
     "text": [
      "[[[102.]\n",
      "  [ 59.]\n",
      "  [ 49.]]\n",
      "\n",
      " [[114.]\n",
      "  [ 71.]\n",
      "  [ 61.]]]\n"
     ]
    }
   ],
   "source": [
    "class Operations():\n",
    "  def __init__(self, a):\n",
    "    self.result = a\n",
    "  def apply(self, func, b):\n",
    "    self.result = func(self.result, b)\n",
    "    return self\n",
    "\n",
    "operation = (\n",
    "  Operations(a=x_data)\n",
    "  .apply(prod, b=m1)\n",
    "  .apply(prod, b=m2)\n",
    "  .apply(add, b=a1)\n",
    ")\n",
    "print(operation.result.numpy())"
   ]
  },
  {
   "cell_type": "markdown",
   "metadata": {},
   "source": [
    "If the shape of the tensor is not known beforehand, we can initialise the unknown dimension with `None`."
   ]
  },
  {
   "cell_type": "code",
   "execution_count": 15,
   "metadata": {},
   "outputs": [
    {
     "data": {
      "text/plain": [
       "<tf.Variable 'UnreadVariable' shape=(None, 5) dtype=float32, numpy=\n",
       "array([[-0.2408374 ,  1.7669061 , -0.9611152 ,  1.7895854 , -0.6851607 ],\n",
       "       [ 1.9162391 ,  1.0384045 , -0.8034953 ,  0.33766457, -0.54708785],\n",
       "       [-3.0316987 , -2.0763571 ,  1.5104392 ,  0.3365694 ,  0.74961025],\n",
       "       [ 1.4060197 , -0.91576695, -0.60831064,  0.45539996, -0.8254257 ],\n",
       "       [-1.1942742 , -0.31644046, -0.85949975, -1.147775  , -0.57103795],\n",
       "       [ 1.234363  ,  1.9150587 ,  0.33312622,  0.4733555 ,  1.5149691 ],\n",
       "       [ 1.1402022 , -1.8850285 , -0.11132842, -1.9180793 ,  1.7446767 ],\n",
       "       [-0.48002127, -0.2189978 ,  0.6621816 ,  1.2813387 ,  0.7167656 ],\n",
       "       [ 1.226478  ,  1.2447158 ,  1.0185527 ,  1.6968899 ,  0.64589614],\n",
       "       [-0.37618685,  2.0898812 , -0.2646985 , -0.37295765,  0.9064721 ]],\n",
       "      dtype=float32)>"
      ]
     },
     "execution_count": 15,
     "metadata": {},
     "output_type": "execute_result"
    }
   ],
   "source": [
    "# Initialise with unknown dimension\n",
    "v = tf.Variable(\n",
    "  initial_value=tf.random.normal(shape=(1, 5)),\n",
    "  shape=tf.TensorShape((None, 5))\n",
    ")\n",
    "v.assign(tf.random.normal(shape=(10, 5)))"
   ]
  },
  {
   "cell_type": "markdown",
   "metadata": {},
   "source": [
    "---"
   ]
  },
  {
   "cell_type": "markdown",
   "metadata": {},
   "source": [
    "# Working with multiple layers\n",
    "\n",
    "How to connect data layers together. Example will be image processing by (1) average through a moving window (2) custom operation layer.\n",
    "\n",
    "As more layers are added, the computational graph can get complicated. Therefore we introduce scopes to group the layers together"
   ]
  },
  {
   "cell_type": "code",
   "execution_count": 8,
   "metadata": {},
   "outputs": [],
   "source": [
    "# Create an \"image\" 4x4 pixel image\n",
    "batch_size = [1]\n",
    "x_shape = [4, 4, 1]\n",
    "x_data = tf.random.uniform(shape=batch_size + x_shape)"
   ]
  },
  {
   "cell_type": "code",
   "execution_count": 9,
   "metadata": {},
   "outputs": [
    {
     "data": {
      "text/plain": [
       "<tf.Tensor: shape=(1, 2, 2, 1), dtype=float32, numpy=\n",
       "array([[[[0.48430553],\n",
       "         [0.5037121 ]],\n",
       "\n",
       "        [[0.66042995],\n",
       "         [0.77765524]]]], dtype=float32)>"
      ]
     },
     "execution_count": 9,
     "metadata": {},
     "output_type": "execute_result"
    }
   ],
   "source": [
    "# Conv2D - moving window\n",
    "def mov_avg_layer(x):\n",
    "  \"\"\"\n",
    "  Formula takes the average of all values in the window\n",
    "  \"\"\"\n",
    "  my_filter = tf.constant(0.25, shape=[2, 2, 1, 1])\n",
    "  my_strides = [1, 2, 2, 1]\n",
    "  layer = tf.nn.conv2d(\n",
    "    x,\n",
    "    my_filter,\n",
    "    my_strides,\n",
    "    padding='SAME',\n",
    "    name='Moving_Avg_Window'\n",
    "  )\n",
    "  return layer\n",
    "mov_avg_layer(x_data)"
   ]
  },
  {
   "cell_type": "markdown",
   "metadata": {},
   "source": [
    "💡 Note that the formula for calculating the output is the following:\n",
    "\n",
    "$$\n",
    "Output = \\frac{(W-F+2P)}{S}+1\\\\\n",
    "W:\\ input\\ size\\\\\n",
    "F:\\ filter\\ size\\\\\n",
    "P:\\ padding\\\\\n",
    "S:\\ stride\n",
    "$$"
   ]
  },
  {
   "cell_type": "code",
   "execution_count": 10,
   "metadata": {},
   "outputs": [],
   "source": [
    "def custom_layer(input_matrix):\n",
    "  # remove unecessary dimension\n",
    "  reduce_dimensions = tf.squeeze(input_matrix)\n",
    "  \n",
    "  # define matrices \n",
    "  A = tf.constant([[1., 2.], [-1., 3.]])\n",
    "  b = tf.constant(1., shape=[2, 2])\n",
    "\n",
    "  # compute Ax + b\n",
    "  output = tf.matmul(A, reduce_dimensions)\n",
    "  output = tf.add(output, b)\n",
    "\n",
    "  return output"
   ]
  },
  {
   "cell_type": "code",
   "execution_count": 11,
   "metadata": {},
   "outputs": [
    {
     "name": "stdout",
     "output_type": "stream",
     "text": [
      "tf.Tensor(\n",
      "[[2.8051653 3.0590227]\n",
      " [2.4969845 2.8292537]], shape=(2, 2), dtype=float32)\n"
     ]
    }
   ],
   "source": [
    "# Implement the layers\n",
    "first_layer = mov_avg_layer(x_data)\n",
    "second_layer = custom_layer(first_layer)\n",
    "\n",
    "print(second_layer)"
   ]
  },
  {
   "cell_type": "markdown",
   "metadata": {},
   "source": [
    "## How it works...\n",
    "\n",
    "Data is processed by each layer and passed to the next. By wrapping all the layers into a function and calling them one after another, the outputs of each layer are parsed as the inputs to the next layer"
   ]
  },
  {
   "cell_type": "markdown",
   "metadata": {},
   "source": [
    "---"
   ]
  },
  {
   "cell_type": "markdown",
   "metadata": {},
   "source": [
    "# Implementing Loss Functions\n",
    "\n",
    "_Loss functions_ measure the distance between the models predictions and the target (true) value. \n",
    "\n",
    "Most cases there is a set of data and targets on which to train the algorithm. The loss function is a numerical quantification of the distance.\n",
    "\n",
    "Examples for continuous variables:\n",
    "* __**L2 Norm Loss__ - square the difference of prediction and target. Curved near the target, so algorithm can converge easier to the target as it gets closer i.e changes to prediction will get smaller the more accurate it gets\n",
    "* __L1 Norm Loss__ - absolute value of the difference of prediction and target. Better for _outliers_ because not as steep for larger values\n",
    "* __Pseudo Huber Loss__ - continuous smoother approximation to the _Huber Loss Function_. Convex near the target, less steep for extreme values\n",
    "\n",
    "Examples for classification problems:\n",
    "* __Hinge Loss__ - mainly for SVMs. Compute loss between 2 target classes `1` and `-1`\n",
    "* __Cross-entropy Loss__ - Also called the log-loss function. Compute loss between 2 target classes `0` or `1`. Derived from information theory.\n",
    "* __Sigmoid Cross-entropy Loss__ - Similar to cross-entropy loss, but sigmoid function is applied before putting in the cross-entropy formula\n",
    "* __Weighted Cross-entropy Loss__ - Same as Sigmoid cross-entropy, but positive values are weighted\n",
    "* __**Softmax Cross-entropy Loss__ - For non-normalized outputs. Function can be used for multiple target categories. Function transforms the output into a probability distribution of each category via the softmax function then computes the loss function from the true probability distribution."
   ]
  },
  {
   "cell_type": "code",
   "execution_count": 7,
   "metadata": {},
   "outputs": [],
   "source": [
    "import matplotlib.pyplot as plt\n",
    "import tensorflow as tf\n",
    "\n",
    "import os\n",
    "os.environ[\"TF_CPP_MIN_LOG_LEVEL\"] = \"3\"\n",
    "os.environ[\"GRPC_VERBOSITY\"] = \"ERROR\"\n",
    "os.environ[\"GLOG_minloglevel\"] = \"2\""
   ]
  },
  {
   "cell_type": "markdown",
   "metadata": {},
   "source": [
    "Prediction of a continuous dependent variable. "
   ]
  },
  {
   "cell_type": "code",
   "execution_count": 9,
   "metadata": {},
   "outputs": [],
   "source": [
    "x_vals = tf.linspace(-1., 1., 500) # Predictions\n",
    "target = tf.constant(0.) # Target"
   ]
  },
  {
   "cell_type": "code",
   "execution_count": 10,
   "metadata": {},
   "outputs": [],
   "source": [
    "def l2(y_true, y_pred):\n",
    "  \"\"\"L2 Norm Loss\"\"\"\n",
    "  return tf.square(y_true - y_pred)"
   ]
  },
  {
   "cell_type": "code",
   "execution_count": 11,
   "metadata": {},
   "outputs": [],
   "source": [
    "def l1(y_true, y_pred):\n",
    "  return tf.abs(y_true - y_pred)"
   ]
  },
  {
   "cell_type": "code",
   "execution_count": 12,
   "metadata": {},
   "outputs": [],
   "source": [
    "def phuber1(y_true, y_pred):\n",
    "  delta1 = tf.constant(0.25)\n",
    "  return tf.multiply(tf.square(delta1), tf.sqrt(1. + tf.square((y_true - y_pred) / delta1)) - 1.)\n",
    "\n",
    "def phuber2(y_true, y_pred):\n",
    "  delta1 = tf.constant(5.)\n",
    "  return tf.multiply(tf.square(delta1), tf.sqrt(1. + tf.square((y_true - y_pred) / delta1)) - 1.)"
   ]
  },
  {
   "cell_type": "code",
   "execution_count": 15,
   "metadata": {},
   "outputs": [
    {
     "data": {
      "image/png": "[encoded data removed]",
      "text/plain": [
       "<Figure size 640x480 with 1 Axes>"
      ]
     },
     "metadata": {},
     "output_type": "display_data"
    }
   ],
   "source": [
    "# Plotted on a graph to describe the shape of each function\n",
    "funcs = [\n",
    "  (l2, 'b-', 'L2 Loss'),\n",
    "  (l1, 'r--', 'L1 Loss'),\n",
    "  (phuber1, 'k-.', 'P-Huber Loss (0.25)'),\n",
    "  (phuber2, 'g:', 'P-Huber Loss (5.0)')\n",
    "]\n",
    "\n",
    "for func, line_type, func_name in funcs:\n",
    "  plt.plot(\n",
    "    x_vals,\n",
    "    func(y_true=target, y_pred=x_vals),\n",
    "    line_type,\n",
    "    label=func_name\n",
    "  )\n",
    "plt.ylim(-0.2, 0.4)\n",
    "plt.legend(loc='lower right', prop={'size': 11})\n",
    "plt.show()"
   ]
  },
  {
   "cell_type": "markdown",
   "metadata": {},
   "source": [
    "Prediction of a categorical dependent variable"
   ]
  },
  {
   "cell_type": "code",
   "execution_count": 18,
   "metadata": {},
   "outputs": [],
   "source": [
    "x_vals = tf.linspace(-3., 5., 500)\n",
    "target = tf.fill([500,], 1.)"
   ]
  },
  {
   "cell_type": "code",
   "execution_count": 19,
   "metadata": {},
   "outputs": [],
   "source": [
    "def hinge(y_true, y_pred):\n",
    "  return tf.maximum(0., 1. - tf.multiply(y_true, y_pred))"
   ]
  },
  {
   "cell_type": "code",
   "execution_count": 20,
   "metadata": {},
   "outputs": [],
   "source": [
    "def xentropy(y_true, y_pred):\n",
    "  return (-tf.multiply(y_true, tf.math.log(y_pred)) - tf.multiply((1. - y_true), tf.math.log(1. - y_pred)))"
   ]
  },
  {
   "cell_type": "code",
   "execution_count": 21,
   "metadata": {},
   "outputs": [],
   "source": [
    "def sigmoid_xentropy(y_true, y_pred):\n",
    "  return tf.nn.sigmoid_cross_entropy_with_logits(\n",
    "    labels=y_true,\n",
    "    logits=y_pred\n",
    "  )"
   ]
  },
  {
   "cell_type": "code",
   "execution_count": 28,
   "metadata": {},
   "outputs": [],
   "source": [
    "def weighted_xentropy(y_true, y_pred):\n",
    "  weight = tf.constant(0.5)\n",
    "  return tf.nn.weighted_cross_entropy_with_logits(\n",
    "    labels=y_true,\n",
    "    logits=y_pred,\n",
    "    pos_weight=weight\n",
    "  )"
   ]
  },
  {
   "cell_type": "code",
   "execution_count": 23,
   "metadata": {},
   "outputs": [
    {
     "name": "stdout",
     "output_type": "stream",
     "text": [
      "tf.Tensor([1.1601256], shape=(1,), dtype=float32)\n"
     ]
    }
   ],
   "source": [
    "def softmax_xentropy(y_true, y_pred):\n",
    "  return tf.nn.softmax_cross_entropy_with_logits(labels=y_true, logits=y_pred)\n",
    "\n",
    "unscaled_logits = tf.constant([[1., -3., 10.]])\n",
    "target_distribution = tf.constant([[0.1, 0.02, 0.88]])\n",
    "print(softmax_xentropy(y_true=target_distribution, y_pred=unscaled_logits))"
   ]
  },
  {
   "cell_type": "code",
   "execution_count": 24,
   "metadata": {},
   "outputs": [
    {
     "name": "stdout",
     "output_type": "stream",
     "text": [
      "tf.Tensor([0.00012564], shape=(1,), dtype=float32)\n"
     ]
    }
   ],
   "source": [
    "def sparse_xentropy(y_true, y_pred):\n",
    "  return tf.nn.sparse_softmax_cross_entropy_with_logits(\n",
    "    labels=y_true,\n",
    "    logits=y_pred,\n",
    "  )\n",
    "\n",
    "unscaled_logits = tf.constant([[1., -3., 10.]])\n",
    "sparse_target_dist = tf.constant([2])\n",
    "print(sparse_xentropy(y_true=sparse_target_dist, y_pred=unscaled_logits))"
   ]
  },
  {
   "cell_type": "code",
   "execution_count": 29,
   "metadata": {},
   "outputs": [
    {
     "data": {
      "image/png": "[encoded data removed]",
      "text/plain": [
       "<Figure size 640x480 with 1 Axes>"
      ]
     },
     "metadata": {},
     "output_type": "display_data"
    }
   ],
   "source": [
    "# Plotted on a graph to describe the shape of each function\n",
    "funcs = [\n",
    "  (hinge, 'b-', 'Hinge Loss'),\n",
    "  (xentropy, 'r--', 'Cross Entropy Loss'),\n",
    "  (sigmoid_xentropy, 'k-.', 'Cross Entropy Sigmoid Loss'),\n",
    "  (weighted_xentropy, 'g:', 'Weighted Cross Entropy Loss')\n",
    "]\n",
    "\n",
    "for func, line_type, func_name in funcs:\n",
    "  plt.plot(\n",
    "    x_vals,\n",
    "    func(y_true=target, y_pred=x_vals),\n",
    "    line_type,\n",
    "    label=func_name\n",
    "  )\n",
    "plt.ylim(-1.5, 3)\n",
    "plt.legend(loc='lower right', prop={'size': 11})\n",
    "plt.show()"
   ]
  },
  {
   "cell_type": "markdown",
   "metadata": {},
   "source": [
    "## Summary\n",
    "\n",
    "Each metric/ loss function has pros and cons. The choice depends on the problem being solved and the nature of the problem/ data itself.\n",
    "\n",
    "Because each metric will behanve differently and, depending on the problem, some loss minimization strategies will be better than others. So experiment!\n",
    "\n",
    "Below is a table summarising the functions covered\n",
    "\n",
    "| Loss Function | Use | Benefit | Disadvantages |\n",
    "| ------------- | --- | ------- | ------------- |\n",
    "| L2 | Regression | More stable | Less robust i.e more prone to outliers |\n",
    "| L1 | Regression | More robust | Less stable i.e might still fluctuate even when close to target|\n",
    "| Pseudo-Huber | Regression | More robust and stable | One more parameter to optimise |\n",
    "| Hinge | Classification | Creates a max margin used for SVM | Unbounded loss, affected by outliers |\n",
    "| Cross-entropy | Classification | More stable | Unbounded loss, less robust |\n",
    "\n",
    "Metrics to consider:\n",
    "\n",
    "* R-squared\n",
    "* Root mean squared error\n",
    "* Confusion matrix\n",
    "* Recall\n",
    "* Precision\n",
    "* F-score"
   ]
  },
  {
   "cell_type": "markdown",
   "metadata": {},
   "source": [
    "---"
   ]
  },
  {
   "cell_type": "markdown",
   "metadata": {},
   "source": [
    "# Implementing Backpropogation\n",
    "\n",
    "Backpropogation is how model variables are updated. Errors are backpropogated through the network in a way that __minimizes the loss function__.\n",
    "\n",
    "An __optimisation function__ is used to compute the changes to be applied for each weight within the model each time data is parsed in and a prediction is obtained. Tensorflow will go through and figure out the backpropogation terms for all computations in the graph and modify variables accordingly.\n",
    "\n",
    "* Example 1: Regression problem with a single weight and bias term with L2 norm loss\n",
    "* Example 2: Binary classification model. Linear optimised model with sigmoid cross entropy loss"
   ]
  },
  {
   "cell_type": "markdown",
   "metadata": {},
   "source": [
    "## Example 1: Regression model"
   ]
  },
  {
   "cell_type": "code",
   "execution_count": 9,
   "metadata": {},
   "outputs": [],
   "source": [
    "import tensorflow as tf\n",
    "import numpy as np\n",
    "import matplotlib.pyplot as plt\n",
    "\n",
    "import os\n",
    "os.environ[\"TF_CPP_MIN_LOG_LEVEL\"] = \"3\"\n",
    "os.environ[\"GRPC_VERBOSITY\"] = \"ERROR\"\n",
    "os.environ[\"GLOG_minloglevel\"] = \"2\"\n",
    "\n",
    "np.random.seed(0)\n",
    "tf.random.set_seed(1)"
   ]
  },
  {
   "cell_type": "code",
   "execution_count": 5,
   "metadata": {},
   "outputs": [
    {
     "data": {
      "image/png": "[encoded data removed]",
      "text/plain": [
       "<Figure size 640x480 with 1 Axes>"
      ]
     },
     "metadata": {},
     "output_type": "display_data"
    }
   ],
   "source": [
    "# Define the data and targets\n",
    "x_vals = np.random.normal(1, 0.1, 100).astype(np.float32)\n",
    "y_vals = (x_vals * (np.random.normal(1, 0.05, 100) - 0.5)).astype(np.float32)\n",
    "plt.scatter(x_vals, y_vals)\n",
    "plt.show()"
   ]
  },
  {
   "cell_type": "code",
   "execution_count": 7,
   "metadata": {},
   "outputs": [],
   "source": [
    "def my_output(X, weights, biases):\n",
    "  '''model - bX + a'''\n",
    "  return tf.add(tf.multiply(X, weights), biases)\n",
    "\n",
    "def loss_func(y_true, y_pred):\n",
    "  '''L2 loss'''\n",
    "  return tf.reduce_mean(tf.square(y_pred - y_true))"
   ]
  },
  {
   "cell_type": "markdown",
   "metadata": {},
   "source": [
    "Optimisation algorithms require a _learning rate_ to indicate how far in a direction each step takes to change the variables in the model.\n",
    "\n",
    "This is usually a hyperparameter to be optimised"
   ]
  },
  {
   "cell_type": "code",
   "execution_count": 8,
   "metadata": {},
   "outputs": [],
   "source": [
    "my_opt = tf.optimizers.SGD(learning_rate=0.02)"
   ]
  },
  {
   "cell_type": "code",
   "execution_count": null,
   "metadata": {},
   "outputs": [],
   "source": [
    "# Initialise starting values\n",
    "weights = tf.Variable(tf.random.normal(shape=[1]))\n",
    "biases = tf.Variable(tf.random.normal(shape=[1]))\n",
    "history = []"
   ]
  },
  {
   "cell_type": "code",
   "execution_count": 12,
   "metadata": {},
   "outputs": [
    {
     "name": "stdout",
     "output_type": "stream",
     "text": [
      "Step # 25 Weights: [-0.57249576] Biases: [0.916295]\n",
      "Loss = 0.0915171429514885\n",
      "Step # 50 Weights: [-0.50485003] Biases: [0.97861886]\n",
      "Loss = 0.00013714825036004186\n",
      "Step # 75 Weights: [-0.46517488] Biases: [1.0034196]\n",
      "Loss = 0.07202576845884323\n",
      "Step # 100 Weights: [-0.47813603] Biases: [0.97745514]\n",
      "Loss = 0.002147938823327422\n"
     ]
    }
   ],
   "source": [
    "# Training loop\n",
    "for i in range(100):\n",
    "  rand_index = np.random.choice(100)\n",
    "  rand_x = [x_vals[rand_index]]\n",
    "  rand_y = [y_vals[rand_index]]\n",
    "\n",
    "  # gradienttape here records the set of variables (tf.Variable) that are used for automatic\n",
    "  # differentiation\n",
    "  with tf.GradientTape() as tape:\n",
    "    predictions = my_output(rand_x, weights, biases)\n",
    "    loss = loss_func(rand_y, predictions)\n",
    "  history.append(loss.numpy())\n",
    "  gradients = tape.gradient(loss, [weights, biases])\n",
    "  my_opt.apply_gradients(zip(gradients, [weights, biases]))\n",
    "  if (1 + i) % 25 == 0:\n",
    "    print(f\"Step # {i+1} Weights: {weights.numpy()} Biases: {biases.numpy()}\")\n",
    "    print(f\"Loss = {loss.numpy()}\")"
   ]
  },
  {
   "cell_type": "markdown",
   "metadata": {},
   "source": [
    "`tf.GradientTape()` tracks the computation and calculate the gradient with respect to the observed variables. All variables (`tf.Variable`) within the scope is monitored. Once monitoring is completed, gradient is computed using the `tape.gradient(target, source)` to get the tensor of gradients to be applied to the minimisation process.\n",
    "\n",
    "Constants can also be monitered using `tape.watch(constant)`\n",
    "\n",
    "_Good description of what gradient tape does: https://stackoverflow.com/questions/53953099/what-is-the-purpose-of-the-tensorflow-gradient-tape_"
   ]
  },
  {
   "cell_type": "code",
   "execution_count": 13,
   "metadata": {},
   "outputs": [
    {
     "data": {
      "image/png": "[encoded data removed]",
      "text/plain": [
       "<Figure size 640x480 with 1 Axes>"
      ]
     },
     "metadata": {},
     "output_type": "display_data"
    }
   ],
   "source": [
    "plt.plot(history)\n",
    "plt.xlabel('iterations')\n",
    "plt.ylabel('loss')\n",
    "plt.show()"
   ]
  },
  {
   "cell_type": "markdown",
   "metadata": {},
   "source": [
    "## Example 2: Classification model"
   ]
  },
  {
   "cell_type": "code",
   "execution_count": 14,
   "metadata": {},
   "outputs": [
    {
     "data": {
      "image/png": "[encoded data removed]",
      "text/plain": [
       "<Figure size 640x480 with 1 Axes>"
      ]
     },
     "metadata": {},
     "output_type": "display_data"
    }
   ],
   "source": [
    "# Generate data\n",
    "np.random.seed(0)\n",
    "x_vals = np.concatenate((\n",
    "  np.random.normal(-3, 1, 50),\n",
    "  np.random.normal(3, 1, 50)\n",
    ")).astype(np.float32)\n",
    "y_vals = np.concatenate((np.repeat(0., 50), np.repeat(1., 50)))\n",
    "\n",
    "plt.hist(x_vals[y_vals==1], color='b')\n",
    "plt.hist(x_vals[y_vals==0], color='r')\n",
    "plt.show()"
   ]
  },
  {
   "cell_type": "code",
   "execution_count": 15,
   "metadata": {},
   "outputs": [],
   "source": [
    "def loss_func(y_true, y_pred):\n",
    "  return tf.reduce_mean(tf.nn.sigmoid_cross_entropy_with_logits(\n",
    "    labels=y_true,\n",
    "    logits=y_pred\n",
    "  ))"
   ]
  },
  {
   "cell_type": "code",
   "execution_count": 16,
   "metadata": {},
   "outputs": [],
   "source": [
    "weights = tf.Variable(tf.random.normal(shape=[1]))\n",
    "biases = tf.Variable(tf.random.normal(shape=[1]))\n",
    "history = []"
   ]
  },
  {
   "cell_type": "code",
   "execution_count": null,
   "metadata": {},
   "outputs": [],
   "source": [
    "# Training loop\n",
    "for i in range(100):\n",
    "  r"
   ]
  },
  {
   "cell_type": "code",
   "execution_count": null,
   "metadata": {},
   "outputs": [],
   "source": []
  },
  {
   "cell_type": "code",
   "execution_count": null,
   "metadata": {},
   "outputs": [],
   "source": []
  }
 ],
 "metadata": {
  "kernelspec": {
   "display_name": "Python 3 (ipykernel)",
   "language": "python",
   "name": "python3"
  },
  "language_info": {
   "codemirror_mode": {
    "name": "ipython",
    "version": 3
   },
   "file_extension": ".py",
   "mimetype": "text/x-python",
   "name": "python",
   "nbconvert_exporter": "python",
   "pygments_lexer": "ipython3",
   "version": "3.11.0rc1"
  }
 },
 "nbformat": 4,
 "nbformat_minor": 2
}
