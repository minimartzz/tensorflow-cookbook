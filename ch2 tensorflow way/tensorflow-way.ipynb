{
 "cells": [
  {
   "cell_type": "markdown",
   "metadata": {},
   "source": [
    "# The Tensorflow Way\n",
    "\n",
    "How to put together objects using eager to dynamically setup the computational graph. Eventually create a classifier.\n",
    "\n",
    "## Outcomes\n",
    "\n",
    "* Operations using eager execution\n",
    "* Layering nested operations\n",
    "* Working with multiple layers\n",
    "* Implementing loss functions\n",
    "* Implementing backpropagation\n",
    "* Working with batch and stochastic training\n",
    "* Combining components together"
   ]
  },
  {
   "cell_type": "markdown",
   "metadata": {},
   "source": [
    "| Date | User | Change Type | Remarks |  \n",
    "| ---- | ---- | ----------- | ------- |\n",
    "| 14/10/2024   | Martin | Created   | Started chapter 2 | "
   ]
  },
  {
   "cell_type": "markdown",
   "metadata": {
    "vscode": {
     "languageId": "plaintext"
    }
   },
   "source": [
    "# Content\n",
    "\n",
    "* [Operations using eager execution](#header-1)"
   ]
  },
  {
   "cell_type": "markdown",
   "metadata": {},
   "source": [
    "# Operations using eager execution\n",
    "\n",
    "Operating on matrices using eager execution. \n",
    "\n",
    "Eager excution allows you to perform operations directly on the results, instead of working on symbolic handles of a computational graph."
   ]
  },
  {
   "cell_type": "code",
   "execution_count": 1,
   "metadata": {},
   "outputs": [],
   "source": [
    "import os\n",
    "os.environ[\"TF_CPP_MIN_LOG_LEVEL\"] = \"3\"\n",
    "os.environ[\"GRPC_VERBOSITY\"] = \"ERROR\"\n",
    "os.environ[\"GLOG_minloglevel\"] = \"2\"\n",
    "\n",
    "import tensorflow as tf\n",
    "import numpy as np"
   ]
  },
  {
   "cell_type": "code",
   "execution_count": 2,
   "metadata": {},
   "outputs": [
    {
     "name": "stdout",
     "output_type": "stream",
     "text": [
      "3.0\n",
      "9.0\n",
      "15.0\n",
      "21.0\n",
      "27.0\n"
     ]
    }
   ],
   "source": [
    "# Convert a numpy array into a tensor and perform an operation\n",
    "x_vals = np.array([1., 3., 5., 7., 9.])\n",
    "x_data = tf.Variable(x_vals, dtype=tf.float32)\n",
    "x_const = tf.constant(3.)\n",
    "\n",
    "operation = tf.multiply(x_data, x_const)\n",
    "for val in operation: # where eager execution happens\n",
    "  print(val.numpy())"
   ]
  },
  {
   "cell_type": "markdown",
   "metadata": {},
   "source": [
    "# Layering nested operations\n",
    "\n",
    "Putting multiple operations together. Multiply 2 matrics then perform addition, each matrix is 3D.\n",
    "\n",
    "Use common constructs like functions and classes to improve readability and code modularity."
   ]
  },
  {
   "cell_type": "code",
   "execution_count": 9,
   "metadata": {},
   "outputs": [
    {
     "name": "stdout",
     "output_type": "stream",
     "text": [
      "[[[102.]\n",
      "  [ 59.]\n",
      "  [ 49.]]\n",
      "\n",
      " [[114.]\n",
      "  [ 71.]\n",
      "  [ 61.]]]\n"
     ]
    }
   ],
   "source": [
    "# Starting matrix\n",
    "array = np.array([[1., 3., 5., 7., 9.],\n",
    "                  [-2., 0., 2., 4., 6.],\n",
    "                  [-6., -3., 0., 3., 6.]]) # 3x5\n",
    "x_vals = np.array([array, array + 1]) # 3x5x2\n",
    "x_data = tf.Variable(x_vals, dtype=tf.float32) # 3x5x2\n",
    "\n",
    "# Operation matrices\n",
    "m1 = tf.constant([[1.], [0.], [-1.], [2.], [4.]]) # 5x1\n",
    "m2 = tf.constant([[2.]]) # 1x1\n",
    "a1 = tf.constant([[10.], [3.], [1.]]) # 3x1\n",
    "\n",
    "def prod(a, b):\n",
    "  return tf.matmul(a, b)\n",
    "def add(a, b):\n",
    "  return tf.add(a, b)\n",
    "\n",
    "# Operations\n",
    "result = add(prod(prod(x_data, m1), m2), a1)\n",
    "print(result.numpy())"
   ]
  },
  {
   "cell_type": "markdown",
   "metadata": {},
   "source": [
    "Prevent \"kichen sink\" programming style (putting everything in the global scope of the program). Adopt a functional or object-oriented programming style"
   ]
  },
  {
   "cell_type": "code",
   "execution_count": 11,
   "metadata": {},
   "outputs": [
    {
     "name": "stdout",
     "output_type": "stream",
     "text": [
      "[[[102.]\n",
      "  [ 59.]\n",
      "  [ 49.]]\n",
      "\n",
      " [[114.]\n",
      "  [ 71.]\n",
      "  [ 61.]]]\n"
     ]
    }
   ],
   "source": [
    "class Operations():\n",
    "  def __init__(self, a):\n",
    "    self.result = a\n",
    "  def apply(self, func, b):\n",
    "    self.result = func(self.result, b)\n",
    "    return self\n",
    "\n",
    "operation = (\n",
    "  Operations(a=x_data)\n",
    "  .apply(prod, b=m1)\n",
    "  .apply(prod, b=m2)\n",
    "  .apply(add, b=a1)\n",
    ")\n",
    "print(operation.result.numpy())"
   ]
  },
  {
   "cell_type": "markdown",
   "metadata": {},
   "source": [
    "If the shape of the tensor is not known beforehand, we can initialise the unknown dimension with `None`."
   ]
  },
  {
   "cell_type": "code",
   "execution_count": 15,
   "metadata": {},
   "outputs": [
    {
     "data": {
      "text/plain": [
       "<tf.Variable 'UnreadVariable' shape=(None, 5) dtype=float32, numpy=\n",
       "array([[-0.2408374 ,  1.7669061 , -0.9611152 ,  1.7895854 , -0.6851607 ],\n",
       "       [ 1.9162391 ,  1.0384045 , -0.8034953 ,  0.33766457, -0.54708785],\n",
       "       [-3.0316987 , -2.0763571 ,  1.5104392 ,  0.3365694 ,  0.74961025],\n",
       "       [ 1.4060197 , -0.91576695, -0.60831064,  0.45539996, -0.8254257 ],\n",
       "       [-1.1942742 , -0.31644046, -0.85949975, -1.147775  , -0.57103795],\n",
       "       [ 1.234363  ,  1.9150587 ,  0.33312622,  0.4733555 ,  1.5149691 ],\n",
       "       [ 1.1402022 , -1.8850285 , -0.11132842, -1.9180793 ,  1.7446767 ],\n",
       "       [-0.48002127, -0.2189978 ,  0.6621816 ,  1.2813387 ,  0.7167656 ],\n",
       "       [ 1.226478  ,  1.2447158 ,  1.0185527 ,  1.6968899 ,  0.64589614],\n",
       "       [-0.37618685,  2.0898812 , -0.2646985 , -0.37295765,  0.9064721 ]],\n",
       "      dtype=float32)>"
      ]
     },
     "execution_count": 15,
     "metadata": {},
     "output_type": "execute_result"
    }
   ],
   "source": [
    "# Initialise with unknown dimension\n",
    "v = tf.Variable(\n",
    "  initial_value=tf.random.normal(shape=(1, 5)),\n",
    "  shape=tf.TensorShape((None, 5))\n",
    ")\n",
    "v.assign(tf.random.normal(shape=(10, 5)))"
   ]
  },
  {
   "cell_type": "markdown",
   "metadata": {},
   "source": [
    "# Working with multiple layers\n",
    "\n",
    "How to connect data layers together. Example will be image processing by (1) average through a moving window (2) custom operation layer.\n",
    "\n",
    "As more layers are added, the computational graph can get complicated. Therefore we introduce scopes to group the layers together"
   ]
  },
  {
   "cell_type": "code",
   "execution_count": 8,
   "metadata": {},
   "outputs": [],
   "source": [
    "# Create an \"image\" 4x4 pixel image\n",
    "batch_size = [1]\n",
    "x_shape = [4, 4, 1]\n",
    "x_data = tf.random.uniform(shape=batch_size + x_shape)"
   ]
  },
  {
   "cell_type": "code",
   "execution_count": 9,
   "metadata": {},
   "outputs": [
    {
     "data": {
      "text/plain": [
       "<tf.Tensor: shape=(1, 2, 2, 1), dtype=float32, numpy=\n",
       "array([[[[0.48430553],\n",
       "         [0.5037121 ]],\n",
       "\n",
       "        [[0.66042995],\n",
       "         [0.77765524]]]], dtype=float32)>"
      ]
     },
     "execution_count": 9,
     "metadata": {},
     "output_type": "execute_result"
    }
   ],
   "source": [
    "# Conv2D - moving window\n",
    "def mov_avg_layer(x):\n",
    "  \"\"\"\n",
    "  Formula takes the average of all values in the window\n",
    "  \"\"\"\n",
    "  my_filter = tf.constant(0.25, shape=[2, 2, 1, 1])\n",
    "  my_strides = [1, 2, 2, 1]\n",
    "  layer = tf.nn.conv2d(\n",
    "    x,\n",
    "    my_filter,\n",
    "    my_strides,\n",
    "    padding='SAME',\n",
    "    name='Moving_Avg_Window'\n",
    "  )\n",
    "  return layer\n",
    "mov_avg_layer(x_data)"
   ]
  },
  {
   "cell_type": "markdown",
   "metadata": {},
   "source": [
    "💡 Note that the formula for calculating the output is the following:\n",
    "\n",
    "$$\n",
    "Output = \\frac{(W-F+2P)}{S+1}\\\\\n",
    "W:\\ input\\ size\\\\\n",
    "F:\\ filter\\ size\\\\\n",
    "P:\\ padding\\\\\n",
    "S:\\ stride\n",
    "$$"
   ]
  },
  {
   "cell_type": "code",
   "execution_count": 10,
   "metadata": {},
   "outputs": [],
   "source": [
    "def custom_layer(input_matrix):\n",
    "  # remove unecessary dimension\n",
    "  reduce_dimensions = tf.squeeze(input_matrix)\n",
    "  \n",
    "  # define matrices \n",
    "  A = tf.constant([[1., 2.], [-1., 3.]])\n",
    "  b = tf.constant(1., shape=[2, 2])\n",
    "\n",
    "  # compute Ax + b\n",
    "  output = tf.matmul(A, reduce_dimensions)\n",
    "  output = tf.add(output, b)\n",
    "\n",
    "  return output"
   ]
  },
  {
   "cell_type": "code",
   "execution_count": 11,
   "metadata": {},
   "outputs": [
    {
     "name": "stdout",
     "output_type": "stream",
     "text": [
      "tf.Tensor(\n",
      "[[2.8051653 3.0590227]\n",
      " [2.4969845 2.8292537]], shape=(2, 2), dtype=float32)\n"
     ]
    }
   ],
   "source": [
    "# Implement the layers\n",
    "first_layer = mov_avg_layer(x_data)\n",
    "second_layer = custom_layer(first_layer)\n",
    "\n",
    "print(second_layer)"
   ]
  }
 ],
 "metadata": {
  "kernelspec": {
   "display_name": "dev_env",
   "language": "python",
   "name": "python3"
  },
  "language_info": {
   "codemirror_mode": {
    "name": "ipython",
    "version": 3
   },
   "file_extension": ".py",
   "mimetype": "text/x-python",
   "name": "python",
   "nbconvert_exporter": "python",
   "pygments_lexer": "ipython3",
   "version": "3.9.13"
  }
 },
 "nbformat": 4,
 "nbformat_minor": 2
}
