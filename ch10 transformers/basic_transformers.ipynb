{
 "cells": [
  {
   "cell_type": "markdown",
   "metadata": {},
   "source": [
    "# Transformers"
   ]
  },
  {
   "cell_type": "markdown",
   "metadata": {},
   "source": [
    "| Date | User | Change Type | Remarks |  \n",
    "| ---- | ---- | ----------- | ------- |\n",
    "| 03/03/2025   | Martin | Created   | Created notebook for Transformers Chapter. Started text generation section and exploring different decoding methods | \n",
    "| 04/03/2025   | Martin | Update   | Completed top k and top p methods for decoding section | \n",
    "| 06/03/2025   | Martin | Update   | Completed text generation section | \n",
    "| 09/03/2025   | Martin | Update   | Started Sentiment analysis section | \n",
    "| 10/03/2025   | Martin | Update   | Completed Sentiment section. Started on Open-domain questions | "
   ]
  },
  {
   "cell_type": "markdown",
   "metadata": {
    "vscode": {
     "languageId": "plaintext"
    }
   },
   "source": [
    "# Content\n",
    "\n",
    "* [Introduction](#introduction)\n",
    "* [Text Generation](#text-generation)\n",
    "* [Sentiment Analysis](#sentiment-analysis)"
   ]
  },
  {
   "cell_type": "markdown",
   "metadata": {},
   "source": [
    "# Introduction"
   ]
  },
  {
   "cell_type": "markdown",
   "metadata": {},
   "source": [
    "Transformers perform a similar function to RNNs in processing sequential data but are an improvement since they do not require processing of data in order. Results in better parallelisation and faster training.\n",
    "\n",
    "They can be pretrained on large bodies of unlabeled data and then fintuned for other tasks\n",
    "\n",
    "__Perform Functions__\n",
    "\n",
    "* Translation\n",
    "* Question answering\n",
    "* Text summarisations\n",
    "\n",
    "__2 Common Architectures__\n",
    "\n",
    "1. Bidirectional Encoder Represetations for Transformers (BERT)\n",
    "2. Generative Pretrained Transformers (GPTs)\n",
    "\n",
    "__Recipes Covered__\n",
    "\n",
    "1. Text generation\n",
    "2. Sentiment Analysis\n",
    "3. Text classification: sarcasm detection\n",
    "4. Question answering"
   ]
  },
  {
   "cell_type": "markdown",
   "metadata": {},
   "source": [
    "---"
   ]
  },
  {
   "cell_type": "markdown",
   "metadata": {},
   "source": [
    "# Text Generation"
   ]
  },
  {
   "cell_type": "markdown",
   "metadata": {},
   "source": [
    "Using GPT-2 from __HuggingFace__\n",
    "\n",
    "_GPT-2:_ Second generation of the GPT architecture. It showed show generative language models can acquire knowledge and process long-range dependencies thanks to pretraining on a large, diverse corpus of contiguous text"
   ]
  },
  {
   "cell_type": "code",
   "execution_count": 1,
   "metadata": {},
   "outputs": [
    {
     "name": "stderr",
     "output_type": "stream",
     "text": [
      "2025-03-04 23:12:20.017064: I tensorflow/core/util/port.cc:153] oneDNN custom operations are on. You may see slightly different numerical results due to floating-point round-off errors from different computation orders. To turn them off, set the environment variable `TF_ENABLE_ONEDNN_OPTS=0`.\n",
      "2025-03-04 23:12:22.302923: E external/local_xla/xla/stream_executor/cuda/cuda_fft.cc:477] Unable to register cuFFT factory: Attempting to register factory for plugin cuFFT when one has already been registered\n",
      "WARNING: All log messages before absl::InitializeLog() is called are written to STDERR\n",
      "E0000 00:00:1741101143.101419    1444 cuda_dnn.cc:8310] Unable to register cuDNN factory: Attempting to register factory for plugin cuDNN when one has already been registered\n",
      "E0000 00:00:1741101143.337128    1444 cuda_blas.cc:1418] Unable to register cuBLAS factory: Attempting to register factory for plugin cuBLAS when one has already been registered\n",
      "2025-03-04 23:12:25.479633: I tensorflow/core/platform/cpu_feature_guard.cc:210] This TensorFlow binary is optimized to use available CPU instructions in performance-critical operations.\n",
      "To enable the following instructions: AVX2 AVX_VNNI FMA, in other operations, rebuild TensorFlow with the appropriate compiler flags.\n",
      "/mnt/d/Software/venv/py310_env/lib/python3.10/site-packages/tqdm/auto.py:21: TqdmWarning: IProgress not found. Please update jupyter and ipywidgets. See https://ipywidgets.readthedocs.io/en/stable/user_install.html\n",
      "  from .autonotebook import tqdm as notebook_tqdm\n",
      "I0000 00:00:1741101202.346323    1444 gpu_device.cc:2022] Created device /job:localhost/replica:0/task:0/device:GPU:0 with 9558 MB memory:  -> device: 0, name: NVIDIA GeForce RTX 4070, pci bus id: 0000:01:00.0, compute capability: 8.9\n",
      "All PyTorch model weights were used when initializing TFGPT2LMHeadModel.\n",
      "\n",
      "All the weights of TFGPT2LMHeadModel were initialized from the PyTorch model.\n",
      "If your task is similar to the task the model of the checkpoint was trained on, you can already use TFGPT2LMHeadModel for predictions without further training.\n"
     ]
    }
   ],
   "source": [
    "import tensorflow as tf\n",
    "\n",
    "from transformers import TFGPT2LMHeadModel, GPT2Tokenizer\n",
    "\n",
    "tokenizer = GPT2Tokenizer.from_pretrained('gpt2')\n",
    "GPT2 = TFGPT2LMHeadModel.from_pretrained('gpt2', pad_token_id=tokenizer.eos_token_id)"
   ]
  },
  {
   "cell_type": "code",
   "execution_count": 2,
   "metadata": {},
   "outputs": [],
   "source": [
    "# Set seed\n",
    "SEED = 34\n",
    "MAX_LEN = 70 # set the maximum context length\n",
    "tf.random.set_seed(SEED)"
   ]
  },
  {
   "cell_type": "markdown",
   "metadata": {},
   "source": [
    "## Decoding Methods\n",
    "\n",
    "These are different methods on how to determine the next word\n",
    "\n",
    "1. __Greedy Search__ - Select the word with the highest probability\n",
    "2. [__Beam Search__](https://towardsdatascience.com/foundations-of-nlp-explained-visually-beam-search-how-it-works-1586b9849a24/) - Picks the N best sequences and considers the probabilities of the combination of all the preceding words + current word. Each branching sequence is retrained against the model conditioned on all previously selected words till the end of a sentence (\"\") has the highest probability\n",
    "3. __Sample-based decoding__ - Randomly selecting the next token according to a probability distribution. The distribution is created based on the probabilities for each word, which are conditional probabilities\n",
    "4. __Top K Sampling__ - Entire probability mass is shifted to only the top $k$ words. This increases the chances of high probability words occurring and decreases the chances of low probability words\n",
    "5. __Top P Sampling (Nucleus Sampling)__ - Choose the smallest set of words whose total probability is greater than $p$. The probability mass function is rescaled to these set of words. This means that the size of the set of words changes with each step"
   ]
  },
  {
   "cell_type": "markdown",
   "metadata": {},
   "source": [
    "### 1. Greedy Search\n",
    "\n",
    "Model tends to repeat itself after awhile, because the high probability words mask the less probable ones which prevents any exploration for diverse combinations"
   ]
  },
  {
   "cell_type": "code",
   "execution_count": 3,
   "metadata": {},
   "outputs": [],
   "source": [
    "# Sample texts/ sequences\n",
    "input_sequence_1 = \"I don't know about you, but there's only one thing I want to do after a long day of work\"\n",
    "input_sequence_2 = \"There are times when I am really tired of people, but I feel lonely too.\""
   ]
  },
  {
   "cell_type": "code",
   "execution_count": 9,
   "metadata": {},
   "outputs": [
    {
     "name": "stdout",
     "output_type": "stream",
     "text": [
      "Output:\n",
      "----------------------------------------------------------------------------------------------------\n",
      "There are times when I am really tired of people, but I feel lonely too. I feel like I am not in the right place at the right time. I feel like I am not in the right place at the right time. I feel like I am not in the right place at the right time. I feel like I am not in the\n"
     ]
    }
   ],
   "source": [
    "# 1. Greedy Search\n",
    "# Encode context the generation is conditioned on\n",
    "input_ids = tokenizer.encode(input_sequence_2, return_tensors='tf')\n",
    "\n",
    "# Generate text until the output length (including context length - input)\n",
    "greedy_output = GPT2.generate(input_ids, max_length=MAX_LEN)\n",
    "\n",
    "print(\"Output:\\n\" + 100 * '-')\n",
    "print(tokenizer.decode(greedy_output[0], skip_special_tokens = True))"
   ]
  },
  {
   "cell_type": "markdown",
   "metadata": {},
   "source": [
    "### 2. Beam Search\n",
    "\n",
    "Selects the N best sequences by selecting the best N combinations and creating branching possibilities of next words. Each branch is retrained with the previously selected sequence to get a new set of possible word probabilities.\n",
    "\n",
    "e.g For the sentence: \"I am going to the ____\"\n",
    "\n",
    "Possible predictions:\n",
    "\n",
    "* Park 0.6\n",
    "* Zoo 0.1\n",
    "* Doctor 0.25\n",
    "* Supermarket 0.05\n",
    "\n",
    "With N=2, the beam search will rerun the model on \"I am going to the __Park__\" and \"I am going to the __Supermarket__\" and then repeat the process for each result\n",
    "\n",
    "Each iteration will select the highest probability across __ALL__ branches. This method increases the exploration of possible words"
   ]
  },
  {
   "cell_type": "code",
   "execution_count": null,
   "metadata": {},
   "outputs": [
    {
     "name": "stdout",
     "output_type": "stream",
     "text": [
      "\n",
      "Output:\n",
      "----------------------------------------------------------------------------------------------------\n",
      "1: There are times when I am really tired of people, but I feel lonely too. I don't know what to do with myself.\n",
      "\n",
      "\"I feel like I can't do anything about it. It's like, 'Oh my God, I'm going to have to get out of here.'\"\n",
      "2: There are times when I am really tired of people, but I feel lonely too. I don't know what to do with myself.\n",
      "\n",
      "\"I feel like I can't do anything about it. It's like, 'Oh my God, I'm going to have to get out of here.' I just want to go home.\"\n",
      "3: There are times when I am really tired of people, but I feel lonely too. I don't know what to do with myself.\n",
      "\n",
      "\"I feel like I can't do anything about it. It's like, 'Oh my God, I'm going to have to get out of here.' I have no idea what's going on.\"\n",
      "4: There are times when I am really tired of people, but I feel lonely too. I don't know what to do with myself.\n",
      "\n",
      "\"I feel like I can't do anything about it. It's like, 'Oh my God, I'm going to have to get out of here.' I have no idea what's going on, so I just keep going.\"\n",
      "5: There are times when I am really tired of people, but I feel lonely too. I don't know what to do with myself.\n",
      "\n",
      "\"I feel like I can't do anything about it. It's like, 'Oh my God, I'm going to have to get out of here.' I have no idea what's going on, so I just go to sleep.\"\n"
     ]
    }
   ],
   "source": [
    "# 2. Beam Search\n",
    "input_ids = tokenizer.encode(input_sequence_2, return_tensors='tf')\n",
    "\n",
    "beam_outputs = GPT2.generate(\n",
    "  input_ids,\n",
    "  max_length=200,\n",
    "  num_beams=5,\n",
    "  no_repeat_ngram_size=2,\n",
    "  num_return_sequences=5,\n",
    "  early_stopping=True\n",
    ")\n",
    "\n",
    "print('')\n",
    "print(\"Output:\\n\" + 100 * '-')\n",
    "\n",
    "# we have 5 different outputs\n",
    "for i, beam_output in enumerate(beam_outputs):\n",
    "  print(f\"{i+1}: {tokenizer.decode(beam_output, skip_special_tokens=True)}\")"
   ]
  },
  {
   "cell_type": "markdown",
   "metadata": {},
   "source": [
    "### 3. Sample-based Decoding\n",
    "\n",
    "Randomly selecting the next token according to its probability distribution. \n",
    "\n",
    "Convert the scores into probability distributions (conditional distributions) and randomly select a token\n",
    "\n",
    "_Temperature:_ Controls the \"sharpness\" of the probability distribution\n",
    "\n",
    "* Low Temperature (0.1-0.5): Makes high-probability more likely to be chosen (Leptokurtic) i.e More focused and predictable text\n",
    "* High Temperature (0.8-1.5): Flattens the distribution and gives more equal chance to lower probability tokens (Platykurtic). Increases diversity, bit risks incoherence\n",
    "\n",
    "__OUTCOME:__ Have a more varied output, but sometimes is incoherent esp. with a higher temperature value"
   ]
  },
  {
   "cell_type": "code",
   "execution_count": 16,
   "metadata": {},
   "outputs": [
    {
     "name": "stdout",
     "output_type": "stream",
     "text": [
      "Output:\n",
      "----------------------------------------------------------------------------------------------------\n",
      "I don't know about you, but there's only one thing I want to do after a long day of work. I want to go to the gym and get my body ready for the next day. I want to go to the gym and get my body ready for the next day. I want to go to the gym and get my body ready\n"
     ]
    }
   ],
   "source": [
    "# 3. Sample-based decoding\n",
    "input_ids = tokenizer.encode(input_sequence_1, return_tensors='tf')\n",
    "\n",
    "sample_output = GPT2.generate(\n",
    "  input_ids,\n",
    "  do_sample=True,\n",
    "  max_length=MAX_LEN,\n",
    "  top_k=0,\n",
    "  temperature=0.2 # relatively low temperature value to maintain coherence\n",
    ")\n",
    "\n",
    "print(\"Output:\\n\" + 100 * '-')\n",
    "print(tokenizer.decode(sample_output[0], skip_special_tokens=True))"
   ]
  },
  {
   "cell_type": "code",
   "execution_count": 17,
   "metadata": {},
   "outputs": [
    {
     "name": "stdout",
     "output_type": "stream",
     "text": [
      "Output:\n",
      "----------------------------------------------------------------------------------------------------\n",
      "I don't know about you, but there's only one thing I want to do after a long day of work. This is the day I leave the house,\" she said.\n",
      "\n",
      "\"You have to be ready for something,\" Zhaoxiu said. \"I am afraid to leave.\"\n",
      "\n",
      "She didn't leave alone.\n",
      "\n",
      "\n"
     ]
    }
   ],
   "source": [
    "# with a higher temperature value to increase variability in tokens\n",
    "sample_output = GPT2.generate(\n",
    "  input_ids,\n",
    "  do_sample=True,\n",
    "  max_length=MAX_LEN,\n",
    "  top_k=0,\n",
    "  temperature=0.8 # relatively low temperature value to maintain coherence\n",
    ")\n",
    "\n",
    "print(\"Output:\\n\" + 100 * '-')\n",
    "print(tokenizer.decode(sample_output[0], skip_special_tokens=True))"
   ]
  },
  {
   "cell_type": "markdown",
   "metadata": {},
   "source": [
    "### 4. Top K Sampling"
   ]
  },
  {
   "cell_type": "code",
   "execution_count": 4,
   "metadata": {},
   "outputs": [
    {
     "name": "stdout",
     "output_type": "stream",
     "text": [
      "Output:\n",
      "----------------------------------------------------------------------------------------------------\n",
      "I don't know about you, but there's only one thing I want to do after a long day of work. I have a great time. And that day I'm going to stop getting sick. Because you can't sit up with yourself and eat nothing, you have to sit up with yourself.\"\n",
      "\n",
      "If you are on social media, ...\n"
     ]
    }
   ],
   "source": [
    "input_ids = tokenizer.encode(input_sequence_1, return_tensors='tf')\n",
    "\n",
    "sample_output = GPT2.generate(\n",
    "  input_ids,\n",
    "  do_sample=True,\n",
    "  max_length=MAX_LEN,\n",
    "  top_k=50\n",
    ")\n",
    "\n",
    "print(\"Output:\\n\" + 100 * '-')\n",
    "print(tokenizer.decode(sample_output[0], skip_special_tokens=True), '...')"
   ]
  },
  {
   "cell_type": "markdown",
   "metadata": {},
   "source": [
    "### 5. Top P Sample/ Nucleus Sampling"
   ]
  },
  {
   "cell_type": "code",
   "execution_count": 5,
   "metadata": {},
   "outputs": [
    {
     "name": "stdout",
     "output_type": "stream",
     "text": [
      "Output:\n",
      "----------------------------------------------------------------------------------------------------\n",
      "I don't know about you, but there's only one thing I want to do after a long day of work that I can do. I want to get back to work, and get back to helping the community.\"\n",
      "\n",
      "But on a personal note, Zuckerman says he hopes his decision will provide him with hope for his daughter.\n",
      " ...\n"
     ]
    }
   ],
   "source": [
    "input_ids = tokenizer.encode(input_sequence_1, return_tensors='tf')\n",
    "\n",
    "sample_output = GPT2.generate(\n",
    "  input_ids,\n",
    "  do_sample=True,\n",
    "  max_length=MAX_LEN,\n",
    "  top_k=0,\n",
    "  top_p=0.8\n",
    ")\n",
    "\n",
    "print(\"Output:\\n\" + 100 * '-')\n",
    "print(tokenizer.decode(sample_output[0], skip_special_tokens=True), '...')"
   ]
  },
  {
   "cell_type": "markdown",
   "metadata": {},
   "source": [
    "### Combining both approaches"
   ]
  },
  {
   "cell_type": "code",
   "execution_count": 11,
   "metadata": {},
   "outputs": [
    {
     "name": "stdout",
     "output_type": "stream",
     "text": [
      "Output:\n",
      "----------------------------------------------------------------------------------------------------\n",
      "1: I don't know about you, but there's only one thing I want to do after a long day of work. I want to make my wife happy.\"\n",
      "\n",
      "When the day started, the young woman told me she felt sorry for her daughter, who was suffering from an autism spectrum disorder. She said that after working long hours, she felt like a burden. She had no idea that she had to take a stand on behalf of other children.\n",
      "\n",
      "\"I want my kids to learn how to be successful,\" the woman said. \"I want them to be able to do everything in their power to be successful, and to do that because they know what it's like to have no\n",
      "\n",
      "2: I don't know about you, but there's only one thing I want to do after a long day of work. I want to do this for you, for your children and for your grandchildren. I'm going to make sure you get a good education.\"\n",
      "\n",
      "A family member of mine, an Australian citizen, went on to write a long story in the Sunday Independent. In it she writes: \"I want to thank you for coming and I can't do it. I'm afraid of what's happening to me. You're a very sweet young woman and I'd like to know how you're going to deal with it. You've worked so hard for so long.\n",
      "\n",
      "\"\n",
      "\n",
      "3: I don't know about you, but there's only one thing I want to do after a long day of work and play the game of football. It's about winning and it's about being a good player, making the right decisions, going in and out of the box and I'm hoping that's what you'll get,\" said the 29-year-old striker.\n",
      "\n",
      "\"I feel really good about my career, and I feel like I've been able to improve my game a lot since I've been here.\n",
      "\n",
      "\"It was something that I wanted to do, and I've been getting a lot of support, but there's only one thing I want to do after a\n",
      "\n",
      "4: I don't know about you, but there's only one thing I want to do after a long day of work on this one: I want to be a better coach than I was a year ago.\"\n",
      "\n",
      "The Knicks' defense has been very good and the offense hasn't been good in any of the previous three seasons. Now, they have to put up points if they want to make the playoffs and then get back on track after a big win.\n",
      "\n",
      "\"We've been playing really well this year and we're going to do all the things that we can to be better,\" said Kristaps Porzingis, who is averaging 12.5 points and 8.8 rebounds this season\n",
      "\n",
      "5: I don't know about you, but there's only one thing I want to do after a long day of work on the project. I want to create something that will last a lifetime.\"\n",
      "\n",
      "That's what he has been working on, in the last five months.\n",
      "\n",
      "\"I'm going to do it,\" he says. \"You can see I'm not going to do it.\"\n",
      "\n",
      "What would it be like to take the project to the moon?\n",
      "\n",
      "\"It's not that hard,\" he says. \"I'm a big fan of the Moon landing. It's kind of a cool concept. But we need to take a deep breath. We don't want to\n",
      "\n"
     ]
    }
   ],
   "source": [
    "input_ids = tokenizer.encode(input_sequence_1, return_tensors='tf')\n",
    "\n",
    "sample_outputs = GPT2.generate(\n",
    "  input_ids,\n",
    "  do_sample=True,\n",
    "  max_length=2*MAX_LEN,\n",
    "  top_k=50,\n",
    "  top_p=0.8,\n",
    "  num_return_sequences=5\n",
    ")\n",
    "\n",
    "print(\"Output:\\n\" + 100 * '-')\n",
    "for i, sample_output in enumerate(sample_outputs):\n",
    "  print(f\"{i+1}: {tokenizer.decode(sample_output, skip_special_tokens=True)}\")\n",
    "  print('')"
   ]
  },
  {
   "cell_type": "markdown",
   "metadata": {},
   "source": [
    "Remaining examples are just different prompts, so stopping here"
   ]
  },
  {
   "cell_type": "markdown",
   "metadata": {},
   "source": [
    "---"
   ]
  },
  {
   "cell_type": "markdown",
   "metadata": {},
   "source": [
    "# Sentiment Analysis"
   ]
  },
  {
   "cell_type": "markdown",
   "metadata": {},
   "source": [
    "`DistilBERT`: Lightweight version of `BERT` used to handle common problem of sentiment analysis\n",
    "\n",
    "Goal:\n",
    "* Predict the sentiment of tweets (positive, neutral, negative)\n",
    "* Identify parts of the tweet that define the sentiment"
   ]
  },
  {
   "cell_type": "code",
   "execution_count": 31,
   "metadata": {},
   "outputs": [],
   "source": [
    "import pandas as pd\n",
    "import re\n",
    "import matplotlib.pyplot as plt\n",
    "import numpy as np\n",
    "import seaborn as sns\n",
    "import os\n",
    "from collections import Counter\n",
    "np.random.seed(0)\n",
    "\n",
    "# Keras imports\n",
    "import keras\n",
    "from keras.preprocessing.sequence import pad_sequences\n",
    "from keras.layers import Input, Dense, LSTM, GRU, Embedding\n",
    "from keras.layers import Activation, Bidirectional, GlobalMaxPool1D, GlobalMaxPool2D, Dropout\n",
    "from keras.models import Model\n",
    "from keras import initializers, regularizers, constraints, optimizers, layers\n",
    "from tensorflow.keras.preprocessing import text, sequence\n",
    "from keras.callbacks import ModelCheckpoint, EarlyStopping\n",
    "from keras.optimizers import RMSprop, Adam\n",
    "from keras.initializers import Constant\n",
    "from scikeras.wrappers import KerasClassifier\n",
    "\n",
    "# Text processing usint nltk\n",
    "import nltk\n",
    "from nltk.corpus import stopwords\n",
    "from nltk.tokenize import word_tokenize\n",
    "from nltk.stem import WordNetLemmatizer, PorterStemmer\n",
    "\n",
    "# Transformer models\n",
    "import transformers\n",
    "from transformers import AutoTokenizer\n",
    "from tokenizers import BertWordPieceTokenizer\n",
    "\n",
    "# sklearn modules\n",
    "from sklearn.model_selection import GridSearchCV\n",
    "from sklearn.metrics import accuracy_score"
   ]
  },
  {
   "cell_type": "code",
   "execution_count": 4,
   "metadata": {},
   "outputs": [],
   "source": [
    "# # To download necesasry nltk data\n",
    "# ## Used: 'stopwords', 'punkt', 'punkt_tab', 'wordnet'\n",
    "# import nltk\n",
    "# nltk.download('wordnet')"
   ]
  },
  {
   "cell_type": "code",
   "execution_count": 5,
   "metadata": {},
   "outputs": [],
   "source": [
    "stop = set(stopwords.words('english'))"
   ]
  },
  {
   "cell_type": "markdown",
   "metadata": {},
   "source": [
    "## Stemmers vs. Lemmatizers\n",
    "\n",
    "* _Stemmers:_ Remove common suffixes from the end of a word token (e.g change, changing, changes -> chang)\n",
    "* _Lemmatization:_ Integrates meaning into the word representation based on the context and type of word (e.g information -> information, informative -> informative)\n",
    "\n",
    "Lemmatizers generally provide a better interpretation of the words, but require a encoding space, since there are more words that are different representations\n",
    "\n",
    "* `WordNetLemmatizer` - The `WordNet` dataset trained lemmatizer\n",
    "* `PorterStemmer` - Implements the stemmer to provide  standardised word format"
   ]
  },
  {
   "cell_type": "markdown",
   "metadata": {},
   "source": [
    "## Data Processing\n",
    "\n",
    "Steps of data cleaning:\n",
    "1. Remove NaN values\n",
    "2. Remove website urls, non-characters and replace swear words\n",
    "3. Remove HTML\n",
    "4. Remove Emojis\n",
    "5. Remove characters from words that have repeated characters (>3)"
   ]
  },
  {
   "cell_type": "code",
   "execution_count": null,
   "metadata": {},
   "outputs": [],
   "source": [
    "def basic_cleaning(text: str):\n",
    "  \"\"\"\n",
    "  - Removes url details\n",
    "  - Removes single characters\n",
    "  - Replaces censored words (****) with \"swear\"\n",
    "\n",
    "  Args:\n",
    "      text (str): Text to be cleaned\n",
    "\n",
    "  Returns:\n",
    "      text: Cleaned text\n",
    "  \"\"\"\n",
    "  text = re.sub(r\"http:?//www.\\.\\S+\\.com\", '', text)\n",
    "  text = re.sub(r\"[^A-Za-z\\s]\", '', text)\n",
    "  text = re.sub(r\"\\*+\", 'swear', text) # capture words that are censored\n",
    "  return text\n",
    "\n",
    "def remove_html(text: str):\n",
    "  \"\"\"Removes html tags\n",
    "\n",
    "  Args:\n",
    "      text (str): Text to be cleaned\n",
    "\n",
    "  Returns:\n",
    "      (str): Text without HTML tags\n",
    "  \"\"\"\n",
    "  html = re.compile(r\"<.*?>\")\n",
    "  return html.sub(r'', text)\n",
    "\n",
    "def remove_emoji(text: str):\n",
    "  \"\"\"Remove emojis from text\n",
    "\n",
    "  Args:\n",
    "      text (str): Text to be cleaned\n",
    "\n",
    "  Returns:\n",
    "      (str): Text without emojis\n",
    "  \"\"\"\n",
    "  emoji_pattern = re.compile(\"[\"\n",
    "                           u\"\\U0001F600-\\U0001F64F\"  # emoticons\n",
    "                           u\"\\U0001F300-\\U0001F5FF\"  # symbols & pictographs\n",
    "                           u\"\\U0001F680-\\U0001F6FF\"  # transport & map symbols\n",
    "                           u\"\\U0001F1E0-\\U0001F1FF\"  # flags (iOS)\n",
    "                           u\"\\U00002702-\\U000027B0\"\n",
    "                           u\"\\U000024C2-\\U0001F251\"\n",
    "                           \"]+\", flags=re.UNICODE)\n",
    "  return emoji_pattern.sub(r'', text)\n",
    "\n",
    "def remove_multiplechars(text: str):\n",
    "    \"\"\"Remove multiple instances of the same character\n",
    "\n",
    "    Args:\n",
    "        text (str): Text to be cleaned\n",
    "\n",
    "    Returns:\n",
    "        (str): Text that have multiple characters, repeated characters are removed\n",
    "    \"\"\"\n",
    "    text = re.sub(r'(.)\\1{3,}', r'\\1', text)\n",
    "    return text\n",
    "\n",
    "def clean(df: pd.DataFrame):\n",
    "    \"\"\"\n",
    "    Apply the cleaning functions above to a dataframe\n",
    "    \"\"\"\n",
    "    for col in ['text']:\n",
    "        df[col] = df[col].astype(str).apply(lambda x:basic_cleaning(x))\n",
    "        df[col] = df[col].astype(str).apply(lambda x:remove_emoji(x))\n",
    "        df[col] = df[col].astype(str).apply(lambda x:remove_html(x))\n",
    "        df[col] = df[col].astype(str).apply(lambda x:remove_multiplechars(x))\n",
    "\n",
    "    return df\n",
    "\n",
    "def fast_encode(\n",
    "    text: str,\n",
    "    tokenizer,\n",
    "    chunk_size: int=256,\n",
    "    maxlen: int=128\n",
    "):\n",
    "    \"\"\"Applies tokeniser to encode text into batches of fixed size\n",
    "    - Applies truncation and padding to ensure fixed length\n",
    "    - Tokenises the texts in chunks based on the chunk_size\n",
    "    - Sentences that are longer than the chunk_size are split into separate lists\n",
    "\n",
    "    Args:\n",
    "        text (str): Text to be processed\n",
    "        tokenizer (Tokenizer): Tokeniser used\n",
    "        chunk_size (int, optional): Number of words per batch. Defaults to 256.\n",
    "        maxlen (int, optional): Maximum length per sentence. Defaults to 128.\n",
    "\n",
    "    Returns:\n",
    "        (np.array): Array of tokenized sentences, split by max length of chunks\n",
    "    \"\"\"\n",
    "    tokenizer.enable_truncation(max_length=maxlen)\n",
    "    tokenizer.enable_padding(length=maxlen)\n",
    "    all_ids = []\n",
    "\n",
    "    for i in range(0, len(text), chunk_size):\n",
    "        text_chunk = text[i:i+chunk_size].tolist()\n",
    "        enc = tokenizer.encode_batch(text_chunk)\n",
    "        all_ids.extend([enc.ids for enc in enc])\n",
    "    return np.array(all_ids)\n",
    "\n",
    "def preprocess_news(\n",
    "    df: pd.DataFrame,\n",
    "    stop: list,\n",
    "    n: int=1,\n",
    "    col: str='text'\n",
    "):\n",
    "    \"\"\"Preprocess dataframe and create corpus\n",
    "\n",
    "    Args:\n",
    "        df (pd.DataFrame): Dataframe containing texts to be transformed\n",
    "        stop (list): List of stopwords\n",
    "        n (int, optional): Number of words to be lemmatised at one go. Defaults to 1.\n",
    "        col (str, optional): Columns of text values. Defaults to 'text'.\n",
    "\n",
    "    Returns:\n",
    "        _type_: _description_\n",
    "    \"\"\"\n",
    "    new_corpus = []\n",
    "    stem = PorterStemmer()\n",
    "    lem = WordNetLemmatizer()\n",
    "    \n",
    "    for text in df[col]:\n",
    "        words = [w for w in word_tokenize(text) if (w not in stop)]\n",
    "        words = [lem.lemmatize(w) for w in words if(len(w) > n)]\n",
    "        new_corpus.append(words)\n",
    "    \n",
    "    new_corpus = [word for l in new_corpus for word in l]\n",
    "    return new_corpus"
   ]
  },
  {
   "cell_type": "code",
   "execution_count": 7,
   "metadata": {},
   "outputs": [
    {
     "data": {
      "text/html": [
       "<div>\n",
       "<style scoped>\n",
       "    .dataframe tbody tr th:only-of-type {\n",
       "        vertical-align: middle;\n",
       "    }\n",
       "\n",
       "    .dataframe tbody tr th {\n",
       "        vertical-align: top;\n",
       "    }\n",
       "\n",
       "    .dataframe thead th {\n",
       "        text-align: right;\n",
       "    }\n",
       "</style>\n",
       "<table border=\"1\" class=\"dataframe\">\n",
       "  <thead>\n",
       "    <tr style=\"text-align: right;\">\n",
       "      <th></th>\n",
       "      <th>textID</th>\n",
       "      <th>text</th>\n",
       "      <th>selected_text</th>\n",
       "      <th>sentiment</th>\n",
       "    </tr>\n",
       "  </thead>\n",
       "  <tbody>\n",
       "    <tr>\n",
       "      <th>0</th>\n",
       "      <td>cb774db0d1</td>\n",
       "      <td>I`d have responded, if I were going</td>\n",
       "      <td>I`d have responded, if I were going</td>\n",
       "      <td>neutral</td>\n",
       "    </tr>\n",
       "    <tr>\n",
       "      <th>1</th>\n",
       "      <td>549e992a42</td>\n",
       "      <td>Sooo SAD I will miss you here in San Diego!!!</td>\n",
       "      <td>Sooo SAD</td>\n",
       "      <td>negative</td>\n",
       "    </tr>\n",
       "    <tr>\n",
       "      <th>2</th>\n",
       "      <td>088c60f138</td>\n",
       "      <td>my boss is bullying me...</td>\n",
       "      <td>bullying me</td>\n",
       "      <td>negative</td>\n",
       "    </tr>\n",
       "    <tr>\n",
       "      <th>3</th>\n",
       "      <td>9642c003ef</td>\n",
       "      <td>what interview! leave me alone</td>\n",
       "      <td>leave me alone</td>\n",
       "      <td>negative</td>\n",
       "    </tr>\n",
       "    <tr>\n",
       "      <th>4</th>\n",
       "      <td>358bd9e861</td>\n",
       "      <td>Sons of ****, why couldn`t they put them on t...</td>\n",
       "      <td>Sons of ****,</td>\n",
       "      <td>negative</td>\n",
       "    </tr>\n",
       "  </tbody>\n",
       "</table>\n",
       "</div>"
      ],
      "text/plain": [
       "       textID                                               text  \\\n",
       "0  cb774db0d1                I`d have responded, if I were going   \n",
       "1  549e992a42      Sooo SAD I will miss you here in San Diego!!!   \n",
       "2  088c60f138                          my boss is bullying me...   \n",
       "3  9642c003ef                     what interview! leave me alone   \n",
       "4  358bd9e861   Sons of ****, why couldn`t they put them on t...   \n",
       "\n",
       "                         selected_text sentiment  \n",
       "0  I`d have responded, if I were going   neutral  \n",
       "1                             Sooo SAD  negative  \n",
       "2                          bullying me  negative  \n",
       "3                       leave me alone  negative  \n",
       "4                        Sons of ****,  negative  "
      ]
     },
     "execution_count": 7,
     "metadata": {},
     "output_type": "execute_result"
    }
   ],
   "source": [
    "df = pd.read_csv(\"../data/sentiment/train.csv\")\n",
    "df = df.dropna()\n",
    "df.head()"
   ]
  },
  {
   "cell_type": "code",
   "execution_count": 8,
   "metadata": {},
   "outputs": [],
   "source": [
    "# Apply the processing\n",
    "df_clean = clean(df)"
   ]
  },
  {
   "cell_type": "markdown",
   "metadata": {},
   "source": [
    "## EDA"
   ]
  },
  {
   "cell_type": "code",
   "execution_count": 9,
   "metadata": {},
   "outputs": [
    {
     "data": {
      "text/plain": [
       "(27480, 4)"
      ]
     },
     "execution_count": 9,
     "metadata": {},
     "output_type": "execute_result"
    }
   ],
   "source": [
    "df_clean.shape"
   ]
  },
  {
   "cell_type": "code",
   "execution_count": 10,
   "metadata": {},
   "outputs": [
    {
     "data": {
      "text/plain": [
       "Text(0, 0.5, 'Tweet Count')"
      ]
     },
     "execution_count": 10,
     "metadata": {},
     "output_type": "execute_result"
    },
    {
     "data": {
      "image/png": "[encoded data removed]",
      "text/plain": [
       "<Figure size 640x480 with 1 Axes>"
      ]
     },
     "metadata": {},
     "output_type": "display_data"
    }
   ],
   "source": [
    "# Distribution of tweets by sentiment\n",
    "colours = ['orange', 'red', 'green']\n",
    "plt.bar(df['sentiment'].unique(), df['sentiment'].value_counts(), color=colours)\n",
    "plt.xlabel('Tweet Sentiment')\n",
    "plt.ylabel('Tweet Count')"
   ]
  },
  {
   "cell_type": "code",
   "execution_count": 11,
   "metadata": {},
   "outputs": [
    {
     "data": {
      "text/plain": [
       "Text(0.5, 0.98, 'Distribution of number Words in Tweets')"
      ]
     },
     "execution_count": 11,
     "metadata": {},
     "output_type": "execute_result"
    },
    {
     "data": {
      "image/png": "[encoded data removed]",
      "text/plain": [
       "<Figure size 1200x600 with 3 Axes>"
      ]
     },
     "metadata": {},
     "output_type": "display_data"
    }
   ],
   "source": [
    "# Distribution of lenght of tweet by sentiment\n",
    "sent = df['sentiment'].unique()\n",
    "fig, ax = plt.subplots(nrows=1, ncols=3, figsize=(12, 6), sharey=True)\n",
    "\n",
    "for i in range(3):\n",
    "  lengths = df_clean[df_clean['sentiment'] == sent[i]]['text'].str.split().str.len()\n",
    "  ax[i].boxplot(lengths)\n",
    "  ax[i].set_title(sent[i])\n",
    "ax[0].set_ylabel('Number of words in Tweet')\n",
    "fig.suptitle(\"Distribution of number Words in Tweets\", fontsize=14)"
   ]
  },
  {
   "cell_type": "code",
   "execution_count": 12,
   "metadata": {},
   "outputs": [
    {
     "data": {
      "text/plain": [
       "Text(0.5, 0.98, 'Common words in tweet text')"
      ]
     },
     "execution_count": 12,
     "metadata": {},
     "output_type": "execute_result"
    },
    {
     "data": {
      "image/png": "[encoded data removed]",
      "text/plain": [
       "<Figure size 1200x600 with 3 Axes>"
      ]
     },
     "metadata": {},
     "output_type": "display_data"
    }
   ],
   "source": [
    "# Most common words taht appear in the top 10 from all the groups\n",
    "fig, ax = plt.subplots(nrows=1, ncols=3, figsize=(12, 6))\n",
    "for i in range(3):\n",
    "  plots = df_clean[df_clean['sentiment'] == sent[i]]\n",
    "  corpus_train = preprocess_news(plots, stop, n=3)\n",
    "  counter = Counter(corpus_train)\n",
    "  most = counter.most_common()\n",
    "  x = []\n",
    "  y = []\n",
    "  for word, count in most[:10]:\n",
    "    if word not in stop:\n",
    "      x.append(word)\n",
    "      y.append(count)\n",
    "\n",
    "  sns.barplot(x=y, y=x, ax=ax[i], color=colours[i])\n",
    "  ax[i].set_title(sent[i], color=colours[i])\n",
    "fig.suptitle(\"Common words in tweet text\")"
   ]
  },
  {
   "cell_type": "markdown",
   "metadata": {},
   "source": [
    "## Preprocessing\n",
    "\n",
    "One-hot encoding for labels"
   ]
  },
  {
   "cell_type": "code",
   "execution_count": 13,
   "metadata": {},
   "outputs": [],
   "source": [
    "df_clean_selection = df_clean.sample(frac=1)\n",
    "X = df_clean_selection.text.values\n",
    "y = pd.get_dummies(df_clean_selection['sentiment'])"
   ]
  },
  {
   "cell_type": "code",
   "execution_count": 17,
   "metadata": {},
   "outputs": [],
   "source": [
    "tokeniser = text.Tokenizer(num_words=20000) # limit the number of words used to reduce memory usage\n",
    "tokeniser.fit_on_texts(list(X))\n",
    "list_tokenized_train = tokeniser.texts_to_sequences(X)\n",
    "X_t = sequence.pad_sequences(list_tokenized_train, maxlen=128) # Max sequence length = 128"
   ]
  },
  {
   "cell_type": "markdown",
   "metadata": {},
   "source": [
    "## Model: DistilBert\n",
    "\n",
    "`DistilBert`: Light version of BERT. Contains a tokenizer and an embedding matrix. Reduces the number of parameters by 60%, but maintains 97% performance against the original BERT model\n",
    "\n",
    "Will not be retraining the model"
   ]
  },
  {
   "cell_type": "code",
   "execution_count": 23,
   "metadata": {},
   "outputs": [
    {
     "data": {
      "text/plain": [
       "Tokenizer(vocabulary_size=30522, model=BertWordPiece, unk_token=[UNK], sep_token=[SEP], cls_token=[CLS], pad_token=[PAD], mask_token=[MASK], clean_text=True, handle_chinese_chars=True, strip_accents=None, lowercase=True, wordpieces_prefix=##)"
      ]
     },
     "execution_count": 23,
     "metadata": {},
     "output_type": "execute_result"
    }
   ],
   "source": [
    "tokeniser = AutoTokenizer.from_pretrained(\"distilbert/distilbert-base-uncased\")\n",
    "\n",
    "# Save the loaded tokeniser locally\n",
    "save_path = \"./models/distilbert_base_uncased\"\n",
    "if not os.path.exists(save_path):\n",
    "  os.makedirs(save_path)\n",
    "tokeniser.save_pretrained(save_path)\n",
    "\n",
    "# Reload with the huggingface tokenizer library\n",
    "fast_tokeniser = BertWordPieceTokenizer('models/distilbert_base_uncased/vocab.txt', lowercase=True)\n",
    "fast_tokeniser"
   ]
  },
  {
   "cell_type": "code",
   "execution_count": 28,
   "metadata": {},
   "outputs": [
    {
     "data": {
      "text/plain": [
       "(27480, 128)"
      ]
     },
     "execution_count": 28,
     "metadata": {},
     "output_type": "execute_result"
    }
   ],
   "source": [
    "# Encode data\n",
    "X = fast_encode(df_clean_selection.text.astype(str), fast_tokeniser, maxlen=128)\n",
    "X.shape"
   ]
  },
  {
   "cell_type": "code",
   "execution_count": 32,
   "metadata": {},
   "outputs": [
    {
     "name": "stderr",
     "output_type": "stream",
     "text": [
      "I0000 00:00:1741604515.058069    1446 gpu_device.cc:2022] Created device /job:localhost/replica:0/task:0/device:GPU:0 with 9558 MB memory:  -> device: 0, name: NVIDIA GeForce RTX 4070, pci bus id: 0000:01:00.0, compute capability: 8.9\n",
      "Some weights of the PyTorch model were not used when initializing the TF 2.0 model TFDistilBertModel: ['vocab_layer_norm.bias', 'vocab_transform.bias', 'vocab_layer_norm.weight', 'vocab_projector.bias', 'vocab_transform.weight']\n",
      "- This IS expected if you are initializing TFDistilBertModel from a PyTorch model trained on another task or with another architecture (e.g. initializing a TFBertForSequenceClassification model from a BertForPreTraining model).\n",
      "- This IS NOT expected if you are initializing TFDistilBertModel from a PyTorch model that you expect to be exactly identical (e.g. initializing a TFBertForSequenceClassification model from a BertForSequenceClassification model).\n",
      "All the weights of TFDistilBertModel were initialized from the PyTorch model.\n",
      "If your task is similar to the task the model of the checkpoint was trained on, you can already use TFDistilBertModel for predictions without further training.\n"
     ]
    }
   ],
   "source": [
    "# Initialise transformer layer\n",
    "transformer_layer = transformers.TFDistilBertModel.from_pretrained('distilbert-base-uncased')"
   ]
  },
  {
   "cell_type": "code",
   "execution_count": 37,
   "metadata": {},
   "outputs": [],
   "source": [
    "embedding_size = 128\n",
    "input_ = Input(shape=(100,))\n",
    "\n",
    "inp = Input(shape=(128, ))\n",
    "\n",
    "embedding_matrix = transformer_layer.weights[0].numpy()\n",
    "\n",
    "# Create the model architecture\n",
    "x = Embedding(\n",
    "  embedding_matrix.shape[0],\n",
    "  embedding_matrix.shape[1],\n",
    "  embeddings_initializer=Constant(embedding_matrix),\n",
    "  trainable=False\n",
    ")(inp)\n",
    "x = Bidirectional(LSTM(50, return_sequences=True))(x)\n",
    "x = Bidirectional(LSTM(25, return_sequences=True))(x)\n",
    "x = GlobalMaxPool1D()(x)\n",
    "x = Dropout(0.5)(x)\n",
    "x = Dense(50, activation='relu', kernel_regularizer='L1L2')(x)\n",
    "x = Dropout(0.5)(x)\n",
    "x = Dense(3, activation='softmax')(x)\n",
    "\n",
    "model_distilbert = Model(inputs=[inp], outputs=x)"
   ]
  },
  {
   "cell_type": "code",
   "execution_count": 38,
   "metadata": {},
   "outputs": [
    {
     "data": {
      "text/html": [
       "<pre style=\"white-space:pre;overflow-x:auto;line-height:normal;font-family:Menlo,'DejaVu Sans Mono',consolas,'Courier New',monospace\"><span style=\"font-weight: bold\">Model: \"functional\"</span>\n",
       "</pre>\n"
      ],
      "text/plain": [
       "\u001b[1mModel: \"functional\"\u001b[0m\n"
      ]
     },
     "metadata": {},
     "output_type": "display_data"
    },
    {
     "data": {
      "text/html": [
       "<pre style=\"white-space:pre;overflow-x:auto;line-height:normal;font-family:Menlo,'DejaVu Sans Mono',consolas,'Courier New',monospace\">┏━━━━━━━━━━━━━━━━━━━━━━━━━━━━━━━━━┳━━━━━━━━━━━━━━━━━━━━━━━━┳━━━━━━━━━━━━━━━┓\n",
       "┃<span style=\"font-weight: bold\"> Layer (type)                    </span>┃<span style=\"font-weight: bold\"> Output Shape           </span>┃<span style=\"font-weight: bold\">       Param # </span>┃\n",
       "┡━━━━━━━━━━━━━━━━━━━━━━━━━━━━━━━━━╇━━━━━━━━━━━━━━━━━━━━━━━━╇━━━━━━━━━━━━━━━┩\n",
       "│ input_layer_5 (<span style=\"color: #0087ff; text-decoration-color: #0087ff\">InputLayer</span>)      │ (<span style=\"color: #00d7ff; text-decoration-color: #00d7ff\">None</span>, <span style=\"color: #00af00; text-decoration-color: #00af00\">128</span>)            │             <span style=\"color: #00af00; text-decoration-color: #00af00\">0</span> │\n",
       "├─────────────────────────────────┼────────────────────────┼───────────────┤\n",
       "│ embedding_1 (<span style=\"color: #0087ff; text-decoration-color: #0087ff\">Embedding</span>)         │ (<span style=\"color: #00d7ff; text-decoration-color: #00d7ff\">None</span>, <span style=\"color: #00af00; text-decoration-color: #00af00\">128</span>, <span style=\"color: #00af00; text-decoration-color: #00af00\">768</span>)       │    <span style=\"color: #00af00; text-decoration-color: #00af00\">23,440,896</span> │\n",
       "├─────────────────────────────────┼────────────────────────┼───────────────┤\n",
       "│ bidirectional (<span style=\"color: #0087ff; text-decoration-color: #0087ff\">Bidirectional</span>)   │ (<span style=\"color: #00d7ff; text-decoration-color: #00d7ff\">None</span>, <span style=\"color: #00af00; text-decoration-color: #00af00\">128</span>, <span style=\"color: #00af00; text-decoration-color: #00af00\">100</span>)       │       <span style=\"color: #00af00; text-decoration-color: #00af00\">327,600</span> │\n",
       "├─────────────────────────────────┼────────────────────────┼───────────────┤\n",
       "│ bidirectional_1 (<span style=\"color: #0087ff; text-decoration-color: #0087ff\">Bidirectional</span>) │ (<span style=\"color: #00d7ff; text-decoration-color: #00d7ff\">None</span>, <span style=\"color: #00af00; text-decoration-color: #00af00\">128</span>, <span style=\"color: #00af00; text-decoration-color: #00af00\">50</span>)        │        <span style=\"color: #00af00; text-decoration-color: #00af00\">25,200</span> │\n",
       "├─────────────────────────────────┼────────────────────────┼───────────────┤\n",
       "│ global_max_pooling1d            │ (<span style=\"color: #00d7ff; text-decoration-color: #00d7ff\">None</span>, <span style=\"color: #00af00; text-decoration-color: #00af00\">50</span>)             │             <span style=\"color: #00af00; text-decoration-color: #00af00\">0</span> │\n",
       "│ (<span style=\"color: #0087ff; text-decoration-color: #0087ff\">GlobalMaxPooling1D</span>)            │                        │               │\n",
       "├─────────────────────────────────┼────────────────────────┼───────────────┤\n",
       "│ dropout (<span style=\"color: #0087ff; text-decoration-color: #0087ff\">Dropout</span>)               │ (<span style=\"color: #00d7ff; text-decoration-color: #00d7ff\">None</span>, <span style=\"color: #00af00; text-decoration-color: #00af00\">50</span>)             │             <span style=\"color: #00af00; text-decoration-color: #00af00\">0</span> │\n",
       "├─────────────────────────────────┼────────────────────────┼───────────────┤\n",
       "│ dense (<span style=\"color: #0087ff; text-decoration-color: #0087ff\">Dense</span>)                   │ (<span style=\"color: #00d7ff; text-decoration-color: #00d7ff\">None</span>, <span style=\"color: #00af00; text-decoration-color: #00af00\">50</span>)             │         <span style=\"color: #00af00; text-decoration-color: #00af00\">2,550</span> │\n",
       "├─────────────────────────────────┼────────────────────────┼───────────────┤\n",
       "│ dropout_1 (<span style=\"color: #0087ff; text-decoration-color: #0087ff\">Dropout</span>)             │ (<span style=\"color: #00d7ff; text-decoration-color: #00d7ff\">None</span>, <span style=\"color: #00af00; text-decoration-color: #00af00\">50</span>)             │             <span style=\"color: #00af00; text-decoration-color: #00af00\">0</span> │\n",
       "├─────────────────────────────────┼────────────────────────┼───────────────┤\n",
       "│ dense_1 (<span style=\"color: #0087ff; text-decoration-color: #0087ff\">Dense</span>)                 │ (<span style=\"color: #00d7ff; text-decoration-color: #00d7ff\">None</span>, <span style=\"color: #00af00; text-decoration-color: #00af00\">3</span>)              │           <span style=\"color: #00af00; text-decoration-color: #00af00\">153</span> │\n",
       "└─────────────────────────────────┴────────────────────────┴───────────────┘\n",
       "</pre>\n"
      ],
      "text/plain": [
       "┏━━━━━━━━━━━━━━━━━━━━━━━━━━━━━━━━━┳━━━━━━━━━━━━━━━━━━━━━━━━┳━━━━━━━━━━━━━━━┓\n",
       "┃\u001b[1m \u001b[0m\u001b[1mLayer (type)                   \u001b[0m\u001b[1m \u001b[0m┃\u001b[1m \u001b[0m\u001b[1mOutput Shape          \u001b[0m\u001b[1m \u001b[0m┃\u001b[1m \u001b[0m\u001b[1m      Param #\u001b[0m\u001b[1m \u001b[0m┃\n",
       "┡━━━━━━━━━━━━━━━━━━━━━━━━━━━━━━━━━╇━━━━━━━━━━━━━━━━━━━━━━━━╇━━━━━━━━━━━━━━━┩\n",
       "│ input_layer_5 (\u001b[38;5;33mInputLayer\u001b[0m)      │ (\u001b[38;5;45mNone\u001b[0m, \u001b[38;5;34m128\u001b[0m)            │             \u001b[38;5;34m0\u001b[0m │\n",
       "├─────────────────────────────────┼────────────────────────┼───────────────┤\n",
       "│ embedding_1 (\u001b[38;5;33mEmbedding\u001b[0m)         │ (\u001b[38;5;45mNone\u001b[0m, \u001b[38;5;34m128\u001b[0m, \u001b[38;5;34m768\u001b[0m)       │    \u001b[38;5;34m23,440,896\u001b[0m │\n",
       "├─────────────────────────────────┼────────────────────────┼───────────────┤\n",
       "│ bidirectional (\u001b[38;5;33mBidirectional\u001b[0m)   │ (\u001b[38;5;45mNone\u001b[0m, \u001b[38;5;34m128\u001b[0m, \u001b[38;5;34m100\u001b[0m)       │       \u001b[38;5;34m327,600\u001b[0m │\n",
       "├─────────────────────────────────┼────────────────────────┼───────────────┤\n",
       "│ bidirectional_1 (\u001b[38;5;33mBidirectional\u001b[0m) │ (\u001b[38;5;45mNone\u001b[0m, \u001b[38;5;34m128\u001b[0m, \u001b[38;5;34m50\u001b[0m)        │        \u001b[38;5;34m25,200\u001b[0m │\n",
       "├─────────────────────────────────┼────────────────────────┼───────────────┤\n",
       "│ global_max_pooling1d            │ (\u001b[38;5;45mNone\u001b[0m, \u001b[38;5;34m50\u001b[0m)             │             \u001b[38;5;34m0\u001b[0m │\n",
       "│ (\u001b[38;5;33mGlobalMaxPooling1D\u001b[0m)            │                        │               │\n",
       "├─────────────────────────────────┼────────────────────────┼───────────────┤\n",
       "│ dropout (\u001b[38;5;33mDropout\u001b[0m)               │ (\u001b[38;5;45mNone\u001b[0m, \u001b[38;5;34m50\u001b[0m)             │             \u001b[38;5;34m0\u001b[0m │\n",
       "├─────────────────────────────────┼────────────────────────┼───────────────┤\n",
       "│ dense (\u001b[38;5;33mDense\u001b[0m)                   │ (\u001b[38;5;45mNone\u001b[0m, \u001b[38;5;34m50\u001b[0m)             │         \u001b[38;5;34m2,550\u001b[0m │\n",
       "├─────────────────────────────────┼────────────────────────┼───────────────┤\n",
       "│ dropout_1 (\u001b[38;5;33mDropout\u001b[0m)             │ (\u001b[38;5;45mNone\u001b[0m, \u001b[38;5;34m50\u001b[0m)             │             \u001b[38;5;34m0\u001b[0m │\n",
       "├─────────────────────────────────┼────────────────────────┼───────────────┤\n",
       "│ dense_1 (\u001b[38;5;33mDense\u001b[0m)                 │ (\u001b[38;5;45mNone\u001b[0m, \u001b[38;5;34m3\u001b[0m)              │           \u001b[38;5;34m153\u001b[0m │\n",
       "└─────────────────────────────────┴────────────────────────┴───────────────┘\n"
      ]
     },
     "metadata": {},
     "output_type": "display_data"
    },
    {
     "data": {
      "text/html": [
       "<pre style=\"white-space:pre;overflow-x:auto;line-height:normal;font-family:Menlo,'DejaVu Sans Mono',consolas,'Courier New',monospace\"><span style=\"font-weight: bold\"> Total params: </span><span style=\"color: #00af00; text-decoration-color: #00af00\">23,796,399</span> (90.78 MB)\n",
       "</pre>\n"
      ],
      "text/plain": [
       "\u001b[1m Total params: \u001b[0m\u001b[38;5;34m23,796,399\u001b[0m (90.78 MB)\n"
      ]
     },
     "metadata": {},
     "output_type": "display_data"
    },
    {
     "data": {
      "text/html": [
       "<pre style=\"white-space:pre;overflow-x:auto;line-height:normal;font-family:Menlo,'DejaVu Sans Mono',consolas,'Courier New',monospace\"><span style=\"font-weight: bold\"> Trainable params: </span><span style=\"color: #00af00; text-decoration-color: #00af00\">355,503</span> (1.36 MB)\n",
       "</pre>\n"
      ],
      "text/plain": [
       "\u001b[1m Trainable params: \u001b[0m\u001b[38;5;34m355,503\u001b[0m (1.36 MB)\n"
      ]
     },
     "metadata": {},
     "output_type": "display_data"
    },
    {
     "data": {
      "text/html": [
       "<pre style=\"white-space:pre;overflow-x:auto;line-height:normal;font-family:Menlo,'DejaVu Sans Mono',consolas,'Courier New',monospace\"><span style=\"font-weight: bold\"> Non-trainable params: </span><span style=\"color: #00af00; text-decoration-color: #00af00\">23,440,896</span> (89.42 MB)\n",
       "</pre>\n"
      ],
      "text/plain": [
       "\u001b[1m Non-trainable params: \u001b[0m\u001b[38;5;34m23,440,896\u001b[0m (89.42 MB)\n"
      ]
     },
     "metadata": {},
     "output_type": "display_data"
    }
   ],
   "source": [
    "model_distilbert.summary()"
   ]
  },
  {
   "cell_type": "code",
   "execution_count": 41,
   "metadata": {},
   "outputs": [],
   "source": [
    "model_distilbert.compile(\n",
    "  loss='categorical_crossentropy',\n",
    "  optimizer='adam',\n",
    "  metrics=['accuracy']\n",
    ")"
   ]
  },
  {
   "cell_type": "code",
   "execution_count": 42,
   "metadata": {},
   "outputs": [
    {
     "name": "stdout",
     "output_type": "stream",
     "text": [
      "Epoch 1/10\n"
     ]
    },
    {
     "name": "stderr",
     "output_type": "stream",
     "text": [
      "/mnt/d/Software/venv/py310_env/lib/python3.10/site-packages/keras/src/models/functional.py:237: UserWarning: The structure of `inputs` doesn't match the expected structure.\n",
      "Expected: ['keras_tensor_5']\n",
      "Received: inputs=Tensor(shape=(None, 128))\n",
      "  warnings.warn(msg)\n",
      "I0000 00:00:1741604890.417917   13826 cuda_dnn.cc:529] Loaded cuDNN version 90300\n"
     ]
    },
    {
     "name": "stdout",
     "output_type": "stream",
     "text": [
      "\u001b[1m772/773\u001b[0m \u001b[32m━━━━━━━━━━━━━━━━━━━\u001b[0m\u001b[37m━\u001b[0m \u001b[1m0s\u001b[0m 28ms/step - accuracy: 0.3975 - loss: 1.0813"
     ]
    },
    {
     "name": "stderr",
     "output_type": "stream",
     "text": [
      "/mnt/d/Software/venv/py310_env/lib/python3.10/site-packages/keras/src/models/functional.py:237: UserWarning: The structure of `inputs` doesn't match the expected structure.\n",
      "Expected: ['keras_tensor_5']\n",
      "Received: inputs=Tensor(shape=(None, 128))\n",
      "  warnings.warn(msg)\n"
     ]
    },
    {
     "name": "stdout",
     "output_type": "stream",
     "text": [
      "\u001b[1m773/773\u001b[0m \u001b[32m━━━━━━━━━━━━━━━━━━━━\u001b[0m\u001b[37m\u001b[0m \u001b[1m26s\u001b[0m 29ms/step - accuracy: 0.3977 - loss: 1.0811 - val_accuracy: 0.6474 - val_loss: 0.7795\n",
      "Epoch 2/10\n",
      "\u001b[1m773/773\u001b[0m \u001b[32m━━━━━━━━━━━━━━━━━━━━\u001b[0m\u001b[37m\u001b[0m \u001b[1m22s\u001b[0m 29ms/step - accuracy: 0.6780 - loss: 0.7607 - val_accuracy: 0.7314 - val_loss: 0.6332\n",
      "Epoch 3/10\n",
      "\u001b[1m773/773\u001b[0m \u001b[32m━━━━━━━━━━━━━━━━━━━━\u001b[0m\u001b[37m\u001b[0m \u001b[1m23s\u001b[0m 30ms/step - accuracy: 0.7353 - loss: 0.6522 - val_accuracy: 0.7434 - val_loss: 0.6219\n",
      "Epoch 4/10\n",
      "\u001b[1m773/773\u001b[0m \u001b[32m━━━━━━━━━━━━━━━━━━━━\u001b[0m\u001b[37m\u001b[0m \u001b[1m24s\u001b[0m 31ms/step - accuracy: 0.7494 - loss: 0.6227 - val_accuracy: 0.7500 - val_loss: 0.6112\n",
      "Epoch 5/10\n",
      "\u001b[1m773/773\u001b[0m \u001b[32m━━━━━━━━━━━━━━━━━━━━\u001b[0m\u001b[37m\u001b[0m \u001b[1m23s\u001b[0m 29ms/step - accuracy: 0.7632 - loss: 0.6008 - val_accuracy: 0.7547 - val_loss: 0.5813\n",
      "Epoch 6/10\n",
      "\u001b[1m773/773\u001b[0m \u001b[32m━━━━━━━━━━━━━━━━━━━━\u001b[0m\u001b[37m\u001b[0m \u001b[1m23s\u001b[0m 29ms/step - accuracy: 0.7717 - loss: 0.5814 - val_accuracy: 0.7558 - val_loss: 0.5885\n",
      "Epoch 7/10\n",
      "\u001b[1m773/773\u001b[0m \u001b[32m━━━━━━━━━━━━━━━━━━━━\u001b[0m\u001b[37m\u001b[0m \u001b[1m22s\u001b[0m 28ms/step - accuracy: 0.7760 - loss: 0.5572 - val_accuracy: 0.7493 - val_loss: 0.5905\n",
      "Epoch 8/10\n",
      "\u001b[1m773/773\u001b[0m \u001b[32m━━━━━━━━━━━━━━━━━━━━\u001b[0m\u001b[37m\u001b[0m \u001b[1m21s\u001b[0m 27ms/step - accuracy: 0.7910 - loss: 0.5377 - val_accuracy: 0.7576 - val_loss: 0.5815\n",
      "Epoch 9/10\n",
      "\u001b[1m773/773\u001b[0m \u001b[32m━━━━━━━━━━━━━━━━━━━━\u001b[0m\u001b[37m\u001b[0m \u001b[1m22s\u001b[0m 28ms/step - accuracy: 0.7931 - loss: 0.5279 - val_accuracy: 0.7471 - val_loss: 0.5998\n",
      "Epoch 10/10\n",
      "\u001b[1m773/773\u001b[0m \u001b[32m━━━━━━━━━━━━━━━━━━━━\u001b[0m\u001b[37m\u001b[0m \u001b[1m22s\u001b[0m 28ms/step - accuracy: 0.8051 - loss: 0.5058 - val_accuracy: 0.7464 - val_loss: 0.6085\n"
     ]
    },
    {
     "data": {
      "text/plain": [
       "<keras.src.callbacks.history.History at 0x7f7f7425c760>"
      ]
     },
     "execution_count": 42,
     "metadata": {},
     "output_type": "execute_result"
    }
   ],
   "source": [
    "model_distilbert.fit(\n",
    "  X,\n",
    "  y,\n",
    "  batch_size=32,\n",
    "  epochs=10,\n",
    "  validation_split=0.1\n",
    ")"
   ]
  },
  {
   "cell_type": "markdown",
   "metadata": {},
   "source": [
    "## Inference"
   ]
  },
  {
   "cell_type": "code",
   "execution_count": 43,
   "metadata": {},
   "outputs": [],
   "source": [
    "df_test = pd.read_csv('../data/sentiment/test.csv')\n",
    "df_test = df_test.dropna()\n",
    "df_clean_test = clean(df_test)\n",
    "\n",
    "X_test = fast_encode(df_clean_test.text.values.astype(str), fast_tokeniser, maxlen=128)\n",
    "y_test = df_clean_test['sentiment']"
   ]
  },
  {
   "cell_type": "code",
   "execution_count": 48,
   "metadata": {},
   "outputs": [
    {
     "name": "stdout",
     "output_type": "stream",
     "text": [
      "\u001b[1m111/111\u001b[0m \u001b[32m━━━━━━━━━━━━━━━━━━━━\u001b[0m\u001b[37m\u001b[0m \u001b[1m1s\u001b[0m 13ms/step\n",
      "Final accuracy: 0.76\n"
     ]
    }
   ],
   "source": [
    "y_preds = model_distilbert.predict(X_test)\n",
    "y_predictions = pd.DataFrame(y_preds, columns=['negative', 'neutral', 'positive'])\n",
    "y_predictions_final = y_predictions.idxmax(axis=1)\n",
    "accuracy = accuracy_score(y_test, y_predictions_final)\n",
    "\n",
    "print(f\"Final accuracy: {accuracy:.2f}\")"
   ]
  }
 ],
 "metadata": {
  "kernelspec": {
   "display_name": "py310_env",
   "language": "python",
   "name": "python3"
  },
  "language_info": {
   "codemirror_mode": {
    "name": "ipython",
    "version": 3
   },
   "file_extension": ".py",
   "mimetype": "text/x-python",
   "name": "python",
   "nbconvert_exporter": "python",
   "pygments_lexer": "ipython3",
   "version": "3.10.12"
  }
 },
 "nbformat": 4,
 "nbformat_minor": 2
}
